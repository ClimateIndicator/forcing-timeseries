{
 "cells": [
  {
   "cell_type": "markdown",
   "id": "0",
   "metadata": {},
   "source": [
    "# Calculate equivalent emissions from concentration time series"
   ]
  },
  {
   "cell_type": "code",
   "execution_count": null,
   "id": "1",
   "metadata": {},
   "outputs": [],
   "source": [
    "import os\n",
    "\n",
    "import matplotlib.pyplot as pl\n",
    "import numpy as np\n",
    "import pandas as pd\n",
    "from fair import FAIR, __version__\n",
    "from fair.interface import fill, initialise"
   ]
  },
  {
   "cell_type": "code",
   "execution_count": null,
   "id": "2",
   "metadata": {},
   "outputs": [],
   "source": [
    "# leverage fair's concentrations to emissions routines and include all minor species in concentration time series\n",
    "f = FAIR(temperature_prescribed=True)\n",
    "f.define_time(1750, 2023, 1)\n",
    "f.define_scenarios([\"historical\"])\n",
    "f.define_configs([\"historical\"])\n",
    "species = [\n",
    "    'HFC-134a', \n",
    "    'HFC-23',\n",
    "    'HFC-32',\n",
    "    'HFC-125',\n",
    "    'HFC-143a',\n",
    "    'HFC-152a',\n",
    "    'HFC-227ea',\n",
    "    'HFC-236fa',\n",
    "    'HFC-245fa',\n",
    "    'HFC-365mfc',\n",
    "    'HFC-43-10mee',\n",
    "    'NF3',\n",
    "    'SF6',\n",
    "    'SO2F2',\n",
    "    'CF4',\n",
    "    'C2F6',\n",
    "    'C3F8',\n",
    "    'c-C4F8',\n",
    "    'CFC-12',\n",
    "    'CFC-11',\n",
    "    'CFC-113',\n",
    "    'CFC-114',\n",
    "    'CFC-115',\n",
    "    'CFC-13',\n",
    "    'HCFC-22',\n",
    "    'HCFC-141b',\n",
    "    'HCFC-142b',\n",
    "    'CH3CCl3',\n",
    "    'CCl4',\n",
    "    'CH3Cl',\n",
    "    'CH3Br',\n",
    "    'CH2Cl2',\n",
    "    'CHCl3',\n",
    "    'Halon-1211',\n",
    "    'Halon-1301',\n",
    "    'Halon-2402',\n",
    "    'n-C4F10',\n",
    "    'n-C5F12',\n",
    "    'n-C6F14',\n",
    "    'i-C6F14',\n",
    "    'C7F16',\n",
    "    'C8F18',\n",
    "    'CFC-112',\n",
    "    'CFC-112a',\n",
    "    'CFC-113a',\n",
    "    'CFC-114a',\n",
    "    'HCFC-133a',\n",
    "    'HCFC-31',\n",
    "    'HCFC-124'\n",
    "]"
   ]
  },
  {
   "cell_type": "code",
   "execution_count": null,
   "id": "3",
   "metadata": {},
   "outputs": [],
   "source": [
    "# since we only care about back-calculated emissions and not interactions or\n",
    "# climate effects, treat everything as an F-gas which is inert\n",
    "properties = {\n",
    "    specie: {\n",
    "        \"type\": \"f-gas\",\n",
    "        \"input_mode\": \"concentration\",\n",
    "        \"greenhouse_gas\": True,\n",
    "        \"aerosol_chemistry_from_emissions\": False,\n",
    "        \"aerosol_chemistry_from_concentration\": False,\n",
    "    }\n",
    "    for specie in species\n",
    "}"
   ]
  },
  {
   "cell_type": "code",
   "execution_count": null,
   "id": "4",
   "metadata": {},
   "outputs": [],
   "source": [
    "f.define_species(species, properties)\n",
    "f.allocate()"
   ]
  },
  {
   "cell_type": "code",
   "execution_count": null,
   "id": "5",
   "metadata": {},
   "outputs": [],
   "source": [
    "df_conc_obs=pd.read_csv('../output/ghg_concentrations_1750-2023.csv', index_col=0)"
   ]
  },
  {
   "cell_type": "code",
   "execution_count": null,
   "id": "6",
   "metadata": {},
   "outputs": [],
   "source": [
    "for year in range(1751, 1850):\n",
    "    df_conc_obs.loc[year, :] = np.nan\n",
    "df_conc_obs.sort_index(inplace=True)\n",
    "df_conc_obs.interpolate(inplace=True)"
   ]
  },
  {
   "cell_type": "code",
   "execution_count": null,
   "id": "7",
   "metadata": {},
   "outputs": [],
   "source": [
    "for specie in species:\n",
    "    f.concentration.loc[\n",
    "        dict(\n",
    "            timebounds=slice(1751, 2024),\n",
    "            specie=specie,\n",
    "            scenario=\"historical\",\n",
    "            config=\"historical\",\n",
    "        )\n",
    "    ] = 0.5 * (\n",
    "        df_conc_obs.loc[1750:2022, specie].values\n",
    "        + df_conc_obs.loc[1751:2023, specie].values\n",
    "    )\n",
    "    f.concentration.loc[\n",
    "        dict(\n",
    "            timebounds=1750,\n",
    "            specie=specie,\n",
    "            scenario=\"historical\",\n",
    "            config=\"historical\",\n",
    "        )\n",
    "    ] = df_conc_obs.loc[1750, specie]"
   ]
  },
  {
   "cell_type": "code",
   "execution_count": null,
   "id": "8",
   "metadata": {},
   "outputs": [],
   "source": [
    "mol_wt = {\n",
    "    'HFC-134a': 102.03, \n",
    "    'HFC-23': 78.014,\n",
    "    'HFC-32': 52.023,\n",
    "    'HFC-125': 120.02,\n",
    "    'HFC-143a': 84.04,\n",
    "    'HFC-152a': 66.05,\n",
    "    'HFC-227ea': 170.03,\n",
    "    'HFC-236fa': 152.04,\n",
    "    'HFC-245fa': 134.05,\n",
    "    'HFC-365mfc': 148.07,\n",
    "    'HFC-43-10mee': 252.05,\n",
    "    'NF3': 71.002,\n",
    "    'SF6': 146.06,\n",
    "    'SO2F2': 102.06,\n",
    "    'CF4': 88.004,\n",
    "    'C2F6': 138.01,\n",
    "    'C3F8': 188.02,\n",
    "    'c-C4F8': 200.03,\n",
    "    'CFC-12': 120.91,\n",
    "    'CFC-11': 137.36,\n",
    "    'CFC-113': 187.37,\n",
    "    'CFC-114': 170.92,\n",
    "    'CFC-115': 154.46,\n",
    "    'CFC-13': 104.46,\n",
    "    'HCFC-22': 86.47,\n",
    "    'HCFC-141b': 116.95,\n",
    "    'HCFC-142b': 100.49,\n",
    "    'CH3CCl3': 133.4,\n",
    "    'CCl4': 153.8,\n",
    "    'CH3Cl': 50.49,\n",
    "    'CH3Br': 94.94,\n",
    "    'CH2Cl2': 84.93,\n",
    "    'CHCl3': 119.37,\n",
    "    'Halon-1211': 165.36,\n",
    "    'Halon-1301': 148.91,\n",
    "    'Halon-2402': 259.82,\n",
    "    'n-C4F10': 238.03,\n",
    "    'n-C5F12': 288.03,\n",
    "    'n-C6F14': 338.04,\n",
    "    'i-C6F14': 338.04,\n",
    "    'C7F16': 388.05,\n",
    "    'C8F18': 438.06,\n",
    "    'CFC-112': 203.82,\n",
    "    'CFC-112a': 203.82,\n",
    "    'CFC-113a': 187.37,\n",
    "    'CFC-114a': 170.92,\n",
    "    'HCFC-133a': 118.48,\n",
    "    'HCFC-31': 68.48,\n",
    "    'HCFC-124': 136.47 \n",
    "}"
   ]
  },
  {
   "cell_type": "code",
   "execution_count": null,
   "id": "9",
   "metadata": {},
   "outputs": [],
   "source": [
    "lifetime = {\n",
    "    'HFC-134a': 14, \n",
    "    'HFC-23': 228,\n",
    "    'HFC-32': 5.4,\n",
    "    'HFC-125': 30,\n",
    "    'HFC-143a': 51,\n",
    "    'HFC-152a': 1.6,\n",
    "    'HFC-227ea': 36,\n",
    "    'HFC-236fa': 213,\n",
    "    'HFC-245fa': 7.9,\n",
    "    'HFC-365mfc': 8.9,\n",
    "    'HFC-43-10mee': 17,\n",
    "    'NF3': 569,\n",
    "    'SF6': 3200,\n",
    "    'SO2F2': 36,\n",
    "    'CF4': 50000,\n",
    "    'C2F6': 10000,\n",
    "    'C3F8': 2600,\n",
    "    'c-C4F8': 3200,\n",
    "    'CFC-12': 102,\n",
    "    'CFC-11': 52,\n",
    "    'CFC-113': 93,\n",
    "    'CFC-114': 189,\n",
    "    'CFC-115': 540,\n",
    "    'CFC-13': 640,\n",
    "    'HCFC-22': 11.9,\n",
    "    'HCFC-141b': 9.4,\n",
    "    'HCFC-142b': 18,\n",
    "    'CH3CCl3': 5,\n",
    "    'CCl4': 32,\n",
    "    'CH3Cl': 0.9,\n",
    "    'CH3Br': 0.8,\n",
    "    'CH2Cl2': 0.493,\n",
    "    'CHCl3': 0.501,\n",
    "    'Halon-1211': 16,\n",
    "    'Halon-1301': 72,\n",
    "    'Halon-2402': 28,\n",
    "    'n-C4F10': 2600,\n",
    "    'n-C5F12': 4100,\n",
    "    'n-C6F14': 3100,\n",
    "    'i-C6F14': 3100,\n",
    "    'C7F16': 3000,\n",
    "    'C8F18': 3000,\n",
    "    'CFC-112': 63.6,\n",
    "    'CFC-112a': 52,\n",
    "    'CFC-113a': 55,\n",
    "    'CFC-114a': 105,\n",
    "    'HCFC-133a': 55,\n",
    "    'HCFC-31': 1.2,\n",
    "    'HCFC-124': 5.9\n",
    "}"
   ]
  },
  {
   "cell_type": "code",
   "execution_count": null,
   "id": "10",
   "metadata": {},
   "outputs": [],
   "source": [
    "for specie in species:\n",
    "    f.species_configs['molecular_weight'].loc[dict(specie=specie)] = mol_wt[specie]\n",
    "    f.species_configs['unperturbed_lifetime'].loc[dict(specie=specie)] = np.ones(4) * lifetime[specie]\n",
    "    f.species_configs['partition_fraction'].loc[dict(specie=specie)] = [1, 0, 0, 0]"
   ]
  },
  {
   "cell_type": "code",
   "execution_count": null,
   "id": "11",
   "metadata": {},
   "outputs": [],
   "source": [
    "m = 1 / (5.1352 * f.species_configs[\"molecular_weight\"] / 28.97)\n",
    "c1 = f.concentration[0, ...]"
   ]
  },
  {
   "cell_type": "code",
   "execution_count": null,
   "id": "12",
   "metadata": {},
   "outputs": [],
   "source": [
    "m"
   ]
  },
  {
   "cell_type": "code",
   "execution_count": null,
   "id": "13",
   "metadata": {},
   "outputs": [],
   "source": [
    "for specie in species:\n",
    "    fill(f.species_configs[\"baseline_concentration\"], 0, specie=specie)\n",
    "    fill(f.species_configs[\"baseline_emissions\"], 0, specie=specie)\n",
    "    fill(f.species_configs['forcing_reference_concentration'], 0, specie=specie)\n",
    "    fill(f.species_configs['iirf_airborne'], 0, specie=specie)\n",
    "    fill(f.species_configs['iirf_temperature'], 0, specie=specie)\n",
    "    fill(f.species_configs['iirf_uptake'], 0, specie=specie)\n",
    "    c1 = f.concentration.loc[\n",
    "        dict(\n",
    "            specie=specie,\n",
    "            timebounds=1750,\n",
    "            scenario=\"historical\",\n",
    "            config=\"historical\",\n",
    "        )\n",
    "    ]\n",
    "    m = 1 / (\n",
    "        5.1352 * f.species_configs[\"molecular_weight\"].loc[dict(specie=specie)] / 28.97\n",
    "    )\n",
    "    initialise(f.airborne_emissions, c1 / m, specie=specie)\n",
    "    initialise(f.gas_partitions, np.array([c1 / m, 0, 0, 0]), specie=specie)"
   ]
  },
  {
   "cell_type": "code",
   "execution_count": null,
   "id": "14",
   "metadata": {},
   "outputs": [],
   "source": [
    "# don't calculate warming; we have to initialise it otherwise FaIR will complain about\n",
    "# NaNs\n",
    "fill(f.temperature, 0)"
   ]
  },
  {
   "cell_type": "code",
   "execution_count": null,
   "id": "15",
   "metadata": {},
   "outputs": [],
   "source": [
    "f.calculate_concentration_per_emission()"
   ]
  },
  {
   "cell_type": "code",
   "execution_count": null,
   "id": "16",
   "metadata": {},
   "outputs": [],
   "source": [
    "f.calculate_g()"
   ]
  },
  {
   "cell_type": "code",
   "execution_count": null,
   "id": "17",
   "metadata": {},
   "outputs": [],
   "source": [
    "f.calculate_iirf0()"
   ]
  },
  {
   "cell_type": "code",
   "execution_count": null,
   "id": "18",
   "metadata": {},
   "outputs": [],
   "source": [
    "f.run(progress=False)"
   ]
  },
  {
   "cell_type": "code",
   "execution_count": null,
   "id": "19",
   "metadata": {},
   "outputs": [],
   "source": [
    "f.species_configs"
   ]
  },
  {
   "cell_type": "code",
   "execution_count": null,
   "id": "20",
   "metadata": {},
   "outputs": [],
   "source": [
    "f.emissions.squeeze().to_pandas().to_csv('../output/ghg_equivalent_emissions.csv')"
   ]
  },
  {
   "cell_type": "code",
   "execution_count": null,
   "id": "21",
   "metadata": {},
   "outputs": [],
   "source": []
  }
 ],
 "metadata": {
  "kernelspec": {
   "display_name": ".conda-forcing-timeseries Python (Conda)",
   "language": "python",
   "name": "conda-env-.conda-forcing-timeseries-py"
  },
  "language_info": {
   "codemirror_mode": {
    "name": "ipython",
    "version": 3
   },
   "file_extension": ".py",
   "mimetype": "text/x-python",
   "name": "python",
   "nbconvert_exporter": "python",
   "pygments_lexer": "ipython3",
   "version": "3.12.2"
  }
 },
 "nbformat": 4,
 "nbformat_minor": 5
}
