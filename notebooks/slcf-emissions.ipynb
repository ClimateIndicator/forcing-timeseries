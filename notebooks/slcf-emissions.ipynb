{
 "cells": [
  {
   "cell_type": "markdown",
   "id": "0",
   "metadata": {},
   "source": [
    "# SLCF emissions\n",
    "\n",
    "Fossil and industrial from CEDS (1750-2019)\n",
    "\n",
    "post-2019 non-biomass from the update to Forster et al. 2020 two year blip scenario (https://github.com/Priestley-Centre/COVID19_emissions/blob/master/global_pathways/2yearblib_0921.xlsx)\n",
    "\n",
    "This is no longer defensible - really need update from CEDS to do this correctly\n",
    "\n",
    "Biomass burning from GFED (1997-2023), extended backwards to 1750 using BB4CMIP. **Note**: run `biomass-emissions.ipynb` first."
   ]
  },
  {
   "cell_type": "code",
   "execution_count": null,
   "id": "1",
   "metadata": {},
   "outputs": [],
   "source": [
    "import os\n",
    "import numpy as np\n",
    "import pandas as pd\n",
    "import pooch\n",
    "import h5py\n",
    "import matplotlib.pyplot as pl"
   ]
  },
  {
   "cell_type": "code",
   "execution_count": null,
   "id": "2",
   "metadata": {},
   "outputs": [],
   "source": [
    "species = ['BC', 'OC', 'SO2', 'NOx', 'CO', 'NMVOC', 'NH3']"
   ]
  },
  {
   "cell_type": "code",
   "execution_count": null,
   "id": "3",
   "metadata": {},
   "outputs": [],
   "source": [
    "slcf_df = pd.DataFrame(columns = species, index=np.arange(1750, 2024, dtype=int))\n",
    "ceds_df = pd.DataFrame(columns = species, index=np.arange(1750, 2020, dtype=int))"
   ]
  },
  {
   "cell_type": "code",
   "execution_count": null,
   "id": "4",
   "metadata": {},
   "outputs": [],
   "source": [
    "for specie in species:\n",
    "    ceds_df.loc[:, specie] = 0.001 * pd.read_csv(f'../data/slcf_emissions/ceds/{specie}_global_CEDS_emissions_by_sector_2021_04_21.csv').sum()['X1750':].values"
   ]
  },
  {
   "cell_type": "code",
   "execution_count": null,
   "id": "5",
   "metadata": {},
   "outputs": [],
   "source": [
    "ceds_df"
   ]
  },
  {
   "cell_type": "code",
   "execution_count": null,
   "id": "6",
   "metadata": {},
   "outputs": [],
   "source": [
    "gfed41s_df = pd.read_csv('../output/gfed4.1s_1997-2022.csv', index_col=0)"
   ]
  },
  {
   "cell_type": "code",
   "execution_count": null,
   "id": "7",
   "metadata": {},
   "outputs": [],
   "source": [
    "gfed41s_df"
   ]
  },
  {
   "cell_type": "code",
   "execution_count": null,
   "id": "8",
   "metadata": {},
   "outputs": [],
   "source": [
    "rcmip_emissions_file = pooch.retrieve(\n",
    "    url=\"doi:10.5281/zenodo.4589756/rcmip-emissions-annual-means-v5-1-0.csv\",\n",
    "    known_hash=\"md5:4044106f55ca65b094670e7577eaf9b3\",\n",
    ")\n",
    "\n",
    "# RCMIP\n",
    "rcmip_in_df = pd.read_csv(rcmip_emissions_file)"
   ]
  },
  {
   "cell_type": "code",
   "execution_count": null,
   "id": "9",
   "metadata": {},
   "outputs": [],
   "source": [
    "gfed_convert = {specie: 1 for specie in species}\n",
    "gfed_convert['NOx'] = 46.006/30.006\n",
    "rcmip_specie = {specie: specie for specie in species}\n",
    "rcmip_specie['NMVOC'] = 'VOC'"
   ]
  },
  {
   "cell_type": "code",
   "execution_count": null,
   "id": "10",
   "metadata": {},
   "outputs": [],
   "source": [
    "covid_df = pd.read_csv('../data/slcf_emissions/forster_et_al_2020/two_year_blip_emissions_ratios.csv', index_col=0)\n",
    "covid_df"
   ]
  },
  {
   "cell_type": "code",
   "execution_count": null,
   "id": "11",
   "metadata": {},
   "outputs": [],
   "source": [
    "for specie in species:\n",
    "    rcmip_df = rcmip_in_df.loc[\n",
    "        (rcmip_in_df['Scenario']=='historical')&\n",
    "        (rcmip_in_df['Region']=='World')&\n",
    "        (rcmip_in_df['Variable'].str.startswith(f'Emissions|{rcmip_specie[specie]}|')),\n",
    "    :]\n",
    "    #ceds_rcmip = [f'Emissions|{rcmip_specie}|MAGICC AFOLU|Agriculture', f'Emissions|{rcmip_specie}|MAGICC Fossil and Industrial']\n",
    "    uva_rcmip = [\n",
    "        f'Emissions|{rcmip_specie[specie]}|MAGICC AFOLU|Agricultural Waste Burning',\n",
    "        f'Emissions|{rcmip_specie[specie]}|MAGICC AFOLU|Forest Burning',\n",
    "        f'Emissions|{rcmip_specie[specie]}|MAGICC AFOLU|Grassland Burning',\n",
    "        f'Emissions|{rcmip_specie[specie]}|MAGICC AFOLU|Peat Burning'\n",
    "    ]\n",
    "    \n",
    "    \n",
    "    slcf_df.loc[1750:1996, specie] = (\n",
    "        ceds_df.loc[1750:1996, specie] + (\n",
    "            rcmip_df.loc[rcmip_df['Variable'].isin(uva_rcmip), '1750':'1996']\n",
    "            .interpolate(axis=1)\n",
    "            .sum()\n",
    "            .values.\n",
    "            squeeze() * gfed_convert[specie]\n",
    "        )\n",
    "    )\n",
    "\n",
    "    slcf_df.loc[1997:2019, specie] = (\n",
    "        ceds_df.loc[1997:2019, specie] +\n",
    "        gfed41s_df.loc[1997:2019, specie].values.squeeze() * gfed_convert[specie]\n",
    "    )\n",
    "    \n",
    "    slcf_df.loc[2020:2022, specie] = (\n",
    "        (ceds_df.loc[2019, specie] * covid_df.loc[2020:2022, rcmip_specie[specie]]) +\n",
    "        gfed41s_df.loc[2020:2022, specie].values.squeeze() * gfed_convert[specie]\n",
    "    )"
   ]
  },
  {
   "cell_type": "code",
   "execution_count": null,
   "id": "12",
   "metadata": {},
   "outputs": [],
   "source": [
    "pl.plot(slcf_df['NH3'])"
   ]
  },
  {
   "cell_type": "code",
   "execution_count": null,
   "id": "13",
   "metadata": {},
   "outputs": [],
   "source": [
    "slcf_df['NMVOC']"
   ]
  },
  {
   "cell_type": "code",
   "execution_count": null,
   "id": "14",
   "metadata": {},
   "outputs": [],
   "source": [
    "os.makedirs('../output', exist_ok=True)\n",
    "slcf_df.to_csv('../output/slcf_emissions_1750-2022.csv')"
   ]
  }
 ],
 "metadata": {
  "kernelspec": {
   "display_name": "Python 3 (ipykernel)",
   "language": "python",
   "name": "python3"
  },
  "language_info": {
   "codemirror_mode": {
    "name": "ipython",
    "version": 3
   },
   "file_extension": ".py",
   "mimetype": "text/x-python",
   "name": "python",
   "nbconvert_exporter": "python",
   "pygments_lexer": "ipython3",
   "version": "3.12.2"
  }
 },
 "nbformat": 4,
 "nbformat_minor": 5
}
