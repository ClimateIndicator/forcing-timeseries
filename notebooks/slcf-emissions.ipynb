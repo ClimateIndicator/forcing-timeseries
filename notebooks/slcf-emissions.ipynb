{
 "cells": [
  {
   "cell_type": "markdown",
   "id": "0",
   "metadata": {},
   "source": [
    "# SLCF emissions\n",
    "\n",
    "Fossil and industrial from CEDS (1750-2019)\n",
    "\n",
    "post-2019 non-biomass from the update to Forster et al. 2020 two year blip scenario (https://github.com/Priestley-Centre/COVID19_emissions/blob/master/global_pathways/2yearblib_0921.xlsx)\n",
    "\n",
    "Really need update from CEDS to do this correctly, but big change (other than covid) is IMO 2020 legislation. Adjust 2019 sulfur emissions from CEDS with CAMS-GLOB-SHIP (currently available until 2022, 2023 extension requested). Assume impacts of IMO legislation on non-S species was small and can be swept up into COVID-MIP extensions.\n",
    "\n",
    "Biomass burning from GFED (1997-2023), extended backwards to 1750 using BB4CMIP. **Note**: run `biomass-emissions.ipynb` first."
   ]
  },
  {
   "cell_type": "code",
   "execution_count": null,
   "id": "1",
   "metadata": {},
   "outputs": [],
   "source": [
    "import os\n",
    "import numpy as np\n",
    "import pandas as pd\n",
    "import pooch\n",
    "import h5py\n",
    "import matplotlib.pyplot as pl"
   ]
  },
  {
   "cell_type": "code",
   "execution_count": null,
   "id": "2",
   "metadata": {},
   "outputs": [],
   "source": [
    "species = ['BC', 'OC', 'SO2', 'NOx', 'CO', 'NMVOC', 'NH3']"
   ]
  },
  {
   "cell_type": "code",
   "execution_count": null,
   "id": "3",
   "metadata": {},
   "outputs": [],
   "source": [
    "slcf_df = pd.DataFrame(columns = species, index=np.arange(1750, 2024, dtype=int))\n",
    "ceds_df = pd.DataFrame(columns = species, index=np.arange(1750, 2020, dtype=int))"
   ]
  },
  {
   "cell_type": "code",
   "execution_count": null,
   "id": "4",
   "metadata": {},
   "outputs": [],
   "source": [
    "for specie in species:\n",
    "    ceds_df.loc[:, specie] = 0.001 * pd.read_csv(f'../data/slcf_emissions/ceds/{specie}_global_CEDS_emissions_by_sector_2021_04_21.csv').sum()['X1750':].values"
   ]
  },
  {
   "cell_type": "code",
   "execution_count": null,
   "id": "5",
   "metadata": {},
   "outputs": [],
   "source": [
    "ceds_df"
   ]
  },
  {
   "cell_type": "code",
   "execution_count": null,
   "id": "6",
   "metadata": {},
   "outputs": [],
   "source": [
    "gfed41s_df = pd.read_csv('../output/gfed4.1s_1997-2023.csv', index_col=0)"
   ]
  },
  {
   "cell_type": "code",
   "execution_count": null,
   "id": "7",
   "metadata": {},
   "outputs": [],
   "source": [
    "gfed41s_df"
   ]
  },
  {
   "cell_type": "code",
   "execution_count": null,
   "id": "8",
   "metadata": {},
   "outputs": [],
   "source": [
    "rcmip_emissions_file = pooch.retrieve(\n",
    "    url=\"doi:10.5281/zenodo.4589756/rcmip-emissions-annual-means-v5-1-0.csv\",\n",
    "    known_hash=\"md5:4044106f55ca65b094670e7577eaf9b3\",\n",
    ")\n",
    "\n",
    "# RCMIP\n",
    "rcmip_in_df = pd.read_csv(rcmip_emissions_file)"
   ]
  },
  {
   "cell_type": "code",
   "execution_count": null,
   "id": "9",
   "metadata": {},
   "outputs": [],
   "source": [
    "gfed_convert = {specie: 1 for specie in species}\n",
    "gfed_convert['NOx'] = 46.006/30.006\n",
    "rcmip_specie = {specie: specie for specie in species}\n",
    "rcmip_specie['NMVOC'] = 'VOC'"
   ]
  },
  {
   "cell_type": "code",
   "execution_count": null,
   "id": "10",
   "metadata": {},
   "outputs": [],
   "source": [
    "covid_df = pd.read_csv('../data/slcf_emissions/forster_et_al_2020/two_year_blip_emissions_ratios.csv', index_col=0)\n",
    "covid_df"
   ]
  },
  {
   "cell_type": "code",
   "execution_count": null,
   "id": "11",
   "metadata": {},
   "outputs": [],
   "source": [
    "for specie in species:\n",
    "    rcmip_df = rcmip_in_df.loc[\n",
    "        (rcmip_in_df['Scenario']=='historical')&\n",
    "        (rcmip_in_df['Region']=='World')&\n",
    "        (rcmip_in_df['Variable'].str.startswith(f'Emissions|{rcmip_specie[specie]}|')),\n",
    "    :]\n",
    "    #ceds_rcmip = [f'Emissions|{rcmip_specie}|MAGICC AFOLU|Agriculture', f'Emissions|{rcmip_specie}|MAGICC Fossil and Industrial']\n",
    "    uva_rcmip = [\n",
    "        f'Emissions|{rcmip_specie[specie]}|MAGICC AFOLU|Agricultural Waste Burning',\n",
    "        f'Emissions|{rcmip_specie[specie]}|MAGICC AFOLU|Forest Burning',\n",
    "        f'Emissions|{rcmip_specie[specie]}|MAGICC AFOLU|Grassland Burning',\n",
    "        f'Emissions|{rcmip_specie[specie]}|MAGICC AFOLU|Peat Burning'\n",
    "    ]\n",
    "    \n",
    "    \n",
    "    slcf_df.loc[1750:1996, specie] = (\n",
    "        ceds_df.loc[1750:1996, specie] + (\n",
    "            rcmip_df.loc[rcmip_df['Variable'].isin(uva_rcmip), '1750':'1996']\n",
    "            .interpolate(axis=1)\n",
    "            .sum()\n",
    "            .values.\n",
    "            squeeze() * gfed_convert[specie]\n",
    "        )\n",
    "    )\n",
    "\n",
    "    slcf_df.loc[1997:2019, specie] = (\n",
    "        ceds_df.loc[1997:2019, specie] +\n",
    "        gfed41s_df.loc[1997:2019, specie].values.squeeze() * gfed_convert[specie]\n",
    "    )\n",
    "    \n",
    "    slcf_df.loc[2020:2023, specie] = (\n",
    "        (ceds_df.loc[2019, specie] * covid_df.loc[2020:2023, rcmip_specie[specie]]) +\n",
    "        gfed41s_df.loc[2020:2023, specie].values.squeeze() * gfed_convert[specie]\n",
    "    )"
   ]
  },
  {
   "cell_type": "code",
   "execution_count": null,
   "id": "12",
   "metadata": {},
   "outputs": [],
   "source": [
    "slcf_df.tail(7)"
   ]
  },
  {
   "cell_type": "code",
   "execution_count": null,
   "id": "13",
   "metadata": {},
   "outputs": [],
   "source": [
    "# shipping adjustment\n",
    "# what is the unit of SO4? assume SO4, and convert to SO2 units\n",
    "cams_df = pd.read_csv('../data/slcf_emissions/cams/cams-glob-ship-anthro-so.csv', index_col=0)\n",
    "cams_df"
   ]
  },
  {
   "cell_type": "code",
   "execution_count": null,
   "id": "14",
   "metadata": {},
   "outputs": [],
   "source": [
    "cams_df['total'] = cams_df['SO2'] + cams_df['SO4'] * 64.066 / 96.06"
   ]
  },
  {
   "cell_type": "code",
   "execution_count": null,
   "id": "15",
   "metadata": {},
   "outputs": [],
   "source": [
    "# according to granier et al. 2019, CAMS-GLOB-SHIP tracks only international shipping, thus we compare corresponding emissions classification\n",
    "# in CEDS\n",
    "ceds_full_df = pd.read_csv(f'../data/slcf_emissions/ceds/SO2_global_CEDS_emissions_by_sector_2021_04_21.csv')\n",
    "ceds_ship_df = pd.DataFrame(\n",
    "    ceds_full_df.loc[ceds_full_df['sector']=='1A3di_International-shipping', 'X2000':'X2019'].squeeze().values / 1000,\n",
    "    index=np.arange(2000, 2020),\n",
    "    columns=['SO2']\n",
    ")"
   ]
  },
  {
   "cell_type": "code",
   "execution_count": null,
   "id": "16",
   "metadata": {},
   "outputs": [],
   "source": [
    "# in recent years the datasets agree quite well, so no need to scale, but subtract 2019 offset between datasets\n",
    "# we'll assume 2019 persisted from CEDS and subtract the difference from CAMS\n",
    "pl.plot(ceds_ship_df)\n",
    "pl.plot(cams_df['total'])"
   ]
  },
  {
   "cell_type": "code",
   "execution_count": null,
   "id": "17",
   "metadata": {},
   "outputs": [],
   "source": [
    "offset_2019 = ceds_ship_df.loc[2019, 'SO2'] - cams_df.loc[2019, 'total']"
   ]
  },
  {
   "cell_type": "code",
   "execution_count": null,
   "id": "18",
   "metadata": {},
   "outputs": [],
   "source": [
    "offset_2019"
   ]
  },
  {
   "cell_type": "code",
   "execution_count": null,
   "id": "19",
   "metadata": {},
   "outputs": [],
   "source": [
    "# this is the adjustment to global SO2 to make\n",
    "ceds_ship_df.loc[2019, 'SO2'] - cams_df.loc[2019:2022, 'total'] - offset_2019"
   ]
  },
  {
   "cell_type": "code",
   "execution_count": null,
   "id": "20",
   "metadata": {},
   "outputs": [],
   "source": [
    "# a linear trend estimate to 2023 looks sensible, let's call this 8.14 TgSO2"
   ]
  },
  {
   "cell_type": "code",
   "execution_count": null,
   "id": "21",
   "metadata": {},
   "outputs": [],
   "source": [
    "# make the adjustment\n",
    "slcf_df.loc[2020:2022, 'SO2'] = slcf_df.loc[2020:2022, 'SO2'] - (ceds_ship_df.loc[2019, 'SO2'] - cams_df.loc[2019:2022, 'total'] - offset_2019)\n",
    "slcf_df.loc[2023, 'SO2'] = slcf_df.loc[2023, 'SO2'] - 8.14"
   ]
  },
  {
   "cell_type": "code",
   "execution_count": null,
   "id": "22",
   "metadata": {},
   "outputs": [],
   "source": [
    "pl.plot(slcf_df['SO2'])"
   ]
  },
  {
   "cell_type": "code",
   "execution_count": null,
   "id": "23",
   "metadata": {},
   "outputs": [],
   "source": [
    "slcf_df['NMVOC']"
   ]
  },
  {
   "cell_type": "code",
   "execution_count": null,
   "id": "24",
   "metadata": {},
   "outputs": [],
   "source": [
    "os.makedirs('../output', exist_ok=True)\n",
    "slcf_df.to_csv('../output/slcf_emissions_1750-2023.csv')"
   ]
  },
  {
   "cell_type": "code",
   "execution_count": null,
   "id": "25",
   "metadata": {},
   "outputs": [],
   "source": []
  }
 ],
 "metadata": {
  "kernelspec": {
   "display_name": ".conda-forcing-timeseries Python (Conda)",
   "language": "python",
   "name": "conda-env-.conda-forcing-timeseries-py"
  },
  "language_info": {
   "codemirror_mode": {
    "name": "ipython",
    "version": 3
   },
   "file_extension": ".py",
   "mimetype": "text/x-python",
   "name": "python",
   "nbconvert_exporter": "python",
   "pygments_lexer": "ipython3",
   "version": "3.12.2"
  }
 },
 "nbformat": 4,
 "nbformat_minor": 5
}
