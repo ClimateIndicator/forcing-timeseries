{
 "cells": [
  {
   "cell_type": "code",
   "execution_count": null,
   "id": "4ae1f27d",
   "metadata": {},
   "outputs": [],
   "source": [
    "import pandas as pd\n",
    "import matplotlib.pyplot as plt\n",
    "import numpy as np"
   ]
  },
  {
   "cell_type": "code",
   "execution_count": null,
   "id": "656a907b",
   "metadata": {},
   "outputs": [],
   "source": [
    "# Read in the CSV file with the ERF data\n",
    "erf_df = pd.read_csv('https://raw.githubusercontent.com/ClimateIndicator/forcing-timeseries/main/output/ERF_best_aggregates_1750-2022.csv')\n"
   ]
  },
  {
   "cell_type": "code",
   "execution_count": null,
   "id": "c66a6142",
   "metadata": {},
   "outputs": [],
   "source": [
    "erf_df = erf_df.rename(columns={'Unnamed: 0': 'Year'})"
   ]
  },
  {
   "cell_type": "code",
   "execution_count": null,
   "id": "bd2b196f",
   "metadata": {},
   "outputs": [],
   "source": [
    "# Set the 'Year' column as the index\n",
    "erf_df.set_index('Year', inplace=True)"
   ]
  },
  {
   "cell_type": "code",
   "execution_count": null,
   "id": "2ca4804f",
   "metadata": {},
   "outputs": [],
   "source": [
    "rolling_mean = erf_df.rolling(window=10).mean()"
   ]
  },
  {
   "cell_type": "code",
   "execution_count": null,
   "id": "2cbc7bb3",
   "metadata": {},
   "outputs": [],
   "source": [
    "erf_trend = (rolling_mean - rolling_mean.shift(10))"
   ]
  },
  {
   "cell_type": "code",
   "execution_count": null,
   "id": "0a8818af",
   "metadata": {},
   "outputs": [],
   "source": [
    "y=erf_trend['anthro'].values\n",
    "x=erf_trend.index.values\n"
   ]
  },
  {
   "cell_type": "code",
   "execution_count": null,
   "id": "0c4a24ae",
   "metadata": {},
   "outputs": [],
   "source": [
    "# Read in the CSV file with the temperature data\n",
    "GWI_df = pd.read_csv('https://raw.githubusercontent.com/ClimateIndicator/data/v2023.05.01/data/anthropogenic_warming/Walsh_GMST_timeseries_6048000.csv')\n",
    "\n",
    "GWI_df = GWI_df.rename(columns={'timebound_lower': 'Year'})\n",
    "# Set the 'Year' column as the index\n",
    "GWI_df['Year'] = GWI_df['Year'].astype(int)\n",
    "GWI_df.set_index('Year', inplace=True)\n",
    "rolling_mean_GWI = GWI_df.rolling(window=10).mean()\n",
    "GWI_trend = (rolling_mean_GWI - rolling_mean_GWI.shift(10))\n",
    "y_GWI=GWI_trend['anthropogenic_p50'].values\n",
    "x_GWI=GWI_trend.index.values\n",
    "\n"
   ]
  },
  {
   "cell_type": "code",
   "execution_count": null,
   "id": "1ab24175",
   "metadata": {},
   "outputs": [],
   "source": [
    "# Create a figure and axis object\n",
    "fig, ax1 = plt.subplots()\n",
    "\n",
    "# Create a twin axis object\n",
    "ax2 = ax1.twinx()\n",
    "\n",
    "# Plot each series on its respective axis\n",
    "ax2.plot(x,y,marker='o', linestyle='None',label='effective radiative forcing trend')\n",
    "ax2.plot(x[-3:], y[-3:], marker='o', color='red',linestyle='None')\n",
    "\n",
    "ax1.plot(x_GWI,y_GWI,marker='+', linestyle='None',label='human-induced warming trend')\n",
    "ax1.plot(x_GWI[-3:], y_GWI[-3:], marker='+', color='red',linestyle='None')\n",
    "\n",
    "# Add axis labels and legend\n",
    "ax1.set_xlabel('End year of decade')\n",
    "ax2.set_ylabel('ERF trend (Wm$^{-2}$decade$^{-1}$)')\n",
    "ax1.set_ylabel('Temperature trend ( °C decade$^{-1}$)')\n",
    "\n",
    "ax1.legend(loc='best')\n",
    "ax2.legend(loc='center right')\n",
    "plt.title('Decadal trends')\n",
    "plt.xlim([1970,2023])\n",
    "\n",
    "# Show the plot\n",
    "plt.show()\n",
    "fig.savefig('../plots/decadal_trends.png')"
   ]
  },
  {
   "cell_type": "code",
   "execution_count": null,
   "id": "cf8ed7d0",
   "metadata": {},
   "outputs": [],
   "source": []
  }
 ],
 "metadata": {
  "kernelspec": {
   "display_name": "Python 3 (ipykernel)",
   "language": "python",
   "name": "python3"
  },
  "language_info": {
   "codemirror_mode": {
    "name": "ipython",
    "version": 3
   },
   "file_extension": ".py",
   "mimetype": "text/x-python",
   "name": "python",
   "nbconvert_exporter": "python",
   "pygments_lexer": "ipython3",
   "version": "3.9.13"
  }
 },
 "nbformat": 4,
 "nbformat_minor": 5
}
