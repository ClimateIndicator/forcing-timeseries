{
 "cells": [
  {
   "cell_type": "markdown",
   "id": "0",
   "metadata": {},
   "source": [
    "# Calculate GHG concentrations\n",
    "\n",
    "IPCC AR6 methodology:\n",
    "\n",
    "The following description comes from the Excel sheet of long-lived greenhouse gas concentrations, v9. See https://github.com/chrisroadmap/ar6/blob/main/data_input/observations/LLGHG_history_AR6_v9_for_archive.xlsx\n",
    "\n",
    "All values are mid-year mean.\n",
    "\n",
    "**While we wait for the updates from Xin Lan and Jens Muhle, we do 2023 estimates using an extrapolation. This is for the purposes of the forcing time series only.**\n",
    "\n",
    "NOAA only:\n",
    "- CO2\n",
    "- CH3CCl3  (Chris override AR6)\n",
    "- CCl4 (Chris override AR6)\n",
    "- CFC-11 (Chris override AR6)\n",
    "- CFC-12 (Chris override AR6)\n",
    "\n",
    "AGAGE only:\n",
    "- CFC-114\n",
    "- CFC-115\n",
    "- CFC-13\n",
    "- CF4\n",
    "- C2F6\n",
    "- C3F8\n",
    "- c-C4F8\n",
    "- NF3\n",
    "- SO2F2\n",
    "- HFC-23\n",
    "- HFC-236ea (?)\n",
    "- HFC-245fa\n",
    "- HFC-43-10mee\n",
    "- CHCl3\n",
    "- c-C4F8    xxx  (Note that there is ~7% calibration difference for c-C4F8 between AGAGE (Muhle et al. (2019) and Droste et al (2020), but it cannot be resolved using a simple scaling factor, therefore only AGAGE results are included here.)\n",
    "\n",
    "Merged NOAA and AGAGE:\n",
    "- CH4          \n",
    "- N2O\n",
    "- HFC-134a\n",
    "- HFC-32\n",
    "- HFC-125\n",
    "- HFC-143a\n",
    "- HFC-152a\n",
    "- HFC-227ea  \n",
    "- HFC-365mfc\n",
    "- SF6\n",
    "- CFC-113\n",
    "- HCFC-22\n",
    "- HCFC-141b\n",
    "- HCFC-142b\n",
    "- CH2Cl2        xxx\n",
    "- CH3Cl         xxx !!!\n",
    "- CH3Br\n",
    "- Halon-1211\n",
    "- Halon-1301\n",
    "- Halon-2402\n",
    "- HCFC-133a     xxx !!! (AGAGE HCFC-133a were adjusted down 7% for account for ~14% calibration difference between AGAGE and Laube et al (2014), in an attempt to express HCFC-133a as average of AGAGE and UEA estimates.)\n",
    "\n",
    "\n",
    "xxx : data is not available from the aggregated \n",
    "!!! : data is not available from the disaggreated\n",
    "\n",
    "\n",
    "Laube et al. (2014) and WMO (2018) Southern Hemisphere, extrapolation needed to PD\n",
    "- CFC-112\n",
    "- CFC-112a\n",
    "- CFC-113a\n",
    "\n",
    "Laube et al. (2014) and WMO (2018), extrapolation needed to PD\n",
    "- CFC-114a\n",
    "\n",
    "Schoenberger et al. (2015), extrapolation needed to PD\n",
    "- HCFC-31\n",
    "\n",
    "Simmonds et al. (2017), extrapolation needed to PD\n",
    "- HCFC-124\n",
    "\n",
    "Droste et al. (2020). CMIP6 scaled to Droste et al. (2020) to account for calibration change.\n",
    "- n-C4F10\n",
    "- n-C5F12\n",
    "- n-C6F14\n",
    "- i-C6F14\n",
    "- C7F16\t\n",
    "\n",
    "Vollmer et al. (2018), extrapolation needed to PD\n",
    "- C8F18\n",
    "\n",
    "https://gml.noaa.gov/aftp/data/ is usually a good place to look\n",
    "\n",
    "NOAA (accessed 2024-02-26):\n",
    "- https://gml.noaa.gov/webdata/ccgg/trends/co2/co2_annmean_gl.txt  [NOT USED: WE USE XIN LAN'S DATA DIRECT]\n",
    "- https://gml.noaa.gov/webdata/ccgg/trends/ch4/ch4_annmean_gl.txt  [NOT USED: WE USE XIN LAN'S DATA DIRECT]\n",
    "- https://gml.noaa.gov/webdata/ccgg/trends/n2o/n2o_annmean_gl.txt  [NOT USED: WE USE XIN LAN'S DATA DIRECT]\n",
    "- https://gml.noaa.gov/webdata/ccgg/trends/sf6/sf6_annmean_gl.txt\n",
    "- https://gml.noaa.gov/aftp/data/hats/Total_Cl_Br/2023%20update%20total%20Cl%20Br%20&%20F.xls  (converted to CSV)\n",
    "\n",
    "AGAGE (accessed 2023-03-09; has not been updated as of 2024-02-26):\n",
    "- https://agage2.eas.gatech.edu/data_archive/global_mean/global_mean_ms.txt\n",
    "- https://agage2.eas.gatech.edu/data_archive/global_mean/global_mean_md.txt\n",
    "\n",
    "CO2, CH4 and N2O updated using Brad Hall's extended IPCC methodology. **In this pre-release they are extrapolated**"
   ]
  },
  {
   "cell_type": "code",
   "execution_count": null,
   "id": "1",
   "metadata": {},
   "outputs": [],
   "source": [
    "import os\n",
    "import numpy as np\n",
    "import pandas as pd\n",
    "import matplotlib.pyplot as pl\n",
    "from scipy.optimize import curve_fit"
   ]
  },
  {
   "cell_type": "code",
   "execution_count": null,
   "id": "2",
   "metadata": {},
   "outputs": [],
   "source": [
    "pd.set_option('display.max_columns', 500)"
   ]
  },
  {
   "cell_type": "code",
   "execution_count": null,
   "id": "3",
   "metadata": {},
   "outputs": [],
   "source": [
    "# df_co2 = pd.read_csv(\n",
    "#     '../data/ghg_concentrations/noaa_gml/co2_annmean_gl.txt', \n",
    "#     delim_whitespace=True,\n",
    "#     comment='#', \n",
    "#     names=['year', 'mean', 'unc'],\n",
    "#     index_col=0\n",
    "# )"
   ]
  },
  {
   "cell_type": "code",
   "execution_count": null,
   "id": "4",
   "metadata": {},
   "outputs": [],
   "source": [
    "# df_ch4_noaa = pd.read_csv(\n",
    "#     '../data/ghg_concentrations/noaa_gml/ch4_annmean_gl.txt', \n",
    "#     delim_whitespace=True,\n",
    "#     comment='#', \n",
    "#     names=['year', 'mean', 'unc'],\n",
    "#     index_col=0\n",
    "# )"
   ]
  },
  {
   "cell_type": "code",
   "execution_count": null,
   "id": "5",
   "metadata": {},
   "outputs": [],
   "source": [
    "# df_n2o_noaa = pd.read_csv(\n",
    "#     '../data/ghg_concentrations/noaa_gml/n2o_annmean_gl.txt', \n",
    "#     delim_whitespace=True,\n",
    "#     comment='#', \n",
    "#     names=['year', 'mean', 'unc'],\n",
    "#     index_col=0\n",
    "# )"
   ]
  },
  {
   "cell_type": "code",
   "execution_count": null,
   "id": "6",
   "metadata": {},
   "outputs": [],
   "source": [
    "df_sf6_noaa = pd.read_csv(\n",
    "    '../data/ghg_concentrations/noaa_gml/sf6_annmean_gl.txt', \n",
    "    sep=r'\\s+',\n",
    "    comment='#', \n",
    "    names=['year', 'mean', 'unc'],\n",
    "    index_col=0\n",
    ")"
   ]
  },
  {
   "cell_type": "code",
   "execution_count": null,
   "id": "7",
   "metadata": {},
   "outputs": [],
   "source": [
    "df_noaa = pd.read_csv(\n",
    "    '../data/ghg_concentrations/noaa_gml/noaa_2023_global_mean_mixing_ratios.csv'\n",
    ")"
   ]
  },
  {
   "cell_type": "code",
   "execution_count": null,
   "id": "8",
   "metadata": {},
   "outputs": [],
   "source": [
    "df_noaa"
   ]
  },
  {
   "cell_type": "code",
   "execution_count": null,
   "id": "9",
   "metadata": {},
   "outputs": [],
   "source": [
    "df_noaa.loc[162:167,'CFC-12']"
   ]
  },
  {
   "cell_type": "code",
   "execution_count": null,
   "id": "10",
   "metadata": {},
   "outputs": [],
   "source": [
    "df_noaa[df_noaa==\"ND\"]=np.nan"
   ]
  },
  {
   "cell_type": "code",
   "execution_count": null,
   "id": "11",
   "metadata": {},
   "outputs": [],
   "source": [
    "df_noaa = df_noaa.rolling(6, center=True).mean()\n",
    "df_noaa['YYYY'] = df_noaa.date-0.5\n",
    "df_noaa.drop(df_noaa.tail(2).index,inplace=True)\n",
    "df_noaa.drop(df_noaa.head(3).index,inplace=True)\n",
    "df_noaa.set_index('YYYY', inplace=True)\n",
    "df_noaa.drop(columns=['date'], inplace=True)\n",
    "df_noaa.rename(columns={'H2402': 'H-2402'}, inplace=True)\n",
    "df_noaa = df_noaa[df_noaa.index % 1 == 0]\n",
    "df_noaa"
   ]
  },
  {
   "cell_type": "code",
   "execution_count": null,
   "id": "12",
   "metadata": {},
   "outputs": [],
   "source": [
    "# pd.read_csv(\n",
    "#     '../data/ghg_concentrations/noaa_gml/ch2cl2_GCMS_flask.txt', \n",
    "#     delim_whitespace=True,\n",
    "#     skiprows=1\n",
    "# )"
   ]
  },
  {
   "cell_type": "code",
   "execution_count": null,
   "id": "13",
   "metadata": {},
   "outputs": [],
   "source": [
    "# pd.read_csv(\n",
    "#     '../data/ghg_concentrations/noaa_gml/OCS__GCMS_flask.txt', \n",
    "#     delim_whitespace=True,\n",
    "#     skiprows=1\n",
    "# )"
   ]
  },
  {
   "cell_type": "code",
   "execution_count": null,
   "id": "14",
   "metadata": {},
   "outputs": [],
   "source": [
    "# pd.read_csv(\n",
    "#     '../data/ghg_concentrations/noaa_gml/pce_GCMS_flask.txt', \n",
    "#     delim_whitespace=True,\n",
    "#     skiprows=1\n",
    "# )"
   ]
  },
  {
   "cell_type": "code",
   "execution_count": null,
   "id": "15",
   "metadata": {},
   "outputs": [],
   "source": [
    "df_agage_ms = pd.read_csv(\n",
    "    '../data/ghg_concentrations/agage/global_mean_ms.txt', \n",
    "    sep=r'\\s+',\n",
    "    skiprows=14,\n",
    "    index_col=0\n",
    ")"
   ]
  },
  {
   "cell_type": "code",
   "execution_count": null,
   "id": "16",
   "metadata": {},
   "outputs": [],
   "source": [
    "df_agage_ms = df_agage_ms.rolling(12, center=True).mean().drop([col for col in df_agage_ms.columns if '---' in col],axis=1)\n",
    "df_agage_ms.drop(columns='MM', inplace=True)\n",
    "df_agage_ms.set_index('YYYY', inplace=True)\n",
    "df_agage_ms = df_agage_ms[df_agage_ms.index % 1 == 0]"
   ]
  },
  {
   "cell_type": "code",
   "execution_count": null,
   "id": "17",
   "metadata": {},
   "outputs": [],
   "source": [
    "df_agage_ms[df_agage_ms.index % 1 == 0]"
   ]
  },
  {
   "cell_type": "code",
   "execution_count": null,
   "id": "18",
   "metadata": {},
   "outputs": [],
   "source": [
    "df_conc = pd.read_csv(\n",
    "    '../data/ghg_concentrations/ar6_updated/ipcc_ar6_wg1.csv',\n",
    "    index_col=0\n",
    ")"
   ]
  },
  {
   "cell_type": "code",
   "execution_count": null,
   "id": "19",
   "metadata": {},
   "outputs": [],
   "source": [
    "df_conc.loc[2020, :] = np.nan\n",
    "df_conc.loc[2021, :] = np.nan\n",
    "df_conc.loc[2022, :] = np.nan\n",
    "df_conc.loc[2023, :] = np.nan"
   ]
  },
  {
   "cell_type": "code",
   "execution_count": null,
   "id": "20",
   "metadata": {},
   "outputs": [],
   "source": [
    "df_co2_ch4_n2o_update = pd.read_csv(\n",
    "    '../data/ghg_concentrations/ar6_updated/co2_ch4_n2o_2019-2022.csv',\n",
    "    index_col=0\n",
    ")\n",
    "df_co2_ch4_n2o_update"
   ]
  },
  {
   "cell_type": "code",
   "execution_count": null,
   "id": "21",
   "metadata": {},
   "outputs": [],
   "source": [
    "df_conc"
   ]
  },
  {
   "cell_type": "code",
   "execution_count": null,
   "id": "22",
   "metadata": {},
   "outputs": [],
   "source": [
    "df_conc.loc[2020:2022, 'CO2':'N2O'] = df_co2_ch4_n2o_update.loc[2020:2022, 'CO2':'N2O']"
   ]
  },
  {
   "cell_type": "code",
   "execution_count": null,
   "id": "23",
   "metadata": {},
   "outputs": [],
   "source": [
    "df_conc"
   ]
  },
  {
   "cell_type": "code",
   "execution_count": null,
   "id": "24",
   "metadata": {},
   "outputs": [],
   "source": [
    "df_agage_md = pd.read_csv(\n",
    "    '../data/ghg_concentrations/agage/global_mean_md.txt', \n",
    "    sep=r'\\s+',\n",
    "    skiprows=14,\n",
    "    index_col=0\n",
    ")"
   ]
  },
  {
   "cell_type": "code",
   "execution_count": null,
   "id": "25",
   "metadata": {},
   "outputs": [],
   "source": [
    "df_agage_md = df_agage_md.rolling(12, min_periods=12, center=True, step=12).mean().drop([col for col in df_agage_md.columns if '---' in col],axis=1)\n",
    "df_agage_md.drop(columns='MM', inplace=True)\n",
    "df_agage_md.set_index('YYYY', inplace=True)\n",
    "df_agage_md.drop(index=np.nan, inplace=True)"
   ]
  },
  {
   "cell_type": "code",
   "execution_count": null,
   "id": "26",
   "metadata": {},
   "outputs": [],
   "source": [
    "df_agage_md"
   ]
  },
  {
   "cell_type": "code",
   "execution_count": null,
   "id": "27",
   "metadata": {},
   "outputs": [],
   "source": [
    "sf6_mean_offset = -(df_sf6_noaa.loc[2019, 'mean'] - df_agage_ms.loc[2019, 'SF6']).mean()\n",
    "df_conc.loc[2004:2019, 'SF6'] = 0.5 * (df_sf6_noaa.loc[2004:2019, 'mean'] + df_agage_ms.loc[2004:2019, 'SF6'])\n",
    "df_conc.loc[2020:2022, 'SF6'] = df_sf6_noaa.loc[2020:2022, 'mean'] + sf6_mean_offset"
   ]
  },
  {
   "cell_type": "code",
   "execution_count": null,
   "id": "28",
   "metadata": {},
   "outputs": [],
   "source": [
    "df_conc"
   ]
  },
  {
   "cell_type": "code",
   "execution_count": null,
   "id": "29",
   "metadata": {},
   "outputs": [],
   "source": [
    "species = [\n",
    "    'HFC-134a', 'HFC-32', 'HFC-125', 'HFC-143a', 'HFC-152a', 'HFC-227ea', 'HFC-365mfc', 'HCFC-22', \n",
    "    'HCFC-141b', 'HCFC-142b', 'CH3CCl3', 'CH3Br', 'H-1211', 'H-1301', 'H-2402'\n",
    "]\n",
    "names = {specie: specie for specie in species}\n",
    "first = {specie: 2004 for specie in species}\n",
    "names['H-1211'] = 'Halon-1211'\n",
    "names['H-1301'] = 'Halon-1301'\n",
    "names['H-2402'] = 'Halon-2402'\n",
    "first['HFC-365mfc'] = 2008\n",
    "first['HFC-227ea'] = 2008"
   ]
  },
  {
   "cell_type": "code",
   "execution_count": null,
   "id": "30",
   "metadata": {},
   "outputs": [],
   "source": [
    "for specie in species:\n",
    "    mean_offset = -(df_noaa.loc[2020, specie] - df_agage_ms.loc[2020, specie]).mean()\n",
    "    df_conc.loc[first[specie]:2020, names[specie]] = 0.5 * (df_noaa.loc[first[specie]:2020, specie] + df_agage_ms.loc[first[specie]:2020, specie])\n",
    "    df_conc.loc[2021, names[specie]] = df_noaa.loc[2021, specie] + mean_offset"
   ]
  },
  {
   "cell_type": "code",
   "execution_count": null,
   "id": "31",
   "metadata": {},
   "outputs": [],
   "source": [
    "df_conc"
   ]
  },
  {
   "cell_type": "code",
   "execution_count": null,
   "id": "32",
   "metadata": {},
   "outputs": [],
   "source": [
    "species = [\n",
    "    'CFC-11', 'CFC-12', 'CCl4'\n",
    "]\n",
    "names = {specie: specie for specie in species}\n",
    "first = {specie: 1992 for specie in species}\n",
    "last = {specie: 2019 for specie in species}"
   ]
  },
  {
   "cell_type": "code",
   "execution_count": null,
   "id": "33",
   "metadata": {},
   "outputs": [],
   "source": [
    "df_conc.loc[2020:2022, 'CH3CCl3'] = df_noaa.loc[2020:2022, 'CH3CCl3']"
   ]
  },
  {
   "cell_type": "code",
   "execution_count": null,
   "id": "34",
   "metadata": {},
   "outputs": [],
   "source": [
    "for specie in species:\n",
    "    mean_offset = -(df_noaa.loc[last[specie], specie] - df_agage_md.loc[last[specie], specie]).mean()\n",
    "    df_conc.loc[first[specie]:last[specie], names[specie]] = 0.5 * (df_noaa.loc[first[specie]:last[specie], specie] + df_agage_md.loc[first[specie]:last[specie], specie])\n",
    "    df_conc.loc[last[specie]+1:2022, names[specie]] = df_noaa.loc[last[specie]+1:, specie] + mean_offset"
   ]
  },
  {
   "cell_type": "code",
   "execution_count": null,
   "id": "35",
   "metadata": {},
   "outputs": [],
   "source": [
    "df_conc.loc[2007:2020, 'CF4'] = df_agage_ms.loc[2007:2020, 'PFC-14']"
   ]
  },
  {
   "cell_type": "code",
   "execution_count": null,
   "id": "36",
   "metadata": {},
   "outputs": [],
   "source": [
    "df_conc.loc[2004:2020, 'C2F6'] = df_agage_ms.loc[2004:2020, 'PFC-116']\n",
    "df_conc.loc[2004:2020, 'C3F8'] = df_agage_ms.loc[2004:2020, 'PFC-218']"
   ]
  },
  {
   "cell_type": "code",
   "execution_count": null,
   "id": "37",
   "metadata": {},
   "outputs": [],
   "source": [
    "df_conc.loc[2008:2020, 'HFC-23'] = df_agage_ms.loc[2008:2020, 'HFC-23']"
   ]
  },
  {
   "cell_type": "code",
   "execution_count": null,
   "id": "38",
   "metadata": {},
   "outputs": [],
   "source": [
    "df_conc.loc[2007:2020, 'HFC-236fa'] = df_agage_ms.loc[2007:2020, 'HFC-236fa']"
   ]
  },
  {
   "cell_type": "code",
   "execution_count": null,
   "id": "39",
   "metadata": {},
   "outputs": [],
   "source": [
    "df_conc.loc[2007:2020, 'HFC-245fa'] = df_agage_ms.loc[2007:2020, 'HFC-245fa']"
   ]
  },
  {
   "cell_type": "code",
   "execution_count": null,
   "id": "40",
   "metadata": {},
   "outputs": [],
   "source": [
    "df_conc.loc[2008:2020, 'HFC-23'] = df_agage_ms.loc[2008:2020, 'HFC-23']"
   ]
  },
  {
   "cell_type": "code",
   "execution_count": null,
   "id": "41",
   "metadata": {},
   "outputs": [],
   "source": [
    "df_agage_ms.loc[2008:2020, 'HFC4310mee']"
   ]
  },
  {
   "cell_type": "code",
   "execution_count": null,
   "id": "42",
   "metadata": {},
   "outputs": [],
   "source": [
    "df_conc.loc[2011:2020, 'HFC-43-10mee'] = df_agage_ms.loc[2011:2020, 'HFC4310mee']"
   ]
  },
  {
   "cell_type": "code",
   "execution_count": null,
   "id": "43",
   "metadata": {},
   "outputs": [],
   "source": [
    "df_agage_ms.loc[:, 'SO2F2']"
   ]
  },
  {
   "cell_type": "code",
   "execution_count": null,
   "id": "44",
   "metadata": {},
   "outputs": [],
   "source": [
    "df_conc.loc[2004:2020, 'CFC-13'] = df_agage_ms.loc[2004:2020, 'CFC-13']\n",
    "df_conc.loc[2004:2020, 'CFC-114'] = df_agage_ms.loc[2004:2020, 'CFC-114']\n",
    "df_conc.loc[2004:2020, 'CFC-115'] = df_agage_ms.loc[2004:2020, 'CFC-115']"
   ]
  },
  {
   "cell_type": "code",
   "execution_count": null,
   "id": "45",
   "metadata": {},
   "outputs": [],
   "source": [
    "df_conc.loc[2016:2020, 'NF3'] = df_agage_ms.loc[2016:2020, 'NF3']"
   ]
  },
  {
   "cell_type": "code",
   "execution_count": null,
   "id": "46",
   "metadata": {},
   "outputs": [],
   "source": [
    "df_conc.loc[2005:2020, 'SO2F2'] = df_agage_ms.loc[2005:2020, 'SO2F2']"
   ]
  },
  {
   "cell_type": "code",
   "execution_count": null,
   "id": "47",
   "metadata": {},
   "outputs": [],
   "source": [
    "df_conc.loc[2004:2020, 'CH3Cl'] = df_agage_ms.loc[2004:2020, 'CH3Cl']"
   ]
  },
  {
   "cell_type": "code",
   "execution_count": null,
   "id": "48",
   "metadata": {},
   "outputs": [],
   "source": [
    "df_conc.loc[2004:2020, 'CH2Cl2'] = df_agage_ms.loc[2004:2020, 'CH2Cl2']"
   ]
  },
  {
   "cell_type": "code",
   "execution_count": null,
   "id": "49",
   "metadata": {},
   "outputs": [],
   "source": [
    "df_conc.loc[2004:2020, 'CHCl3'] = df_agage_ms.loc[2004:2020, 'CHCl3']"
   ]
  },
  {
   "cell_type": "code",
   "execution_count": null,
   "id": "50",
   "metadata": {},
   "outputs": [],
   "source": [
    "df_conc.loc[1850:1989, 'i-C6F14'] = 0\n",
    "df_conc.loc[1990:2015, 'i-C6F14'].interpolate(inplace=True)"
   ]
  },
  {
   "cell_type": "code",
   "execution_count": null,
   "id": "51",
   "metadata": {},
   "outputs": [],
   "source": [
    "df_conc.loc[1850:1977, 'CFC-112'] = 0\n",
    "df_conc.loc[1850:1977, 'CFC-112a'] = 0\n",
    "df_conc.loc[1850:1977, 'CFC-113a'] = 0\n",
    "df_conc.loc[1850:1977, 'CFC-114a'] = 0\n",
    "df_conc.loc[1850:1979, 'HCFC-133a'] = 0\n",
    "df_conc.loc[1850:1999, 'HCFC-31'] = 0\n",
    "df_conc.loc[1850:2003, 'HCFC-124'] = 0"
   ]
  },
  {
   "cell_type": "code",
   "execution_count": null,
   "id": "52",
   "metadata": {},
   "outputs": [],
   "source": [
    "# Function to curve fit to the data\n",
    "def linear(x, c, d):\n",
    "    return c * x + d\n",
    "\n",
    "# Initial parameter guess, just to kick off the optimization\n",
    "guess = (1, 0)\n",
    "\n",
    "# Place to store function parameters for each column\n",
    "col_params = {}\n",
    "\n",
    "# Curve fit each column\n",
    "for col in df_conc.columns:\n",
    "    # Create copy of data to remove NaNs for curve fitting\n",
    "    fit_df = df_conc[col].dropna()\n",
    "\n",
    "    # Get x & y\n",
    "    x = fit_df.index.astype(float).values[-5:]\n",
    "    y = fit_df.values[-5:]\n",
    "    print (col, x, y)\n",
    "    # Curve fit column and get curve parameters\n",
    "    params = curve_fit(linear, x, y, guess)\n",
    "    # Store optimized parameters\n",
    "    col_params[col] = params[0]\n",
    "\n",
    "# Extrapolate each column\n",
    "for col in df_conc.columns:\n",
    "    # Get the index values for NaNs in the column\n",
    "    x = df_conc[pd.isnull(df_conc[col])].index.astype(float).values\n",
    "    print(col, x)\n",
    "    # Extrapolate those points with the fitted function\n",
    "    df_conc[col][x] = linear(x, *col_params[col])"
   ]
  },
  {
   "cell_type": "code",
   "execution_count": null,
   "id": "53",
   "metadata": {},
   "outputs": [],
   "source": [
    "df_conc"
   ]
  },
  {
   "cell_type": "code",
   "execution_count": null,
   "id": "54",
   "metadata": {},
   "outputs": [],
   "source": [
    "os.makedirs('../output', exist_ok = True)\n",
    "df_conc.to_csv('../output/ghg_concentrations_1750-2023.csv')"
   ]
  },
  {
   "cell_type": "markdown",
   "id": "55",
   "metadata": {},
   "source": [
    "## Aggregated categories"
   ]
  },
  {
   "cell_type": "code",
   "execution_count": null,
   "id": "56",
   "metadata": {},
   "outputs": [],
   "source": [
    "gases_hfcs = [\n",
    "    'HFC-134a',\n",
    "    'HFC-23', \n",
    "    'HFC-32', \n",
    "    'HFC-125',\n",
    "    'HFC-143a', \n",
    "    'HFC-152a', \n",
    "    'HFC-227ea', \n",
    "    'HFC-236fa', \n",
    "    'HFC-245fa', \n",
    "    'HFC-365mfc',\n",
    "    'HFC-43-10mee',\n",
    "]\n",
    "gases_montreal = [\n",
    "    'CFC-12',\n",
    "    'CFC-11',\n",
    "    'CFC-113',\n",
    "    'CFC-114',\n",
    "    'CFC-115',\n",
    "    'CFC-13',\n",
    "    'HCFC-22',\n",
    "    'HCFC-141b',\n",
    "    'HCFC-142b',\n",
    "    'CH3CCl3',\n",
    "    'CCl4',  # yes\n",
    "    'CH3Cl',  # no\n",
    "    'CH3Br',  # yes\n",
    "    'CH2Cl2',  # no!\n",
    "    'CHCl3',  # no\n",
    "    'Halon-1211',\n",
    "    'Halon-1301',\n",
    "    'Halon-2402',\n",
    "    'CFC-112',\n",
    "    'CFC-112a',\n",
    "    'CFC-113a',\n",
    "    'CFC-114a',\n",
    "    'HCFC-133a',\n",
    "    'HCFC-31',\n",
    "    'HCFC-124'\n",
    "]\n",
    "gases_pfc = [\n",
    "    'CF4',\n",
    "    'C2F6',\n",
    "    'C3F8',\n",
    "    'c-C4F8',\n",
    "    'n-C4F10',\n",
    "    'n-C5F12',\n",
    "    'n-C6F14',\n",
    "    'i-C6F14',\n",
    "    'C7F16',\n",
    "    'C8F18',\n",
    "]"
   ]
  },
  {
   "cell_type": "code",
   "execution_count": null,
   "id": "57",
   "metadata": {},
   "outputs": [],
   "source": [
    "# source: Hodnebrog et al 2020 https://agupubs.onlinelibrary.wiley.com/doi/full/10.1029/2019RG000691\n",
    "radeff = {\n",
    "    'HFC-125':      0.23378,\n",
    "    'HFC-134a':     0.16714,\n",
    "    'HFC-143a':     0.168,\n",
    "    'HFC-152a':     0.10174,\n",
    "    'HFC-227ea':    0.27325,\n",
    "    'HFC-23':       0.19111,\n",
    "    'HFC-236fa':    0.25069,\n",
    "    'HFC-245fa':    0.24498,\n",
    "    'HFC-32':       0.11144,\n",
    "    'HFC-365mfc':   0.22813,\n",
    "    'HFC-43-10mee': 0.35731,\n",
    "    'NF3':          0.20448,\n",
    "    'C2F6':         0.26105,\n",
    "    'C3F8':         0.26999,\n",
    "    'n-C4F10':      0.36874,\n",
    "    'n-C5F12':      0.4076,\n",
    "    'n-C6F14':      0.44888,\n",
    "    'i-C6F14':      0.44888,\n",
    "    'C7F16':        0.50312,\n",
    "    'C8F18':        0.55787,\n",
    "    'CF4':          0.09859,\n",
    "    'c-C4F8':       0.31392,\n",
    "    'SF6':          0.56657,\n",
    "    'SO2F2':        0.21074,\n",
    "    'CCl4':         0.16616,\n",
    "    'CFC-11':       0.25941,\n",
    "    'CFC-112':      0.28192,\n",
    "    'CFC-112a':     0.24564,\n",
    "    'CFC-113':      0.30142,\n",
    "    'CFC-113a':     0.24094, \n",
    "    'CFC-114':      0.31433,\n",
    "    'CFC-114a':     0.29747,\n",
    "    'CFC-115':      0.24625,\n",
    "    'CFC-12':       0.31998,\n",
    "    'CFC-13':       0.27752,\n",
    "    'CH2Cl2':       0.02882,\n",
    "    'CH3Br':        0.00432,\n",
    "    'CH3CCl3':      0.06454,\n",
    "    'CH3Cl':        0.00466,\n",
    "    'CHCl3':        0.07357,\n",
    "    'HCFC-124':     0.20721,\n",
    "    'HCFC-133a':    0.14995,\n",
    "    'HCFC-141b':    0.16065,\n",
    "    'HCFC-142b':    0.19329,\n",
    "    'HCFC-22':      0.21385,\n",
    "    'HCFC-31':      0.068,\n",
    "    'Halon-1202':   0,       # not in dataset\n",
    "    'Halon-1211':   0.30014,\n",
    "    'Halon-1301':   0.29943,\n",
    "    'Halon-2402':   0.31169,\n",
    "    'CO2':          0,       # different relationship\n",
    "    'CH4':          0,       # different relationship\n",
    "    'N2O':          0        # different relationship\n",
    "}"
   ]
  },
  {
   "cell_type": "code",
   "execution_count": null,
   "id": "58",
   "metadata": {},
   "outputs": [],
   "source": [
    "pfc_hfc134a_eq_1750 = 0\n",
    "for gas in gases_pfc:\n",
    "    pfc_hfc134a_eq_1750 = pfc_hfc134a_eq_1750 + (df_conc.loc[1750, gas] * radeff[gas] / radeff['CF4'])\n",
    "hfc_hfc134a_eq_1750 = 0\n",
    "for gas in gases_hfcs:\n",
    "    hfc_hfc134a_eq_1750 = hfc_hfc134a_eq_1750 + (df_conc.loc[1750, gas] * radeff[gas] / radeff['HFC-134a'])\n",
    "montreal_cfc12_eq_1750 = 0\n",
    "for gas in gases_montreal:\n",
    "    montreal_cfc12_eq_1750 = montreal_cfc12_eq_1750 + (df_conc.loc[1750, gas] * radeff[gas] / radeff['CFC-12'])"
   ]
  },
  {
   "cell_type": "code",
   "execution_count": null,
   "id": "59",
   "metadata": {},
   "outputs": [],
   "source": [
    "pfc_hfc134a_eq_1750, hfc_hfc134a_eq_1750, montreal_cfc12_eq_1750"
   ]
  },
  {
   "cell_type": "code",
   "execution_count": null,
   "id": "60",
   "metadata": {},
   "outputs": [],
   "source": [
    "pfc_hfc134a_eq_1850 = 0\n",
    "for gas in gases_pfc:\n",
    "    pfc_hfc134a_eq_1850 = pfc_hfc134a_eq_1850 + (df_conc.loc[1850, gas] * radeff[gas] / radeff['CF4'])\n",
    "hfc_hfc134a_eq_1850 = 0\n",
    "for gas in gases_hfcs:\n",
    "    hfc_hfc134a_eq_1850 = hfc_hfc134a_eq_1850 + (df_conc.loc[1850, gas] * radeff[gas] / radeff['HFC-134a'])\n",
    "montreal_cfc12_eq_1850 = 0\n",
    "for gas in gases_montreal:\n",
    "    montreal_cfc12_eq_1850 = montreal_cfc12_eq_1850 + (df_conc.loc[1850, gas] * radeff[gas] / radeff['CFC-12'])"
   ]
  },
  {
   "cell_type": "code",
   "execution_count": null,
   "id": "61",
   "metadata": {},
   "outputs": [],
   "source": [
    "pfc_hfc134a_eq_1850, hfc_hfc134a_eq_1850, montreal_cfc12_eq_1850"
   ]
  },
  {
   "cell_type": "code",
   "execution_count": null,
   "id": "62",
   "metadata": {},
   "outputs": [],
   "source": [
    "pfc_hfc134a_eq_2019 = 0\n",
    "for gas in gases_pfc:\n",
    "    pfc_hfc134a_eq_2019 = pfc_hfc134a_eq_2019 + (df_conc.loc[2019, gas] * radeff[gas] / radeff['CF4'])\n",
    "hfc_hfc134a_eq_2019 = 0\n",
    "for gas in gases_hfcs:\n",
    "    hfc_hfc134a_eq_2019 = hfc_hfc134a_eq_2019 + (df_conc.loc[2019, gas] * radeff[gas] / radeff['HFC-134a'])\n",
    "montreal_cfc12_eq_2019 = 0\n",
    "for gas in gases_montreal:\n",
    "    montreal_cfc12_eq_2019 = montreal_cfc12_eq_2019 + (df_conc.loc[2019, gas] * radeff[gas] / radeff['CFC-12'])"
   ]
  },
  {
   "cell_type": "code",
   "execution_count": null,
   "id": "63",
   "metadata": {},
   "outputs": [],
   "source": [
    "pfc_hfc134a_eq_2019, hfc_hfc134a_eq_2019, montreal_cfc12_eq_2019"
   ]
  },
  {
   "cell_type": "code",
   "execution_count": null,
   "id": "64",
   "metadata": {},
   "outputs": [],
   "source": [
    "pfc_hfc134a_eq_2022 = 0\n",
    "for gas in gases_pfc:\n",
    "    pfc_hfc134a_eq_2022 = pfc_hfc134a_eq_2022 + (df_conc.loc[2022, gas] * radeff[gas] / radeff['CF4'])\n",
    "hfc_hfc134a_eq_2022 = 0\n",
    "for gas in gases_hfcs:\n",
    "    hfc_hfc134a_eq_2022 = hfc_hfc134a_eq_2022 + (df_conc.loc[2022, gas] * radeff[gas] / radeff['HFC-134a'])\n",
    "montreal_cfc12_eq_2022 = 0\n",
    "for gas in gases_montreal:\n",
    "    montreal_cfc12_eq_2022 = montreal_cfc12_eq_2022 + (df_conc.loc[2022, gas] * radeff[gas] / radeff['CFC-12'])"
   ]
  },
  {
   "cell_type": "code",
   "execution_count": null,
   "id": "65",
   "metadata": {},
   "outputs": [],
   "source": [
    "pfc_hfc134a_eq_2022, hfc_hfc134a_eq_2022, montreal_cfc12_eq_2022"
   ]
  },
  {
   "cell_type": "code",
   "execution_count": null,
   "id": "66",
   "metadata": {},
   "outputs": [],
   "source": []
  }
 ],
 "metadata": {
  "kernelspec": {
   "display_name": "Python 3 (ipykernel)",
   "language": "python",
   "name": "python3"
  },
  "language_info": {
   "codemirror_mode": {
    "name": "ipython",
    "version": 3
   },
   "file_extension": ".py",
   "mimetype": "text/x-python",
   "name": "python",
   "nbconvert_exporter": "python",
   "pygments_lexer": "ipython3",
   "version": "3.12.2"
  }
 },
 "nbformat": 4,
 "nbformat_minor": 5
}
