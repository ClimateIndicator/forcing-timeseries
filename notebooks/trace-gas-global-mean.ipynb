{
 "cells": [
  {
   "cell_type": "markdown",
   "id": "2005808e",
   "metadata": {},
   "source": [
    "IPCC AR6 methodology:\n",
    "\n",
    "The following description comes from the Excel sheet of long-lived greenhouse gas concentrations, v9. See https://github.com/chrisroadmap/ar6/blob/main/data_input/observations/LLGHG_history_AR6_v9_for_archive.xlsx\n",
    "\n",
    "All values are mid-year mean.\n",
    "\n",
    "NOAA only:\n",
    "- CO2\n",
    "\n",
    "AGAGE only:\n",
    "- CFC-114\n",
    "- CFC-115\n",
    "- CFC-13\n",
    "- CF4\n",
    "- C2F6\n",
    "- C3F8\n",
    "- c-C4F8\n",
    "- NF3\n",
    "- SO2F2\n",
    "- HFC-23\n",
    "- HFC-236ea (?)\n",
    "- HFC-245fa\n",
    "- HFC-43-10mee\n",
    "- CHCl3\n",
    "- c-C4F8 (Note that there is ~7% calibration difference for c-C4F8 between AGAGE (Muhle et al. (2019) and Droste et al (2020), but it cannot be resolved using a simple scaling factor, therefore only AGAGE results are included here.)\n",
    "\n",
    "Merged NOAA and AGAGE:\n",
    "- CH4          \n",
    "- N2O\n",
    "- HFC-134a\n",
    "- HFC-32\n",
    "- HFC-125\n",
    "- HFC-143a\n",
    "- HFC-152a\n",
    "- HFC-227ea  \n",
    "- HFC-365mfc\n",
    "- SF6\n",
    "- CFC-12\n",
    "- CFC-11\n",
    "- CFC-113\n",
    "- HCFC-22\n",
    "- HCFC-141b\n",
    "- HCFC-142b\n",
    "- CH3CCl3\n",
    "- CCl4\n",
    "- CH2Cl2        xxx\n",
    "- CH3Cl         xxx !!!\n",
    "- CH3Br\n",
    "- Halon-1211\n",
    "- Halon-1301\n",
    "- Halon-2402\n",
    "- HCFC-133a     xxx !!! (AGAGE HCFC-133a were adjusted down 7% for account for ~14% calibration difference between AGAGE and Laube et al (2014), in an attempt to express HCFC-133a as average of AGAGE and UEA estimates.)\n",
    "\n",
    "\n",
    "xxx : data is not available from the aggregated \n",
    "!!! : data is not available from the disaggreated\n",
    "\n",
    "\n",
    "Laube et al. (2014) and WMO (2018) Southern Hemisphere, extrapolation needed to PD\n",
    "- CFC-112\n",
    "- CFC-112a\n",
    "- CFC-113a\n",
    "\n",
    "Laube et al. (2014) and WMO (2018), extrapolation needed to PD\n",
    "- CFC-114a\n",
    "\n",
    "Schoenberger et al. (2015), extrapolation needed to PD\n",
    "- HCFC-31\n",
    "\n",
    "Simmonds et al. (2017), extrapolation needed to PD\n",
    "- HCFC-124\n",
    "\n",
    "Droste et al. (2020). CMIP6 scaled to Droste et al. (2020) to account for calibration change.\n",
    "- n-C4F10\n",
    "- n-C5F12\n",
    "- n-C6F14\n",
    "- i-C6F14\n",
    "- C7F16\t\n",
    "\n",
    "Vollmer et al. (2018), extrapolation needed to PD\n",
    "- C8F18\n",
    "\n",
    "\n",
    "\n",
    "NOAA (accessed 2023-03-09):\n",
    "- https://gml.noaa.gov/webdata/ccgg/trends/co2/co2_annmean_gl.txt\n",
    "- https://gml.noaa.gov/webdata/ccgg/trends/ch4/ch4_annmean_gl.txt\n",
    "- https://gml.noaa.gov/webdata/ccgg/trends/n2o/n2o_annmean_gl.txt\n",
    "- https://gml.noaa.gov/webdata/ccgg/trends/sf6/sf6_annmean_gl.txt\n",
    "- https://gml.noaa.gov/aftp/data/hats/Total_Cl_Br/2022%20update%20total%20Cl%20Br%20&%20F.xls  (converted to CSV)\n",
    "- https://gml.noaa.gov/aftp/data/hats/solvents/CH2Cl2/flasks/ch2cl2_GCMS_flask.txt\n",
    "- https://gml.noaa.gov/aftp/data/hats/solvents/C2Cl4/flasks/pce_GCMS_flask.txt\n",
    "- https://gml.noaa.gov/aftp/data/hats/carbonyl%20sulfide/OCS__GCMS_flask.txt\n",
    "\n",
    "AGAGE (accessed 2023-03-09):\n",
    "- https://agage2.eas.gatech.edu/data_archive/global_mean/global_mean_ms.txt\n",
    "- https://agage2.eas.gatech.edu/data_archive/global_mean/global_mean_md.txt"
   ]
  },
  {
   "cell_type": "code",
   "execution_count": null,
   "id": "79cbfbcf",
   "metadata": {},
   "outputs": [],
   "source": [
    "import numpy as np\n",
    "import pandas as pd\n",
    "import matplotlib.pyplot as pl"
   ]
  },
  {
   "cell_type": "code",
   "execution_count": null,
   "id": "2edb2176",
   "metadata": {},
   "outputs": [],
   "source": [
    "df_co2 = pd.read_csv(\n",
    "    '../data/ghg_concentrations/noaa_gml/co2_annmean_gl.txt', \n",
    "    delim_whitespace=True,\n",
    "    comment='#', \n",
    "    names=['year', 'mean', 'unc'],\n",
    "    index_col=0\n",
    ")"
   ]
  },
  {
   "cell_type": "code",
   "execution_count": null,
   "id": "1c3383d9",
   "metadata": {},
   "outputs": [],
   "source": [
    "df_ch4_noaa = pd.read_csv(\n",
    "    '../data/ghg_concentrations/noaa_gml/ch4_annmean_gl.txt', \n",
    "    delim_whitespace=True,\n",
    "    comment='#', \n",
    "    names=['year', 'mean', 'unc'],\n",
    "    index_col=0\n",
    ")"
   ]
  },
  {
   "cell_type": "code",
   "execution_count": null,
   "id": "1c35175e",
   "metadata": {},
   "outputs": [],
   "source": [
    "df_n2o_noaa = pd.read_csv(\n",
    "    '../data/ghg_concentrations/noaa_gml/n2o_annmean_gl.txt', \n",
    "    delim_whitespace=True,\n",
    "    comment='#', \n",
    "    names=['year', 'mean', 'unc'],\n",
    "    index_col=0\n",
    ")"
   ]
  },
  {
   "cell_type": "code",
   "execution_count": null,
   "id": "5e9faf94",
   "metadata": {},
   "outputs": [],
   "source": [
    "df_sf6_noaa = pd.read_csv(\n",
    "    '../data/ghg_concentrations/noaa_gml/sf6_annmean_gl.txt', \n",
    "    delim_whitespace=True,\n",
    "    comment='#', \n",
    "    names=['year', 'mean', 'unc'],\n",
    "    index_col=0\n",
    ")"
   ]
  },
  {
   "cell_type": "code",
   "execution_count": null,
   "id": "2b8f4f88",
   "metadata": {},
   "outputs": [],
   "source": [
    "df_noaa = pd.read_csv(\n",
    "    '../data/ghg_concentrations/noaa_gml/noaa_2022_global_mean_mixing_ratios.csv'\n",
    ")"
   ]
  },
  {
   "cell_type": "code",
   "execution_count": null,
   "id": "637092e8",
   "metadata": {},
   "outputs": [],
   "source": [
    "df_noaa"
   ]
  },
  {
   "cell_type": "code",
   "execution_count": null,
   "id": "8b427a2a",
   "metadata": {},
   "outputs": [],
   "source": [
    "df_noaa[df_noaa==\"ND\"]=np.nan"
   ]
  },
  {
   "cell_type": "code",
   "execution_count": null,
   "id": "c6c2cb5d",
   "metadata": {},
   "outputs": [],
   "source": [
    "df_noaa = df_noaa.rolling(6, center=True).mean()\n",
    "df_noaa['YYYY'] = df_noaa.date-0.5\n",
    "df_noaa.drop(df_noaa.tail(2).index,inplace=True)\n",
    "df_noaa.drop(df_noaa.head(3).index,inplace=True)\n",
    "df_noaa.set_index('YYYY', inplace=True)\n",
    "df_noaa.drop(columns=['date'], inplace=True)\n",
    "df_noaa = df_noaa[df_noaa.index % 1 == 0]\n",
    "df_noaa"
   ]
  },
  {
   "cell_type": "code",
   "execution_count": null,
   "id": "3ca628d2",
   "metadata": {},
   "outputs": [],
   "source": [
    "# df_agage_md = df_agage_md.rolling(12, min_periods=12, center=True, step=12).mean().drop([col for col in df_agage_md.columns if '---' in col],axis=1)\n",
    "# df_agage_md.drop(columns='MM', inplace=True)\n",
    "# df_agage_md.set_index('YYYY', inplace=True)\n",
    "# df_agage_md.drop(index=np.nan, inplace=True)"
   ]
  },
  {
   "cell_type": "code",
   "execution_count": null,
   "id": "9539b6a7",
   "metadata": {},
   "outputs": [],
   "source": [
    "pd.read_csv(\n",
    "    '../data/ghg_concentrations/noaa_gml/ch2cl2_GCMS_flask.txt', \n",
    "    delim_whitespace=True,\n",
    "    skiprows=1\n",
    ")"
   ]
  },
  {
   "cell_type": "code",
   "execution_count": null,
   "id": "bee5e15c",
   "metadata": {},
   "outputs": [],
   "source": [
    "pd.read_csv(\n",
    "    '../data/ghg_concentrations/noaa_gml/OCS__GCMS_flask.txt', \n",
    "    delim_whitespace=True,\n",
    "    skiprows=1\n",
    ")"
   ]
  },
  {
   "cell_type": "code",
   "execution_count": null,
   "id": "113078cc",
   "metadata": {},
   "outputs": [],
   "source": [
    "pd.read_csv(\n",
    "    '../data/ghg_concentrations/noaa_gml/pce_GCMS_flask.txt', \n",
    "    delim_whitespace=True,\n",
    "    skiprows=1\n",
    ")"
   ]
  },
  {
   "cell_type": "code",
   "execution_count": null,
   "id": "a130ac34",
   "metadata": {},
   "outputs": [],
   "source": [
    "df_agage_ms = pd.read_csv(\n",
    "    '../data/ghg_concentrations/agage/global_mean_ms.txt', \n",
    "    delim_whitespace=True,\n",
    "    skiprows=14,\n",
    "    index_col=0\n",
    ")"
   ]
  },
  {
   "cell_type": "code",
   "execution_count": null,
   "id": "cb58c0db",
   "metadata": {},
   "outputs": [],
   "source": [
    "df_agage_ms = df_agage_ms.rolling(12, center=True).mean().drop([col for col in df_agage_ms.columns if '---' in col],axis=1)\n",
    "df_agage_ms.drop(columns='MM', inplace=True)\n",
    "df_agage_ms.set_index('YYYY', inplace=True)\n",
    "df_agage_ms = df_agage_ms[df_agage_ms.index % 1 == 0]"
   ]
  },
  {
   "cell_type": "code",
   "execution_count": null,
   "id": "99068017",
   "metadata": {},
   "outputs": [],
   "source": [
    "df_agage_ms[df_agage_ms.index % 1 == 0]"
   ]
  },
  {
   "cell_type": "code",
   "execution_count": null,
   "id": "88e29e8d",
   "metadata": {},
   "outputs": [],
   "source": [
    "df_conc = pd.read_csv(\n",
    "    '../data/ghg_concentrations/ipcc_ar6_wg1.csv',\n",
    "    index_col=0\n",
    ")"
   ]
  },
  {
   "cell_type": "code",
   "execution_count": null,
   "id": "7dab0479",
   "metadata": {},
   "outputs": [],
   "source": [
    "df_conc.loc[2020, :] = np.nan\n",
    "df_conc.loc[2021, :] = np.nan\n",
    "df_conc.loc[2022, :] = np.nan"
   ]
  },
  {
   "cell_type": "code",
   "execution_count": null,
   "id": "6c7a145a",
   "metadata": {},
   "outputs": [],
   "source": [
    "df_conc"
   ]
  },
  {
   "cell_type": "code",
   "execution_count": null,
   "id": "0eedc71a",
   "metadata": {},
   "outputs": [],
   "source": [
    "df_conc.loc[1980:, 'CO2'] = df_co2.loc[1980:, 'mean']"
   ]
  },
  {
   "cell_type": "code",
   "execution_count": null,
   "id": "dfa7df51",
   "metadata": {},
   "outputs": [],
   "source": [
    "df_conc"
   ]
  },
  {
   "cell_type": "code",
   "execution_count": null,
   "id": "29439820",
   "metadata": {},
   "outputs": [],
   "source": [
    "df_agage_md = pd.read_csv(\n",
    "    '../data/ghg_concentrations/agage/global_mean_md.txt', \n",
    "    delim_whitespace=True,\n",
    "    skiprows=14,\n",
    "    index_col=0\n",
    ")"
   ]
  },
  {
   "cell_type": "code",
   "execution_count": null,
   "id": "746205d4",
   "metadata": {},
   "outputs": [],
   "source": [
    "df_agage_md = df_agage_md.rolling(12, min_periods=12, center=True, step=12).mean().drop([col for col in df_agage_md.columns if '---' in col],axis=1)\n",
    "df_agage_md.drop(columns='MM', inplace=True)\n",
    "df_agage_md.set_index('YYYY', inplace=True)\n",
    "df_agage_md.drop(index=np.nan, inplace=True)"
   ]
  },
  {
   "cell_type": "code",
   "execution_count": null,
   "id": "d5b1a4ad",
   "metadata": {},
   "outputs": [],
   "source": [
    "df_agage_md"
   ]
  },
  {
   "cell_type": "code",
   "execution_count": null,
   "id": "22c3cb7b",
   "metadata": {},
   "outputs": [],
   "source": [
    "#df_ch4_noaa"
   ]
  },
  {
   "cell_type": "code",
   "execution_count": null,
   "id": "af1bf519",
   "metadata": {},
   "outputs": [],
   "source": [
    "ch4_mean_offset = (df_ch4_noaa.loc[1987:2019, 'mean'] - df_agage_md.loc[1987:2019, 'CH4']).mean()"
   ]
  },
  {
   "cell_type": "code",
   "execution_count": null,
   "id": "6e3abc59",
   "metadata": {},
   "outputs": [],
   "source": [
    "df_conc.loc[1987:2019, 'CH4'] = 0.5 * (df_ch4_noaa.loc[1987:2019, 'mean'] + df_agage_md.loc[1987:2019, 'CH4'])"
   ]
  },
  {
   "cell_type": "code",
   "execution_count": null,
   "id": "41abb9cd",
   "metadata": {},
   "outputs": [],
   "source": [
    "df_conc.loc[2020:2021, 'CH4'] = df_ch4_noaa.loc[2020:, 'mean'] + ch4_mean_offset"
   ]
  },
  {
   "cell_type": "code",
   "execution_count": null,
   "id": "df5ea06d",
   "metadata": {},
   "outputs": [],
   "source": [
    "sf6_mean_offset = (df_ch4_noaa.loc[2004:2019, 'mean'] - df_agage_ms.loc[2004:2019, 'SF6']).mean()\n",
    "df_conc.loc[2004:2019, 'SF6'] = 0.5 * (df_sf6_noaa.loc[2004:2019, 'mean'] + df_agage_ms.loc[2004:2019, 'SF6'])\n",
    "df_conc.loc[2020:2021, 'SF6'] = df_sf6_noaa.loc[2020:, 'mean'] + sf6_mean_offset"
   ]
  },
  {
   "cell_type": "code",
   "execution_count": null,
   "id": "6d209b79",
   "metadata": {},
   "outputs": [],
   "source": [
    "df_conc"
   ]
  },
  {
   "cell_type": "code",
   "execution_count": null,
   "id": "d2e47761",
   "metadata": {},
   "outputs": [],
   "source": [
    "n2o_mean_offset = (df_n2o_noaa.loc[1979:2019, 'mean'] - df_agage_md.loc[1979:2019, 'N2O']).mean()"
   ]
  },
  {
   "cell_type": "code",
   "execution_count": null,
   "id": "e6e4fa11",
   "metadata": {},
   "outputs": [],
   "source": [
    "df_conc.loc[1979:2019, 'N2O'] = 0.5 * (df_n2o_noaa.loc[1979:2019, 'mean'] + df_agage_md.loc[1979:2019, 'N2O'])"
   ]
  },
  {
   "cell_type": "code",
   "execution_count": null,
   "id": "710fb641",
   "metadata": {},
   "outputs": [],
   "source": [
    "df_conc.loc[2020:2021, 'N2O'] = df_n2o_noaa.loc[2020:, 'mean'] + n2o_mean_offset"
   ]
  },
  {
   "cell_type": "code",
   "execution_count": null,
   "id": "13a05f90",
   "metadata": {},
   "outputs": [],
   "source": [
    "df_conc"
   ]
  },
  {
   "cell_type": "code",
   "execution_count": null,
   "id": "8516da17",
   "metadata": {},
   "outputs": [],
   "source": [
    "species = [\n",
    "    'HFC-134a', 'HFC-32', 'HFC-125', 'HFC-143a', 'HFC-152a', 'HFC-227ea', 'HFC-365mfc', 'HCFC-22', \n",
    "    'HCFC-141b', 'HCFC-142b', 'CH3CCl3', 'CH3Br', 'H-1211', 'H-1301', 'H-2402'\n",
    "]\n",
    "names = {specie: specie for specie in species}\n",
    "first = {specie: 2004 for specie in species}\n",
    "names['H-1211'] = 'Halon-1211'\n",
    "names['H-1301'] = 'Halon-1301'\n",
    "names['H-2402'] = 'Halon-2402'\n",
    "first['HFC-365mfc'] = 2008\n",
    "first['HFC-227ea'] = 2008"
   ]
  },
  {
   "cell_type": "code",
   "execution_count": null,
   "id": "3511801c",
   "metadata": {},
   "outputs": [],
   "source": [
    "for specie in species:\n",
    "    mean_offset = (df_noaa.loc[first[specie]:2020, specie] - df_agage_ms.loc[first[specie]:2020, specie]).mean()\n",
    "    df_conc.loc[first[specie]:2020, names[specie]] = 0.5 * (df_noaa.loc[first[specie]:2020, specie] + df_agage_ms.loc[first[specie]:2020, specie])\n",
    "    df_conc.loc[2021, names[specie]] = df_noaa.loc[2021, specie] + mean_offset"
   ]
  },
  {
   "cell_type": "code",
   "execution_count": null,
   "id": "4f4250c2",
   "metadata": {},
   "outputs": [],
   "source": [
    "df_conc"
   ]
  },
  {
   "cell_type": "code",
   "execution_count": null,
   "id": "c1adb139",
   "metadata": {},
   "outputs": [],
   "source": [
    "species = [\n",
    "    'CFC-11', 'CFC-12', 'CFC-113', 'CH3CCl3', 'CCl4'\n",
    "]\n",
    "names = {specie: specie for specie in species}\n",
    "first = {specie: 1979 for specie in species}\n",
    "#names['H-1211'] = 'Halon-1211'\n",
    "#names['H-1301'] = 'Halon-1301'\n",
    "#names['H-2402'] = 'Halon-2402'\n",
    "first['CFC-113'] = 1984"
   ]
  },
  {
   "cell_type": "code",
   "execution_count": null,
   "id": "47143404",
   "metadata": {},
   "outputs": [],
   "source": [
    "for specie in species:\n",
    "    mean_offset = (df_noaa.loc[first[specie]:2019, specie] - df_agage_md.loc[first[specie]:2019, specie]).mean()\n",
    "    df_conc.loc[first[specie]:2019, names[specie]] = 0.5 * (df_noaa.loc[first[specie]:2019, specie] + df_agage_md.loc[first[specie]:2019, specie])\n",
    "    df_conc.loc[2020:2021, names[specie]] = df_noaa.loc[2020:, specie] + mean_offset"
   ]
  },
  {
   "cell_type": "code",
   "execution_count": null,
   "id": "41570b51",
   "metadata": {},
   "outputs": [],
   "source": [
    "df_conc"
   ]
  }
 ],
 "metadata": {
  "kernelspec": {
   "display_name": "Python 3 (ipykernel)",
   "language": "python",
   "name": "python3"
  },
  "language_info": {
   "codemirror_mode": {
    "name": "ipython",
    "version": 3
   },
   "file_extension": ".py",
   "mimetype": "text/x-python",
   "name": "python",
   "nbconvert_exporter": "python",
   "pygments_lexer": "ipython3",
   "version": "3.11.0"
  }
 },
 "nbformat": 4,
 "nbformat_minor": 5
}
