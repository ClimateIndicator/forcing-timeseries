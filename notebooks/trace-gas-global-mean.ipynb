{
 "cells": [
  {
   "cell_type": "markdown",
   "id": "0",
   "metadata": {},
   "source": [
    "# Calculate GHG concentrations\n",
    "\n",
    "IPCC AR6 methodology:\n",
    "\n",
    "The following description comes from the Excel sheet of long-lived greenhouse gas concentrations, v9. See https://github.com/chrisroadmap/ar6/blob/main/data_input/observations/LLGHG_history_AR6_v9_for_archive.xlsx\n",
    "\n",
    "All values are mid-year mean.\n",
    "\n",
    "Xin Lan and Brad Hall updated most GHGs to 2023. All others are extrapolated from most recent year - either NOAA, AGAGE, or value used in IPCC.\n",
    "\n",
    "https://gml.noaa.gov/aftp/data/ is usually a good place to look\n",
    "\n",
    "NOAA (accessed 2024-02-29):\n",
    "- https://gml.noaa.gov/webdata/ccgg/trends/co2/co2_annmean_gl.txt\n",
    "- https://gml.noaa.gov/webdata/ccgg/trends/ch4/ch4_annmean_gl.txt\n",
    "- https://gml.noaa.gov/webdata/ccgg/trends/n2o/n2o_annmean_gl.txt\n",
    "- https://gml.noaa.gov/webdata/ccgg/trends/sf6/sf6_annmean_gl.txt\n",
    "- https://gml.noaa.gov/aftp/data/hats/Total_Cl_Br/2023%20update%20total%20Cl%20Br%20&%20F.xls  (converted to CSV)\n",
    "\n",
    "AGAGE (accessed 2023-03-09; has not been updated as of 2024-02-26):\n",
    "- https://agage2.eas.gatech.edu/data_archive/global_mean/global_mean_ms.txt\n",
    "- https://agage2.eas.gatech.edu/data_archive/global_mean/global_mean_md.txt"
   ]
  },
  {
   "cell_type": "code",
   "execution_count": null,
   "id": "1",
   "metadata": {},
   "outputs": [],
   "source": [
    "import os\n",
    "import numpy as np\n",
    "import pandas as pd\n",
    "import matplotlib.pyplot as pl\n",
    "from scipy.optimize import curve_fit"
   ]
  },
  {
   "cell_type": "code",
   "execution_count": null,
   "id": "2",
   "metadata": {},
   "outputs": [],
   "source": [
    "pd.set_option('display.max_columns', 500)"
   ]
  },
  {
   "cell_type": "code",
   "execution_count": null,
   "id": "3",
   "metadata": {},
   "outputs": [],
   "source": [
    "df_co2 = pd.read_csv(\n",
    "    '../data/ghg_concentrations/noaa_gml/co2_annmean_gl.txt', \n",
    "    sep=r'\\s+',\n",
    "    comment='#', \n",
    "    names=['year', 'mean', 'unc'],\n",
    "    index_col=0\n",
    ")"
   ]
  },
  {
   "cell_type": "code",
   "execution_count": null,
   "id": "4",
   "metadata": {},
   "outputs": [],
   "source": [
    "df_ch4_noaa = pd.read_csv(\n",
    "    '../data/ghg_concentrations/noaa_gml/ch4_annmean_gl.txt', \n",
    "    sep=r'\\s+',\n",
    "    comment='#', \n",
    "    names=['year', 'mean', 'unc'],\n",
    "    index_col=0\n",
    ")"
   ]
  },
  {
   "cell_type": "code",
   "execution_count": null,
   "id": "5",
   "metadata": {},
   "outputs": [],
   "source": [
    "df_n2o_noaa = pd.read_csv(\n",
    "    '../data/ghg_concentrations/noaa_gml/n2o_annmean_gl.txt', \n",
    "    sep=r'\\s+',\n",
    "    comment='#', \n",
    "    names=['year', 'mean', 'unc'],\n",
    "    index_col=0\n",
    ")"
   ]
  },
  {
   "cell_type": "code",
   "execution_count": null,
   "id": "6",
   "metadata": {},
   "outputs": [],
   "source": [
    "df_noaa = pd.read_csv(\n",
    "    '../data/ghg_concentrations/noaa_gml/noaa_2023_global_mean_mixing_ratios.csv'\n",
    ")"
   ]
  },
  {
   "cell_type": "code",
   "execution_count": null,
   "id": "7",
   "metadata": {},
   "outputs": [],
   "source": [
    "df_noaa"
   ]
  },
  {
   "cell_type": "code",
   "execution_count": null,
   "id": "8",
   "metadata": {},
   "outputs": [],
   "source": [
    "df_noaa.loc[162:167,'CFC-12']"
   ]
  },
  {
   "cell_type": "code",
   "execution_count": null,
   "id": "9",
   "metadata": {},
   "outputs": [],
   "source": [
    "df_noaa[df_noaa==\"ND\"]=np.nan"
   ]
  },
  {
   "cell_type": "code",
   "execution_count": null,
   "id": "10",
   "metadata": {},
   "outputs": [],
   "source": [
    "df_noaa = df_noaa.rolling(6, center=True).mean()\n",
    "df_noaa['YYYY'] = df_noaa.date-0.5\n",
    "df_noaa.drop(df_noaa.tail(2).index,inplace=True)\n",
    "df_noaa.drop(df_noaa.head(3).index,inplace=True)\n",
    "df_noaa.set_index('YYYY', inplace=True)\n",
    "df_noaa.drop(columns=['date'], inplace=True)\n",
    "df_noaa.rename(columns={'H2402': 'H-2402'}, inplace=True)\n",
    "df_noaa = df_noaa[df_noaa.index % 1 == 0]\n",
    "df_noaa"
   ]
  },
  {
   "cell_type": "code",
   "execution_count": null,
   "id": "11",
   "metadata": {},
   "outputs": [],
   "source": [
    "df_agage_ms = pd.read_csv(\n",
    "    '../data/ghg_concentrations/agage/global_mean_ms.txt', \n",
    "    sep=r'\\s+',\n",
    "    skiprows=14,\n",
    "    index_col=0\n",
    ")"
   ]
  },
  {
   "cell_type": "code",
   "execution_count": null,
   "id": "12",
   "metadata": {},
   "outputs": [],
   "source": [
    "df_agage_ms = df_agage_ms.rolling(12, center=True).mean().drop([col for col in df_agage_ms.columns if '---' in col],axis=1)\n",
    "df_agage_ms.drop(columns='MM', inplace=True)\n",
    "df_agage_ms.set_index('YYYY', inplace=True)\n",
    "df_agage_ms = df_agage_ms[df_agage_ms.index % 1 == 0]"
   ]
  },
  {
   "cell_type": "code",
   "execution_count": null,
   "id": "13",
   "metadata": {},
   "outputs": [],
   "source": [
    "df_agage_ms[df_agage_ms.index % 1 == 0]"
   ]
  },
  {
   "cell_type": "code",
   "execution_count": null,
   "id": "14",
   "metadata": {},
   "outputs": [],
   "source": [
    "df_conc = pd.read_csv(\n",
    "    '../data/ghg_concentrations/ar6_updated/ipcc_ar6_wg1.csv',\n",
    "    index_col=0\n",
    ")"
   ]
  },
  {
   "cell_type": "code",
   "execution_count": null,
   "id": "15",
   "metadata": {},
   "outputs": [],
   "source": [
    "df_conc.loc[2020, :] = np.nan\n",
    "df_conc.loc[2021, :] = np.nan\n",
    "df_conc.loc[2022, :] = np.nan\n",
    "df_conc.loc[2023, :] = np.nan"
   ]
  },
  {
   "cell_type": "code",
   "execution_count": null,
   "id": "16",
   "metadata": {},
   "outputs": [],
   "source": [
    "df_co2"
   ]
  },
  {
   "cell_type": "code",
   "execution_count": null,
   "id": "17",
   "metadata": {},
   "outputs": [],
   "source": [
    "df_update = pd.read_csv(\n",
    "    '../data/ghg_concentrations/ar6_updated/update_2019-2023.csv',\n",
    "    index_col=0\n",
    ")\n",
    "\n",
    "# note CO2 is on X2007 scale in the 2022 Climate Indicators - the offset is 0.18 ppm\n",
    "df_update"
   ]
  },
  {
   "cell_type": "code",
   "execution_count": null,
   "id": "18",
   "metadata": {},
   "outputs": [],
   "source": [
    "df_ch4_noaa.loc[1984:2022, 'mean']"
   ]
  },
  {
   "cell_type": "code",
   "execution_count": null,
   "id": "19",
   "metadata": {},
   "outputs": [],
   "source": [
    "# difference between NOAA and NOAA/AGAGE is small\n",
    "pd.concat((df_conc.loc[1984:2019, 'CH4'], df_update.loc[2020:2022, 'CH4']), axis=0) - df_ch4_noaa.loc[1984:2022, 'mean']"
   ]
  },
  {
   "cell_type": "code",
   "execution_count": null,
   "id": "20",
   "metadata": {},
   "outputs": [],
   "source": [
    "df_n2o_noaa.loc[2001:2022, 'mean']"
   ]
  },
  {
   "cell_type": "code",
   "execution_count": null,
   "id": "21",
   "metadata": {},
   "outputs": [],
   "source": [
    "# For N2O it's a bit bigger. Lindsey recommends scaling NOAA up by 1.0007\n",
    "pd.concat((df_conc.loc[2001:2019, 'N2O'], df_update.loc[2020:2022, 'N2O']), axis=0) - df_n2o_noaa.loc[2001:2022, 'mean']"
   ]
  },
  {
   "cell_type": "code",
   "execution_count": null,
   "id": "22",
   "metadata": {},
   "outputs": [],
   "source": [
    "pd.concat((df_conc.loc[2001:2019, 'N2O'], df_update.loc[2020:2022, 'N2O']), axis=0) - 1.0007 * df_n2o_noaa.loc[2001:2022, 'mean']"
   ]
  },
  {
   "cell_type": "code",
   "execution_count": null,
   "id": "23",
   "metadata": {},
   "outputs": [],
   "source": [
    "# I do think that CH4 and N2O should include AGAGE\n",
    "\n",
    "# CO2: this is on X2019 scale. Meinshausen et al (2017) is the source of pre-1980 data in AR6. \n",
    "# Meinshausen data should be adjusted for the X2019 scale.\n",
    "# X2019 = 1.00079*X2007 - 0.142 (from Brad)\n",
    "df_conc.loc[1750:1978, 'CO2'] = df_conc.loc[1750:1978, 'CO2'] * 1.00079 - 0.142\n",
    "\n",
    "df_conc.loc[1979:2022, 'CO2'] = df_co2.loc[1979:2022, 'mean']\n",
    "\n",
    "# For methane and N2O, the calibration scales have not changed, and we use multiple datasets, so continue with 2022 Indicators estimate and\n",
    "# adjust 2023 NOAA-only value for the average of the differences between 2022 Indicators and NOAA\n",
    "df_conc.loc[2020:2022, 'CH4':'N2O'] = df_update.loc[2020:2022, 'CH4':'N2O']"
   ]
  },
  {
   "cell_type": "code",
   "execution_count": null,
   "id": "24",
   "metadata": {},
   "outputs": [],
   "source": [
    "df_conc.columns"
   ]
  },
  {
   "cell_type": "code",
   "execution_count": null,
   "id": "25",
   "metadata": {},
   "outputs": [],
   "source": [
    "df_update.columns"
   ]
  },
  {
   "cell_type": "code",
   "execution_count": null,
   "id": "26",
   "metadata": {},
   "outputs": [],
   "source": [
    "df_update.rename(columns={'H-2402': 'Halon-2402'}, inplace=True)\n",
    "df_update.rename(columns={'H-1211': 'Halon-1211'}, inplace=True)\n",
    "df_update.rename(columns={'H-1301': 'Halon-1301'}, inplace=True)\n",
    "df_update.rename(columns={'H-1202': 'Halon-1202'}, inplace=True)"
   ]
  },
  {
   "cell_type": "code",
   "execution_count": null,
   "id": "27",
   "metadata": {},
   "outputs": [],
   "source": [
    "# now let's incorporate Brad and Lindsay's new data\n",
    "for species in df_update.columns:\n",
    "    if species in ['Halon-1202']:\n",
    "        continue\n",
    "    df_conc.loc[2019:2023, species] = df_update.loc[2019:2023, species]"
   ]
  },
  {
   "cell_type": "code",
   "execution_count": null,
   "id": "28",
   "metadata": {},
   "outputs": [],
   "source": [
    "df_conc"
   ]
  },
  {
   "cell_type": "code",
   "execution_count": null,
   "id": "29",
   "metadata": {},
   "outputs": [],
   "source": [
    "df_agage_md = pd.read_csv(\n",
    "    '../data/ghg_concentrations/agage/global_mean_md.txt', \n",
    "    sep=r'\\s+',\n",
    "    skiprows=14,\n",
    "    index_col=0\n",
    ")"
   ]
  },
  {
   "cell_type": "code",
   "execution_count": null,
   "id": "30",
   "metadata": {},
   "outputs": [],
   "source": [
    "df_agage_md = df_agage_md.rolling(12, min_periods=12, center=True, step=12).mean().drop([col for col in df_agage_md.columns if '---' in col],axis=1)\n",
    "df_agage_md.drop(columns='MM', inplace=True)\n",
    "df_agage_md.set_index('YYYY', inplace=True)\n",
    "df_agage_md.drop(index=np.nan, inplace=True)"
   ]
  },
  {
   "cell_type": "code",
   "execution_count": null,
   "id": "31",
   "metadata": {},
   "outputs": [],
   "source": [
    "df_agage_md"
   ]
  },
  {
   "cell_type": "code",
   "execution_count": null,
   "id": "32",
   "metadata": {},
   "outputs": [],
   "source": [
    "df_agage_ms.loc[2008:2020, 'HFC4310mee']"
   ]
  },
  {
   "cell_type": "code",
   "execution_count": null,
   "id": "33",
   "metadata": {},
   "outputs": [],
   "source": [
    "df_conc.loc[2011:2020, 'HFC-43-10mee'] = df_agage_ms.loc[2011:2020, 'HFC4310mee']"
   ]
  },
  {
   "cell_type": "code",
   "execution_count": null,
   "id": "34",
   "metadata": {},
   "outputs": [],
   "source": [
    "df_conc.loc[1850:1989, 'i-C6F14'] = 0\n",
    "df_conc.loc[1990:2015, 'i-C6F14'].interpolate(inplace=True)"
   ]
  },
  {
   "cell_type": "code",
   "execution_count": null,
   "id": "35",
   "metadata": {},
   "outputs": [],
   "source": [
    "df_conc.loc[1850:1977, 'CFC-112'] = 0\n",
    "df_conc.loc[1850:1977, 'CFC-112a'] = 0\n",
    "df_conc.loc[1850:1977, 'CFC-113a'] = 0\n",
    "df_conc.loc[1850:1977, 'CFC-114a'] = 0\n",
    "df_conc.loc[1850:1979, 'HCFC-133a'] = 0\n",
    "df_conc.loc[1850:1999, 'HCFC-31'] = 0\n",
    "df_conc.loc[1850:2003, 'HCFC-124'] = 0"
   ]
  },
  {
   "cell_type": "code",
   "execution_count": null,
   "id": "36",
   "metadata": {},
   "outputs": [],
   "source": [
    "# Function to curve fit to the data\n",
    "def linear(x, c, d):\n",
    "    return c * x + d\n",
    "\n",
    "# Initial parameter guess, just to kick off the optimization\n",
    "guess = (1, 0)\n",
    "\n",
    "# Place to store function parameters for each column\n",
    "col_params = {}\n",
    "\n",
    "# Curve fit each column\n",
    "for col in df_conc.columns:\n",
    "    # Create copy of data to remove NaNs for curve fitting\n",
    "    fit_df = df_conc[col].dropna()\n",
    "\n",
    "    # Get x & y\n",
    "    x = fit_df.index.astype(float).values[-5:]\n",
    "    y = fit_df.values[-5:]\n",
    "    print (col, x, y)\n",
    "    # Curve fit column and get curve parameters\n",
    "    params = curve_fit(linear, x, y, guess)\n",
    "    # Store optimized parameters\n",
    "    col_params[col] = params[0]\n",
    "\n",
    "# Extrapolate each column\n",
    "for col in df_conc.columns:\n",
    "    # Get the index values for NaNs in the column\n",
    "    x = df_conc[pd.isnull(df_conc[col])].index.astype(float).values\n",
    "    print(col, x)\n",
    "    # Extrapolate those points with the fitted function\n",
    "    df_conc[col][x] = linear(x, *col_params[col])"
   ]
  },
  {
   "cell_type": "code",
   "execution_count": null,
   "id": "37",
   "metadata": {},
   "outputs": [],
   "source": [
    "df_conc"
   ]
  },
  {
   "cell_type": "code",
   "execution_count": null,
   "id": "38",
   "metadata": {},
   "outputs": [],
   "source": [
    "os.makedirs('../output', exist_ok = True)\n",
    "df_conc.to_csv('../output/ghg_concentrations_1750-2023.csv')"
   ]
  },
  {
   "cell_type": "markdown",
   "id": "39",
   "metadata": {},
   "source": [
    "## Aggregated categories"
   ]
  },
  {
   "cell_type": "code",
   "execution_count": null,
   "id": "40",
   "metadata": {},
   "outputs": [],
   "source": [
    "gases_hfcs = [\n",
    "    'HFC-134a',\n",
    "    'HFC-23', \n",
    "    'HFC-32', \n",
    "    'HFC-125',\n",
    "    'HFC-143a', \n",
    "    'HFC-152a', \n",
    "    'HFC-227ea', \n",
    "    'HFC-236fa', \n",
    "    'HFC-245fa', \n",
    "    'HFC-365mfc',\n",
    "    'HFC-43-10mee',\n",
    "]\n",
    "gases_montreal = [\n",
    "    'CFC-12',\n",
    "    'CFC-11',\n",
    "    'CFC-113',\n",
    "    'CFC-114',\n",
    "    'CFC-115',\n",
    "    'CFC-13',\n",
    "    'HCFC-22',\n",
    "    'HCFC-141b',\n",
    "    'HCFC-142b',\n",
    "    'CH3CCl3',\n",
    "    'CCl4',  # yes\n",
    "    'CH3Cl',  # no\n",
    "    'CH3Br',  # yes\n",
    "    'CH2Cl2',  # no!\n",
    "    'CHCl3',  # no\n",
    "    'Halon-1211',\n",
    "    'Halon-1301',\n",
    "    'Halon-2402',\n",
    "    'CFC-112',\n",
    "    'CFC-112a',\n",
    "    'CFC-113a',\n",
    "    'CFC-114a',\n",
    "    'HCFC-133a',\n",
    "    'HCFC-31',\n",
    "    'HCFC-124'\n",
    "]\n",
    "gases_pfc = [\n",
    "    'CF4',\n",
    "    'C2F6',\n",
    "    'C3F8',\n",
    "    'c-C4F8',\n",
    "    'n-C4F10',\n",
    "    'n-C5F12',\n",
    "    'n-C6F14',\n",
    "    'i-C6F14',\n",
    "    'C7F16',\n",
    "    'C8F18',\n",
    "]"
   ]
  },
  {
   "cell_type": "code",
   "execution_count": null,
   "id": "41",
   "metadata": {},
   "outputs": [],
   "source": [
    "# source: Hodnebrog et al 2020 https://agupubs.onlinelibrary.wiley.com/doi/full/10.1029/2019RG000691\n",
    "radeff = {\n",
    "    'HFC-125':      0.23378,\n",
    "    'HFC-134a':     0.16714,\n",
    "    'HFC-143a':     0.168,\n",
    "    'HFC-152a':     0.10174,\n",
    "    'HFC-227ea':    0.27325,\n",
    "    'HFC-23':       0.19111,\n",
    "    'HFC-236fa':    0.25069,\n",
    "    'HFC-245fa':    0.24498,\n",
    "    'HFC-32':       0.11144,\n",
    "    'HFC-365mfc':   0.22813,\n",
    "    'HFC-43-10mee': 0.35731,\n",
    "    'NF3':          0.20448,\n",
    "    'C2F6':         0.26105,\n",
    "    'C3F8':         0.26999,\n",
    "    'n-C4F10':      0.36874,\n",
    "    'n-C5F12':      0.4076,\n",
    "    'n-C6F14':      0.44888,\n",
    "    'i-C6F14':      0.44888,\n",
    "    'C7F16':        0.50312,\n",
    "    'C8F18':        0.55787,\n",
    "    'CF4':          0.09859,\n",
    "    'c-C4F8':       0.31392,\n",
    "    'SF6':          0.56657,\n",
    "    'SO2F2':        0.21074,\n",
    "    'CCl4':         0.16616,\n",
    "    'CFC-11':       0.25941,\n",
    "    'CFC-112':      0.28192,\n",
    "    'CFC-112a':     0.24564,\n",
    "    'CFC-113':      0.30142,\n",
    "    'CFC-113a':     0.24094, \n",
    "    'CFC-114':      0.31433,\n",
    "    'CFC-114a':     0.29747,\n",
    "    'CFC-115':      0.24625,\n",
    "    'CFC-12':       0.31998,\n",
    "    'CFC-13':       0.27752,\n",
    "    'CH2Cl2':       0.02882,\n",
    "    'CH3Br':        0.00432,\n",
    "    'CH3CCl3':      0.06454,\n",
    "    'CH3Cl':        0.00466,\n",
    "    'CHCl3':        0.07357,\n",
    "    'HCFC-124':     0.20721,\n",
    "    'HCFC-133a':    0.14995,\n",
    "    'HCFC-141b':    0.16065,\n",
    "    'HCFC-142b':    0.19329,\n",
    "    'HCFC-22':      0.21385,\n",
    "    'HCFC-31':      0.068,\n",
    "    'Halon-1202':   0,       # not in dataset\n",
    "    'Halon-1211':   0.30014,\n",
    "    'Halon-1301':   0.29943,\n",
    "    'Halon-2402':   0.31169,\n",
    "    'CO2':          0,       # different relationship\n",
    "    'CH4':          0,       # different relationship\n",
    "    'N2O':          0        # different relationship\n",
    "}"
   ]
  },
  {
   "cell_type": "code",
   "execution_count": null,
   "id": "42",
   "metadata": {},
   "outputs": [],
   "source": [
    "pfc_hfc134a_eq_1750 = 0\n",
    "for gas in gases_pfc:\n",
    "    pfc_hfc134a_eq_1750 = pfc_hfc134a_eq_1750 + (df_conc.loc[1750, gas] * radeff[gas] / radeff['CF4'])\n",
    "hfc_hfc134a_eq_1750 = 0\n",
    "for gas in gases_hfcs:\n",
    "    hfc_hfc134a_eq_1750 = hfc_hfc134a_eq_1750 + (df_conc.loc[1750, gas] * radeff[gas] / radeff['HFC-134a'])\n",
    "montreal_cfc12_eq_1750 = 0\n",
    "for gas in gases_montreal:\n",
    "    montreal_cfc12_eq_1750 = montreal_cfc12_eq_1750 + (df_conc.loc[1750, gas] * radeff[gas] / radeff['CFC-12'])"
   ]
  },
  {
   "cell_type": "code",
   "execution_count": null,
   "id": "43",
   "metadata": {},
   "outputs": [],
   "source": [
    "pfc_hfc134a_eq_1750, hfc_hfc134a_eq_1750, montreal_cfc12_eq_1750"
   ]
  },
  {
   "cell_type": "code",
   "execution_count": null,
   "id": "44",
   "metadata": {},
   "outputs": [],
   "source": [
    "pfc_hfc134a_eq_1850 = 0\n",
    "for gas in gases_pfc:\n",
    "    pfc_hfc134a_eq_1850 = pfc_hfc134a_eq_1850 + (df_conc.loc[1850, gas] * radeff[gas] / radeff['CF4'])\n",
    "hfc_hfc134a_eq_1850 = 0\n",
    "for gas in gases_hfcs:\n",
    "    hfc_hfc134a_eq_1850 = hfc_hfc134a_eq_1850 + (df_conc.loc[1850, gas] * radeff[gas] / radeff['HFC-134a'])\n",
    "montreal_cfc12_eq_1850 = 0\n",
    "for gas in gases_montreal:\n",
    "    montreal_cfc12_eq_1850 = montreal_cfc12_eq_1850 + (df_conc.loc[1850, gas] * radeff[gas] / radeff['CFC-12'])"
   ]
  },
  {
   "cell_type": "code",
   "execution_count": null,
   "id": "45",
   "metadata": {},
   "outputs": [],
   "source": [
    "pfc_hfc134a_eq_1850, hfc_hfc134a_eq_1850, montreal_cfc12_eq_1850"
   ]
  },
  {
   "cell_type": "code",
   "execution_count": null,
   "id": "46",
   "metadata": {},
   "outputs": [],
   "source": [
    "pfc_hfc134a_eq_2019 = 0\n",
    "for gas in gases_pfc:\n",
    "    pfc_hfc134a_eq_2019 = pfc_hfc134a_eq_2019 + (df_conc.loc[2019, gas] * radeff[gas] / radeff['CF4'])\n",
    "hfc_hfc134a_eq_2019 = 0\n",
    "for gas in gases_hfcs:\n",
    "    hfc_hfc134a_eq_2019 = hfc_hfc134a_eq_2019 + (df_conc.loc[2019, gas] * radeff[gas] / radeff['HFC-134a'])\n",
    "montreal_cfc12_eq_2019 = 0\n",
    "for gas in gases_montreal:\n",
    "    montreal_cfc12_eq_2019 = montreal_cfc12_eq_2019 + (df_conc.loc[2019, gas] * radeff[gas] / radeff['CFC-12'])"
   ]
  },
  {
   "cell_type": "code",
   "execution_count": null,
   "id": "47",
   "metadata": {},
   "outputs": [],
   "source": [
    "pfc_hfc134a_eq_2019, hfc_hfc134a_eq_2019, montreal_cfc12_eq_2019"
   ]
  },
  {
   "cell_type": "code",
   "execution_count": null,
   "id": "48",
   "metadata": {},
   "outputs": [],
   "source": [
    "pfc_hfc134a_eq_2022 = 0\n",
    "for gas in gases_pfc:\n",
    "    pfc_hfc134a_eq_2022 = pfc_hfc134a_eq_2022 + (df_conc.loc[2022, gas] * radeff[gas] / radeff['CF4'])\n",
    "hfc_hfc134a_eq_2022 = 0\n",
    "for gas in gases_hfcs:\n",
    "    hfc_hfc134a_eq_2022 = hfc_hfc134a_eq_2022 + (df_conc.loc[2022, gas] * radeff[gas] / radeff['HFC-134a'])\n",
    "montreal_cfc12_eq_2022 = 0\n",
    "for gas in gases_montreal:\n",
    "    montreal_cfc12_eq_2022 = montreal_cfc12_eq_2022 + (df_conc.loc[2022, gas] * radeff[gas] / radeff['CFC-12'])"
   ]
  },
  {
   "cell_type": "code",
   "execution_count": null,
   "id": "49",
   "metadata": {},
   "outputs": [],
   "source": [
    "pfc_hfc134a_eq_2022, hfc_hfc134a_eq_2022, montreal_cfc12_eq_2022"
   ]
  },
  {
   "cell_type": "code",
   "execution_count": null,
   "id": "50",
   "metadata": {},
   "outputs": [],
   "source": []
  }
 ],
 "metadata": {
  "kernelspec": {
   "display_name": "Python 3 (ipykernel)",
   "language": "python",
   "name": "python3"
  },
  "language_info": {
   "codemirror_mode": {
    "name": "ipython",
    "version": 3
   },
   "file_extension": ".py",
   "mimetype": "text/x-python",
   "name": "python",
   "nbconvert_exporter": "python",
   "pygments_lexer": "ipython3",
   "version": "3.12.2"
  }
 },
 "nbformat": 4,
 "nbformat_minor": 5
}
