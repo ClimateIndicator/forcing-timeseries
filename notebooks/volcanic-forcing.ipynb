{
 "cells": [
  {
   "cell_type": "markdown",
   "id": "50f0d521",
   "metadata": {},
   "source": [
    "# Volcanic forcing\n",
    "\n",
    "Use the AR6 process for volcanic forcing with updates:\n",
    "- replace Toohey & Sigl (eVolv v2) with Sigl et al. (HolVol) which extends back to 9500 BC. We use the full \"pre-industrial\" (9500 BC to 1749 AD) as the average background sAOD to reference zero forcing to.\n",
    "- Extend forwards to 2022 past the end of GlossAC using sAOD from OMPS LP, following the use of this dataset in https://www.nature.com/articles/s43247-022-00580-w#Sec11\n",
    "\n",
    "This notebook requires large datasets that need registration to obtain so cannot be downloaded by the code:\n",
    "\n",
    "- Download data from: https://download.pangaea.de/dataset/928646/files/HolVol_SAOD_-9500_1900_v1.0.nc Put this in '../data/volcanic_aod/HolVol_SAOD_-9500_1900_v1.0.nc'\n",
    "- Download data from: https://asdc.larc.nasa.gov/project/GloSSAC/GloSSAC_2.2. Click \"Get Dataset\". Put this in '../data/volcanic_aod/GloSSAC_V2.2.nc'\n",
    "- Download data from: https://omps.gesdisc.eosdis.nasa.gov/data/SNPP_OMPS_Level3/OMPS_NPP_LP_L3_AER_MONTHLY.1/. Obtain every *.h5 file in every annual sub-directory from 2013 to 2022. Put these files in '../data/volcanic_aod/SNPP_OMPS_Level3/\n",
    "\n",
    "NOTE! In 2022, we add +0.12 W/m2 for stratospheric water vapour from Hunga Tonga. This does not appear in the actual calculation here, and is taken from Jenkins et al. (2023). In future forcing updates, we should take actual MLS data and run the RTM offline - and consider stratospheric water vapour in historical eruptions."
   ]
  },
  {
   "cell_type": "code",
   "execution_count": null,
   "id": "41b7c24b",
   "metadata": {},
   "outputs": [],
   "source": [
    "import glob\n",
    "\n",
    "from netCDF4 import Dataset\n",
    "import numpy as np\n",
    "import matplotlib.pyplot as pl\n",
    "import pandas as pd\n",
    "from pooch import retrieve\n",
    "import scipy.stats\n",
    "import h5py"
   ]
  },
  {
   "cell_type": "code",
   "execution_count": null,
   "id": "24ec6fb7",
   "metadata": {},
   "outputs": [],
   "source": [
    "pl.rcParams['figure.figsize'] = (10/2.54, 10/2.54)\n",
    "pl.rcParams['font.size'] = 11\n",
    "pl.rcParams['font.family'] = 'Arial'\n",
    "pl.rcParams['ytick.direction'] = 'in'\n",
    "pl.rcParams['ytick.minor.visible'] = True\n",
    "pl.rcParams['ytick.major.right'] = True\n",
    "pl.rcParams['ytick.right'] = True\n",
    "pl.rcParams['xtick.direction'] = 'in'\n",
    "pl.rcParams['xtick.minor.visible'] = True\n",
    "pl.rcParams['xtick.major.top'] = True\n",
    "pl.rcParams['ytick.major.left'] = True\n",
    "pl.rcParams['xtick.top'] = True\n",
    "pl.rcParams['figure.dpi'] = 150\n",
    "pl.rcParams['axes.spines.top'] = True\n",
    "pl.rcParams['axes.spines.bottom'] = True"
   ]
  },
  {
   "cell_type": "code",
   "execution_count": null,
   "id": "4f4592b8",
   "metadata": {},
   "outputs": [],
   "source": [
    "# -9500 to 1900\n",
    "nc = Dataset('../data/volcanic_aod/HolVol_SAOD_-9500_1900_v1.0.nc')\n",
    "aod550_evolv = nc.variables['aod550'][:]\n",
    "lat_evolv = nc.variables['lat'][:]\n",
    "time_evolv = nc.variables['time'][:]\n",
    "nc.close()\n",
    "time_evolv[-51*12]"
   ]
  },
  {
   "cell_type": "code",
   "execution_count": null,
   "id": "161fa9ac",
   "metadata": {},
   "outputs": [],
   "source": [
    "lat_evolv_bnds = np.concatenate([[90], 0.5*(lat_evolv[1:]+lat_evolv[:-1]), [-90]])\n",
    "weights = -np.squeeze(np.diff(np.sin(np.radians(lat_evolv_bnds))))\n",
    "aod_evolv = np.zeros((len(time_evolv)))\n",
    "for i in range(len(time_evolv)):\n",
    "    aod_evolv[i] = np.average(aod550_evolv[i,:],weights=weights)"
   ]
  },
  {
   "cell_type": "code",
   "execution_count": null,
   "id": "d01ec010",
   "metadata": {},
   "outputs": [],
   "source": [
    "# 1979 to 2021\n",
    "nc = Dataset('../data/volcanic_aod/GloSSAC_V2.2.nc')\n",
    "data_glossac = nc.variables['Glossac_Aerosol_Optical_Depth'][:]\n",
    "lat_glossac = nc.variables['lat'][:]\n",
    "trp_hgt_glossac = nc.variables['trp_hgt'][:]  # lat, month\n",
    "alt_glossac = nc.variables['alt'][:]\n",
    "nc.close()\n",
    "data_glossac[0,0,:]"
   ]
  },
  {
   "cell_type": "code",
   "execution_count": null,
   "id": "ea020242",
   "metadata": {},
   "outputs": [],
   "source": [
    "lat_glossac_bnds = np.concatenate(([-90], 0.5*(lat_glossac[1:]+lat_glossac[:-1]), [90]))\n",
    "weights_glossac = np.diff(np.sin(np.radians(lat_glossac_bnds)))\n",
    "\n",
    "# Glossac is at 525 nm. -2.33 Angstrom exponent from Kovilakam et al 2020, https://essd.copernicus.org/articles/12/2607/2020/essd-12-2607-2020.html\n",
    "angstrom = (550/525)**(-2.33)\n",
    "\n",
    "aod_glossac = np.zeros(516)\n",
    "for i in range(516):\n",
    "    aod_glossac[i] = np.average(data_glossac[i,:,2],weights=weights_glossac)*angstrom"
   ]
  },
  {
   "cell_type": "code",
   "execution_count": null,
   "id": "0b2f53ee",
   "metadata": {},
   "outputs": [],
   "source": [
    "# 1850 to 2014\n",
    "cmip6_file = retrieve(\n",
    "    'ftp://iacftp.ethz.ch/pub_read/luo/CMIP6/CMIP_1850_2014_extinction_550nm_strat_only_v3.nc',\n",
    "    known_hash='f2cd708c9cd883e6ad0cc425d7bc6820a22639a752de9563bdc48a75c2550e4c'\n",
    ")"
   ]
  },
  {
   "cell_type": "code",
   "execution_count": null,
   "id": "1691860d",
   "metadata": {},
   "outputs": [],
   "source": [
    "nc = Dataset(cmip6_file)\n",
    "ext_cmip6 = nc.variables['ext550'][:].transpose((2,1,0))  # time, height, lat\n",
    "lev_cmip6 = nc.variables['altitude'][:]\n",
    "lat_cmip6 = nc.variables['latitude'][:]\n",
    "time_cmip6 = nc.variables['month'][:]\n",
    "nc.close()"
   ]
  },
  {
   "cell_type": "code",
   "execution_count": null,
   "id": "e1678143",
   "metadata": {},
   "outputs": [],
   "source": [
    "time_cmip6"
   ]
  },
  {
   "cell_type": "code",
   "execution_count": null,
   "id": "7456566c",
   "metadata": {},
   "outputs": [],
   "source": [
    "lat_cmip6_bnds = np.concatenate(([-90], 0.5*(lat_cmip6[1:]+lat_cmip6[:-1]), [90]))\n",
    "weights = np.diff(np.sin(np.radians(lat_cmip6_bnds)))\n",
    "tax = np.zeros(165*12)\n",
    "aod_cmip6 = np.zeros(165*12)\n",
    "for i in range(0,1970,12):\n",
    "    gl_mn_aod = np.average(\n",
    "        np.sum(\n",
    "            np.mean(ext_cmip6[i:i+12,...], axis=0) * 0.5, axis=0),\n",
    "        weights=weights\n",
    "    ) # 0.5 is thickness in km\n",
    "\n",
    "for i in range(1980):\n",
    "    aod_cmip6[i] = np.average(np.sum(ext_cmip6[i,...] * 0.5, axis=0), weights=weights)"
   ]
  },
  {
   "cell_type": "code",
   "execution_count": null,
   "id": "278b869c",
   "metadata": {},
   "outputs": [],
   "source": [
    "aod_cmip6"
   ]
  },
  {
   "cell_type": "code",
   "execution_count": null,
   "id": "38fbc0e6",
   "metadata": {},
   "outputs": [],
   "source": [
    "aod_omps = np.zeros(120)\n",
    "aod_omps_unscaled = np.zeros(120)"
   ]
  },
  {
   "cell_type": "code",
   "execution_count": null,
   "id": "43449a6d",
   "metadata": {},
   "outputs": [],
   "source": [
    "# 745 nm band is index 3, and is the most reliable\n",
    "\n",
    "# rather than try to estimate an Angstrom exponent, I will scale the timeseries to Glossac.\n",
    "\n",
    "\n",
    "for i in range(120):\n",
    "    year = (i)//12 + 2013\n",
    "    month = ((i-12)%12)+1\n",
    "    filename = glob.glob('../data/volcanic_aod/SNPP_OMPS_Level3/OMPS-NPP_LP-L3-AER-MONTHLY_v1.0_%4dm%02d01_*.h5' % (year, month))[0]\n",
    "    h5 = h5py.File(filename)\n",
    "    lat_omps = h5['/']['Latitude'][:]\n",
    "    lat_omps_bnds = np.concatenate(([-90], 0.5*(lat_omps[1:]+lat_omps[:-1]), [90]))\n",
    "    weights = np.diff(np.sin(np.radians(lat_omps_bnds)))\n",
    "    data = h5['/']['StratColumn'][:]\n",
    "    data[data==-999] = np.nan\n",
    "    aod_omps_unscaled[i] = np.nansum(data[:,:,3] * weights * np.ones((24, 36)))/((weights * np.ones((24, 36)))[~np.isnan(data[:,:,3])].sum())"
   ]
  },
  {
   "cell_type": "code",
   "execution_count": null,
   "id": "baf8be02",
   "metadata": {},
   "outputs": [],
   "source": [
    "aod_omps = aod_glossac[-108:].mean()/aod_omps_unscaled[:108].mean() * aod_omps_unscaled"
   ]
  },
  {
   "cell_type": "code",
   "execution_count": null,
   "id": "2c5511fd",
   "metadata": {},
   "outputs": [],
   "source": [
    "# eVolv -9500 to 1849\n",
    "# CMIP6 1850 to 1978\n",
    "# Glossac 1979 to 2021\n",
    "# OMPS 2022\n",
    "aod = np.concatenate((aod_evolv[:-51*12], aod_cmip6[:129*12], aod_glossac, aod_omps[-12:]))\n",
    "len(aod)"
   ]
  },
  {
   "cell_type": "code",
   "execution_count": null,
   "id": "43fd99a9",
   "metadata": {},
   "outputs": [],
   "source": [
    "pl.plot(np.arange(2013+1/24, 2022, 1/12), aod_glossac[-108:], label='GloSSAC v2.2 (550 nm)')\n",
    "pl.plot(np.arange(2013+1/24, 2023, 1/12), aod_omps_unscaled, label='OMPS LP (745 nm)')\n",
    "pl.plot(np.arange(2013+1/24, 2023, 1/12), aod_omps, label='OMPS LP scaled')\n",
    "pl.ylabel('sAOD')\n",
    "pl.legend()\n",
    "#pl.plot(aod[-120:])"
   ]
  },
  {
   "cell_type": "code",
   "execution_count": null,
   "id": "78523c34",
   "metadata": {},
   "outputs": [],
   "source": [
    "# crossfade\n",
    "aod[136200:136812] = (1-np.linspace(0,1,612))*aod_evolv[-51*12:]+np.linspace(0,1,612)*aod_cmip6[:612]\n",
    "aod[137748:137868] = (1-np.linspace(0,1,120))*aod_cmip6[1548:1668] + np.linspace(0,1,120)*aod_glossac[:120]\n",
    "aod[138180:138264] = (1-np.linspace(0,1,84))*aod_glossac[-84:] + np.linspace(0, 1, 84)*aod_omps[24:108]"
   ]
  },
  {
   "cell_type": "code",
   "execution_count": null,
   "id": "e7cc39a7",
   "metadata": {},
   "outputs": [],
   "source": [
    "pl.plot(np.arange(1845+1/24,1901+1/24,1/12), aod_evolv[136140:], label='HolVol')\n",
    "pl.plot(np.arange(1850+1/24,1905+1/24,1/12), aod_cmip6[:660], label='CMIP6')\n",
    "pl.plot(np.arange(1845+1/24,1905+1/24,1/12), aod[136140:136860], label='blended')\n",
    "pl.legend()"
   ]
  },
  {
   "cell_type": "code",
   "execution_count": null,
   "id": "6107b0cb",
   "metadata": {},
   "outputs": [],
   "source": [
    "pl.plot(np.arange(1979+1/24,2022+1/24,1/12), aod_glossac, label='GloSSAC v2.2 (1979-2021)', lw=0.5)\n",
    "pl.plot(np.arange(1975+1/24,2015+1/24,1/12), aod_cmip6[-480:], label='CMIP6 (1850-2014)', lw=0.5)\n",
    "pl.plot(np.arange(2013+1/24,2023+1/24,1/12), aod_omps, label='OMPS (2013-2022)', lw=0.5)\n",
    "pl.plot(np.arange(1975+1/24,2023+1/24,1/12), aod[-576:], label='Combined', zorder=-2, color='k')\n",
    "pl.title('Stratospheric aerosol optical depth')\n",
    "pl.ylabel(\"AOD\")\n",
    "pl.xlim(1975, 2023)\n",
    "pl.ylim(0, 0.12)\n",
    "pl.tight_layout()\n",
    "pl.legend(frameon=False, fontsize=8)\n",
    "pl.tight_layout()\n",
    "pl.savefig('../plots/volcanic_AOD.png')\n",
    "pl.savefig('../plots/volcanic_AOD.pdf')"
   ]
  },
  {
   "cell_type": "code",
   "execution_count": null,
   "id": "a164b521",
   "metadata": {},
   "outputs": [],
   "source": [
    "erf_no_hthh = -20 * (aod - np.mean(aod[:(11250*12)]))\n",
    "\n",
    "erf = np.copy(erf_no_hthh)\n",
    "# hunga tonga adjustment\n",
    "erf[-12:] = erf_no_hthh[-12:] + 0.12"
   ]
  },
  {
   "cell_type": "code",
   "execution_count": null,
   "id": "32af13c2",
   "metadata": {},
   "outputs": [],
   "source": [
    "pl.plot(np.arange(1990+1/24,2023+1/24,1/12), erf_no_hthh[-(12*33):], label='AOD', color='0.2')\n",
    "pl.plot(np.arange(2021+23/24,2023,1/12), erf[-13:], label='AOD + water vapour', color='purple')\n",
    "pl.title('Volcanic effective radiative forcing')\n",
    "pl.xlim(1990, 2023)\n",
    "pl.ylim(-2.1, 0.3)\n",
    "pl.ylabel('W m$^{-2}$, relative to 9500 BCE to 1749 CE')\n",
    "pl.axhline(0, ls=':', color='k')\n",
    "pl.legend(frameon=False)\n",
    "pl.tight_layout()\n",
    "pl.savefig('../plots/volcanic_ERF.png')\n",
    "pl.savefig('../plots/volcanic_ERF.pdf')"
   ]
  },
  {
   "cell_type": "code",
   "execution_count": null,
   "id": "ab48b67c",
   "metadata": {},
   "outputs": [],
   "source": [
    "months = np.arange(-9500+1/24,2023,1/12)\n",
    "df = pd.DataFrame(data=np.vstack([aod, erf]).T, index=months, columns=['stratospheric_AOD', 'volcanic_ERF'])\n",
    "df.index.name = 'year'\n",
    "df.to_csv('../output/volcanic_sAOD_ERF_monthly_-950001-202212.csv')"
   ]
  },
  {
   "cell_type": "code",
   "execution_count": null,
   "id": "b63ec20c",
   "metadata": {},
   "outputs": [],
   "source": [
    "years = np.arange(-9500 + 0.5, 2023)\n",
    "aod_ann = np.zeros(len(aod)//12)\n",
    "erf_ann = np.zeros(len(erf)//12)\n",
    "for i in range(0, len(months), 12):\n",
    "    aod_ann[i//12] = np.mean(aod[i:i+12])\n",
    "    erf_ann[i//12] = np.mean(erf[i:i+12])\n",
    "df = pd.DataFrame(data=np.vstack([aod_ann, erf_ann]).T, index=years, columns=['stratospheric_AOD', 'volcanic_ERF'])\n",
    "df.index.name = 'year'\n",
    "df.to_csv('../output/volcanic_sAOD_ERF_annual_-9500-2022.csv')"
   ]
  },
  {
   "cell_type": "code",
   "execution_count": null,
   "id": "db8d748e",
   "metadata": {},
   "outputs": [],
   "source": [
    "df"
   ]
  },
  {
   "cell_type": "code",
   "execution_count": null,
   "id": "f483a766",
   "metadata": {},
   "outputs": [],
   "source": [
    "pl.plot(df.volcanic_ERF)"
   ]
  },
  {
   "cell_type": "code",
   "execution_count": null,
   "id": "323fd1b8",
   "metadata": {},
   "outputs": [],
   "source": []
  }
 ],
 "metadata": {
  "kernelspec": {
   "display_name": "Python 3 (ipykernel)",
   "language": "python",
   "name": "python3"
  },
  "language_info": {
   "codemirror_mode": {
    "name": "ipython",
    "version": 3
   },
   "file_extension": ".py",
   "mimetype": "text/x-python",
   "name": "python",
   "nbconvert_exporter": "python",
   "pygments_lexer": "ipython3",
   "version": "3.11.0"
  }
 },
 "nbformat": 4,
 "nbformat_minor": 5
}
