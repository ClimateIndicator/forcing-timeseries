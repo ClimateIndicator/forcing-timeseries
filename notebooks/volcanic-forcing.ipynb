{
 "cells": [
  {
   "cell_type": "markdown",
   "id": "50f0d521",
   "metadata": {},
   "source": [
    "# Volcanic forcing\n",
    "\n",
    "TODO: what do we do about Hunga Tonga and stratospheric water vapour positive forcing? What about previous eruptions?\n",
    "\n",
    "From this paper use OMPS for 2022  https://www.nature.com/articles/s43247-022-00580-w#Sec11"
   ]
  },
  {
   "cell_type": "code",
   "execution_count": null,
   "id": "41b7c24b",
   "metadata": {},
   "outputs": [],
   "source": [
    "import glob\n",
    "\n",
    "from netCDF4 import Dataset\n",
    "import numpy as np\n",
    "import matplotlib.pyplot as pl\n",
    "import pandas as pd\n",
    "from pooch import retrieve\n",
    "import scipy.stats\n",
    "import h5py"
   ]
  },
  {
   "cell_type": "markdown",
   "id": "a784b5a7",
   "metadata": {},
   "source": [
    "Download data from: https://cera-www.dkrz.de/WDCC/ui/cerasearch/entry?acronym=eVolv2k_v2 Put this in '../data/volcanic_aod/eVolv2k_v3_EVA_AOD_-500_1900_1.nc'\n",
    "\n",
    "Download data from: https://asdc.larc.nasa.gov/project/GloSSAC/GloSSAC_2.2 Put this in '../data/volcanic_aod/GloSSAC_V2.2.nc'\n",
    "\n",
    "Download data from: https://omps.gesdisc.eosdis.nasa.gov/data/SNPP_OMPS_Level3/OMPS_NPP_LP_L3_AER_MONTHLY.1/ Put this in '../data/volcanic_aod/SNPP_OMPS_Level3/"
   ]
  },
  {
   "cell_type": "code",
   "execution_count": null,
   "id": "4f4592b8",
   "metadata": {},
   "outputs": [],
   "source": [
    "# -500 to 1900\n",
    "nc = Dataset('../data/volcanic_aod/eVolv2k_v3_EVA_AOD_-500_1900_1.nc')\n",
    "aod550_evolv = nc.variables['aod550'][:]\n",
    "lat_evolv = nc.variables['lat'][:]\n",
    "time_evolv = nc.variables['time'][:]\n",
    "nc.close()\n",
    "time_evolv[-51*12]"
   ]
  },
  {
   "cell_type": "code",
   "execution_count": null,
   "id": "161fa9ac",
   "metadata": {},
   "outputs": [],
   "source": [
    "lat_evolv_bnds = np.concatenate([[90], 0.5*(lat_evolv[1:]+lat_evolv[:-1]), [-90]])\n",
    "weights = -np.squeeze(np.diff(np.sin(np.radians(lat_evolv_bnds))))\n",
    "aod_evolv = np.zeros((len(time_evolv)))\n",
    "for i in range(len(time_evolv)):\n",
    "    aod_evolv[i] = np.average(aod550_evolv[i,:],weights=weights)"
   ]
  },
  {
   "cell_type": "code",
   "execution_count": null,
   "id": "d01ec010",
   "metadata": {},
   "outputs": [],
   "source": [
    "# 1979 to 2021\n",
    "nc = Dataset('../data/volcanic_aod/GloSSAC_V2.2.nc')\n",
    "data_glossac = nc.variables['Glossac_Aerosol_Optical_Depth'][:]\n",
    "lat_glossac = nc.variables['lat'][:]\n",
    "trp_hgt_glossac = nc.variables['trp_hgt'][:]  # lat, month\n",
    "alt_glossac = nc.variables['alt'][:]\n",
    "nc.close()\n",
    "data_glossac[0,0,:]"
   ]
  },
  {
   "cell_type": "code",
   "execution_count": null,
   "id": "ea020242",
   "metadata": {},
   "outputs": [],
   "source": [
    "lat_glossac_bnds = np.concatenate(([-90], 0.5*(lat_glossac[1:]+lat_glossac[:-1]), [90]))\n",
    "weights_glossac = np.diff(np.sin(np.radians(lat_glossac_bnds)))\n",
    "\n",
    "# Glossac is at 525 nm. -2.33 Angstrom exponent from Kovilakam et al 2020, https://essd.copernicus.org/articles/12/2607/2020/essd-12-2607-2020.html\n",
    "angstrom = (550/525)**(-2.33)\n",
    "\n",
    "aod_glossac = np.zeros(516)\n",
    "for i in range(516):\n",
    "    aod_glossac[i] = np.average(data_glossac[i,:,2],weights=weights_glossac)*angstrom"
   ]
  },
  {
   "cell_type": "code",
   "execution_count": null,
   "id": "0b2f53ee",
   "metadata": {},
   "outputs": [],
   "source": [
    "# 1850 to 2014\n",
    "cmip6_file = retrieve(\n",
    "    'ftp://iacftp.ethz.ch/pub_read/luo/CMIP6/CMIP_1850_2014_extinction_550nm_strat_only_v3.nc',\n",
    "    known_hash='f2cd708c9cd883e6ad0cc425d7bc6820a22639a752de9563bdc48a75c2550e4c'\n",
    ")"
   ]
  },
  {
   "cell_type": "code",
   "execution_count": null,
   "id": "1691860d",
   "metadata": {},
   "outputs": [],
   "source": [
    "nc = Dataset(cmip6_file)\n",
    "ext_cmip6 = nc.variables['ext550'][:].transpose((2,1,0))  # time, height, lat\n",
    "lev_cmip6 = nc.variables['altitude'][:]\n",
    "lat_cmip6 = nc.variables['latitude'][:]\n",
    "time_cmip6 = nc.variables['month'][:]\n",
    "nc.close()"
   ]
  },
  {
   "cell_type": "code",
   "execution_count": null,
   "id": "e1678143",
   "metadata": {},
   "outputs": [],
   "source": [
    "time_cmip6"
   ]
  },
  {
   "cell_type": "code",
   "execution_count": null,
   "id": "7456566c",
   "metadata": {},
   "outputs": [],
   "source": [
    "lat_cmip6_bnds = np.concatenate(([-90], 0.5*(lat_cmip6[1:]+lat_cmip6[:-1]), [90]))\n",
    "weights = np.diff(np.sin(np.radians(lat_cmip6_bnds)))\n",
    "tax = np.zeros(165*12)\n",
    "aod_cmip6 = np.zeros(165*12)\n",
    "for i in range(0,1970,12):\n",
    "    gl_mn_aod = np.average(\n",
    "        np.sum(\n",
    "            np.mean(ext_cmip6[i:i+12,...], axis=0) * 0.5, axis=0),\n",
    "        weights=weights\n",
    "    ) # 0.5 is thickness in km\n",
    "\n",
    "for i in range(1980):\n",
    "    aod_cmip6[i] = np.average(np.sum(ext_cmip6[i,...] * 0.5, axis=0), weights=weights)"
   ]
  },
  {
   "cell_type": "code",
   "execution_count": null,
   "id": "278b869c",
   "metadata": {},
   "outputs": [],
   "source": [
    "aod_cmip6"
   ]
  },
  {
   "cell_type": "code",
   "execution_count": null,
   "id": "38fbc0e6",
   "metadata": {},
   "outputs": [],
   "source": [
    "aod_omps = np.zeros(120)"
   ]
  },
  {
   "cell_type": "code",
   "execution_count": null,
   "id": "fb64444b",
   "metadata": {},
   "outputs": [],
   "source": [
    "angstrom = (550/510)**(-2.33)"
   ]
  },
  {
   "cell_type": "code",
   "execution_count": null,
   "id": "43449a6d",
   "metadata": {},
   "outputs": [],
   "source": [
    "for i in range(120):\n",
    "    year = (i)//12 + 2013\n",
    "    month = ((i-12)%12)+1\n",
    "    filename = glob.glob('../data/volcanic_aod/SNPP_OMPS_Level3/OMPS-NPP_LP-L3-AER-MONTHLY_v1.0_%4dm%02d01_*.h5' % (year, month))[0]\n",
    "    h5 = h5py.File(filename)\n",
    "    lat_omps = h5['/']['Latitude'][:]\n",
    "    lat_omps_bnds = np.concatenate(([-90], 0.5*(lat_omps[1:]+lat_omps[:-1]), [90]))\n",
    "    weights = np.diff(np.sin(np.radians(lat_omps_bnds)))\n",
    "    data = h5['/']['StratColumn'][:]\n",
    "    data[data==-999] = np.nan\n",
    "    #data = h5['/ExtinctionAvg'][:]\n",
    "    #data[data==-999] = np.nan\n",
    "    #tropopause = h5['/TropopauseAltitude'][:]\n",
    "    #outdata = np.zeros((24, 36))\n",
    "    #for x in range(24):\n",
    "    #    for y in range(36):\n",
    "    #        outdata[x, y] = (np.nansum(data[x, y, int(round(tropopause[x, y])):, 0]))\n",
    "    aod_omps[i] = (np.nansum(data[:,:,0] * weights*np.ones((24, 36)))/48)*angstrom\n",
    "    #aod_omps[i] = (np.nansum(outdata * weights*np.ones((24, 36)))/48)*angstrom"
   ]
  },
  {
   "cell_type": "code",
   "execution_count": null,
   "id": "2c5511fd",
   "metadata": {},
   "outputs": [],
   "source": [
    "# eVolv -500 to 1849\n",
    "# CMIP6 1850 to 1978\n",
    "# Glossac 1979 to 2021\n",
    "# OMPS 2022\n",
    "aod = np.concatenate((aod_evolv[:-51*12], aod_cmip6[:129*12], aod_glossac, aod_omps[-12:]))\n",
    "len(aod)"
   ]
  },
  {
   "cell_type": "code",
   "execution_count": null,
   "id": "71a55326",
   "metadata": {},
   "outputs": [],
   "source": [
    "# h5['/'].keys()\n",
    "# data = h5['/ExtinctionAvg'][..., 0]\n",
    "# h5['/Altitude'][:]\n",
    "# trop = h5['/TropopauseAltitude'][:]"
   ]
  },
  {
   "cell_type": "code",
   "execution_count": null,
   "id": "bb811469",
   "metadata": {},
   "outputs": [],
   "source": [
    "# data[data==-999] = np.nan\n",
    "# #trop[trop==-999] = np.nan"
   ]
  },
  {
   "cell_type": "code",
   "execution_count": null,
   "id": "bcb1078b",
   "metadata": {},
   "outputs": [],
   "source": [
    "# outdata = np.zeros((24, 36))\n",
    "# for x in range(24):\n",
    "#     for y in range(36):\n",
    "#         outdata[x, y] = (np.nansum(data[x, y, int(round(trop[x, y])):]))"
   ]
  },
  {
   "cell_type": "code",
   "execution_count": null,
   "id": "ea3bf883",
   "metadata": {},
   "outputs": [],
   "source": [
    "# (np.nansum(outdata * weights*np.ones((24, 36)))/48)*angstrom"
   ]
  },
  {
   "cell_type": "code",
   "execution_count": null,
   "id": "78523c34",
   "metadata": {},
   "outputs": [],
   "source": [
    "# crossfade\n",
    "aod[28200:28812] = (1-np.linspace(0,1,612))*aod_evolv[-51*12:]+np.linspace(0,1,612)*aod_cmip6[:612]\n",
    "aod[29748:29868] = (1-np.linspace(0,1,120))*aod_cmip6[1548:1668] + np.linspace(0,1,120)*aod_glossac[:120]\n",
    "aod[30180:30264] = (1-np.linspace(0,1,84))*aod_glossac[-84:] + np.linspace(0, 1, 84)*aod_omps[24:108]"
   ]
  },
  {
   "cell_type": "code",
   "execution_count": null,
   "id": "84b24262",
   "metadata": {},
   "outputs": [],
   "source": [
    "aod[-36:]"
   ]
  },
  {
   "cell_type": "code",
   "execution_count": null,
   "id": "43fd99a9",
   "metadata": {},
   "outputs": [],
   "source": [
    "pl.plot(aod_glossac[-108:])\n",
    "pl.plot(aod_omps)\n",
    "pl.plot(aod[-120:])"
   ]
  },
  {
   "cell_type": "code",
   "execution_count": null,
   "id": "e7cc39a7",
   "metadata": {},
   "outputs": [],
   "source": [
    "pl.plot(np.arange(1845+1/24,1901+1/24,1/12), aod_evolv[28140:], label='Toohey & Sigl -500 to 1900 incl. background')\n",
    "pl.plot(np.arange(1850+1/24,1905+1/24,1/12), aod_cmip6[:660], label='CMIP6')\n",
    "pl.plot(np.arange(1845+1/24,1905+1/24,1/12), aod[28140:28860], label='blended')\n",
    "pl.legend()"
   ]
  },
  {
   "cell_type": "code",
   "execution_count": null,
   "id": "6107b0cb",
   "metadata": {},
   "outputs": [],
   "source": [
    "pl.plot(np.arange(1979+1/24,2022+1/24,1/12), aod_glossac, label='Glossac')\n",
    "pl.plot(np.arange(1975+1/24,2015+1/24,1/12), aod_cmip6[-480:], label='CMIP6')\n",
    "pl.plot(np.arange(2013+1/24,2023+1/24,1/12), aod_omps, label='OMPS')\n",
    "pl.plot(np.arange(1975+1/24,2023+1/24,1/12), aod[-576:], label='blended')\n",
    "pl.legend()"
   ]
  },
  {
   "cell_type": "code",
   "execution_count": null,
   "id": "a164b521",
   "metadata": {},
   "outputs": [],
   "source": [
    "erf = -20 * (aod - np.mean(aod[:(2250*12)]))"
   ]
  },
  {
   "cell_type": "code",
   "execution_count": null,
   "id": "ab48b67c",
   "metadata": {},
   "outputs": [],
   "source": [
    "months = np.arange(-500+1/24,2023,1/12)\n",
    "df = pd.DataFrame(data=np.vstack([aod, erf]).T, index=months, columns=['stratospheric_AOD', 'volcanic_ERF'])\n",
    "df.index.name = 'year'\n",
    "df.to_csv('../output/volcanic_sAOD_ERF_monthly_-50001-202212.csv')"
   ]
  },
  {
   "cell_type": "code",
   "execution_count": null,
   "id": "b63ec20c",
   "metadata": {},
   "outputs": [],
   "source": [
    "years = np.arange(-500 + 0.5, 2023)\n",
    "aod_ann = np.zeros(len(aod)//12)\n",
    "erf_ann = np.zeros(len(erf)//12)\n",
    "for i in range(0, len(months), 12):\n",
    "    aod_ann[i//12] = np.mean(aod[i:i+12])\n",
    "    erf_ann[i//12] = np.mean(erf[i:i+12])\n",
    "df = pd.DataFrame(data=np.vstack([aod_ann, erf_ann]).T, index=years, columns=['stratospheric_AOD', 'volcanic_ERF'])\n",
    "df.index.name = 'year'\n",
    "df.to_csv('../output/volcanic_sAOD_ERF_annual_-500-2022.csv')"
   ]
  },
  {
   "cell_type": "code",
   "execution_count": null,
   "id": "db8d748e",
   "metadata": {},
   "outputs": [],
   "source": [
    "df"
   ]
  },
  {
   "cell_type": "code",
   "execution_count": null,
   "id": "f483a766",
   "metadata": {},
   "outputs": [],
   "source": []
  }
 ],
 "metadata": {
  "kernelspec": {
   "display_name": "Python 3 (ipykernel)",
   "language": "python",
   "name": "python3"
  },
  "language_info": {
   "codemirror_mode": {
    "name": "ipython",
    "version": 3
   },
   "file_extension": ".py",
   "mimetype": "text/x-python",
   "name": "python",
   "nbconvert_exporter": "python",
   "pygments_lexer": "ipython3",
   "version": "3.11.0"
  }
 },
 "nbformat": 4,
 "nbformat_minor": 5
}
