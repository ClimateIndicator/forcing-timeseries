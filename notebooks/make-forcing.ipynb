{
 "cells": [
  {
   "cell_type": "markdown",
   "id": "0",
   "metadata": {},
   "source": [
    "# Update IPCC AR6 ERF timeseries\n",
    "\n",
    "- with updated **preliminary** data to 2023\n",
    "- using AR6 assessments for components not directly observed\n",
    "\n",
    "2023 update: use skew-normal rather than half-normal distributions for asymmetric uncertainty ranges."
   ]
  },
  {
   "cell_type": "code",
   "execution_count": null,
   "id": "1",
   "metadata": {},
   "outputs": [],
   "source": [
    "import copy\n",
    "import json\n",
    "\n",
    "import matplotlib.pyplot as pl\n",
    "import numpy as np\n",
    "import pandas as pd\n",
    "from scipy.interpolate import interp1d\n",
    "from scipy.optimize import curve_fit\n",
    "import scipy.stats\n",
    "from tqdm.auto import tqdm\n",
    "from fair.forcing.ghg import meinshausen2020\n",
    "import xarray as xr"
   ]
  },
  {
   "cell_type": "code",
   "execution_count": null,
   "id": "2",
   "metadata": {},
   "outputs": [],
   "source": [
    "# probablistic ensemble\n",
    "SAMPLES = 100000\n",
    "forcing = {}\n",
    "forcing_ensemble = {}"
   ]
  },
  {
   "cell_type": "code",
   "execution_count": null,
   "id": "3",
   "metadata": {},
   "outputs": [],
   "source": [
    "NINETY_TO_ONESIGMA = scipy.stats.norm.ppf(0.95)\n",
    "NINETY_TO_ONESIGMA"
   ]
  },
  {
   "cell_type": "code",
   "execution_count": null,
   "id": "4",
   "metadata": {},
   "outputs": [],
   "source": [
    "# Required adjustment to each species to ensure overall halogenated gas ERF uncertainty is around 19%\n",
    "HALOGEN_SCALING = 2.05"
   ]
  },
  {
   "cell_type": "code",
   "execution_count": null,
   "id": "5",
   "metadata": {},
   "outputs": [],
   "source": [
    "with open('../data/random_seeds.json', 'r') as filehandle:\n",
    "    SEEDS = json.load(filehandle)"
   ]
  },
  {
   "cell_type": "code",
   "execution_count": null,
   "id": "6",
   "metadata": {},
   "outputs": [],
   "source": [
    "emissions = pd.read_csv('../output/slcf_emissions_1750-2023.csv', index_col=0)\n",
    "emissions"
   ]
  },
  {
   "cell_type": "code",
   "execution_count": null,
   "id": "7",
   "metadata": {},
   "outputs": [],
   "source": [
    "concentrations = pd.read_csv('../output/ghg_concentrations_1750-2023.csv', index_col=0)\n",
    "for year in range(1751, 1850):\n",
    "    concentrations.loc[year, :] = np.nan\n",
    "concentrations.sort_index(inplace=True)\n",
    "concentrations.interpolate(inplace=True)"
   ]
  },
  {
   "cell_type": "code",
   "execution_count": null,
   "id": "8",
   "metadata": {},
   "outputs": [],
   "source": [
    "concentrations"
   ]
  },
  {
   "cell_type": "code",
   "execution_count": null,
   "id": "9",
   "metadata": {},
   "outputs": [],
   "source": [
    "# uncertainties from IPCC\n",
    "uncertainty_seed = 38572\n",
    "\n",
    "unc_ranges = {\n",
    "    'CO2':          0.12/NINETY_TO_ONESIGMA,\n",
    "    'CH4':          0.20/NINETY_TO_ONESIGMA,\n",
    "    'N2O':          0.14/NINETY_TO_ONESIGMA,\n",
    "    'HFC-125':      0.19/NINETY_TO_ONESIGMA*HALOGEN_SCALING,\n",
    "    'HFC-134a':     0.19/NINETY_TO_ONESIGMA*HALOGEN_SCALING,\n",
    "    'HFC-143a':     0.19/NINETY_TO_ONESIGMA*HALOGEN_SCALING,\n",
    "    'HFC-152a':     0.26/NINETY_TO_ONESIGMA*HALOGEN_SCALING,\n",
    "    'HFC-227ea':    0.19/NINETY_TO_ONESIGMA*HALOGEN_SCALING,\n",
    "    'HFC-23':       0.19/NINETY_TO_ONESIGMA*HALOGEN_SCALING,\n",
    "    'HFC-236fa':    0.19/NINETY_TO_ONESIGMA*HALOGEN_SCALING,\n",
    "    'HFC-245fa':    0.19/NINETY_TO_ONESIGMA*HALOGEN_SCALING,\n",
    "    'HFC-32':       0.19/NINETY_TO_ONESIGMA*HALOGEN_SCALING,\n",
    "    'HFC-365mfc':   0.19/NINETY_TO_ONESIGMA*HALOGEN_SCALING,\n",
    "    'HFC-43-10mee': 0.19/NINETY_TO_ONESIGMA*HALOGEN_SCALING,\n",
    "    'NF3':          0.19/NINETY_TO_ONESIGMA*HALOGEN_SCALING,\n",
    "    'C2F6':         0.19/NINETY_TO_ONESIGMA*HALOGEN_SCALING,\n",
    "    'C3F8':         0.19/NINETY_TO_ONESIGMA*HALOGEN_SCALING,\n",
    "    'n-C4F10':      0.19/NINETY_TO_ONESIGMA*HALOGEN_SCALING,\n",
    "    'n-C5F12':      0.19/NINETY_TO_ONESIGMA*HALOGEN_SCALING,\n",
    "    'n-C6F14':      0.19/NINETY_TO_ONESIGMA*HALOGEN_SCALING,\n",
    "    'i-C6F14':      0.19/NINETY_TO_ONESIGMA*HALOGEN_SCALING,\n",
    "    'C7F16':        0.19/NINETY_TO_ONESIGMA*HALOGEN_SCALING,\n",
    "    'C8F18':        0.19/NINETY_TO_ONESIGMA*HALOGEN_SCALING,\n",
    "    'CF4':          0.19/NINETY_TO_ONESIGMA*HALOGEN_SCALING,\n",
    "    'c-C4F8':       0.19/NINETY_TO_ONESIGMA*HALOGEN_SCALING,\n",
    "    'SF6':          0.19/NINETY_TO_ONESIGMA*HALOGEN_SCALING,\n",
    "    'SO2F2':        0.19/NINETY_TO_ONESIGMA*HALOGEN_SCALING,\n",
    "    'CCl4':         0.19/NINETY_TO_ONESIGMA*HALOGEN_SCALING,\n",
    "    'CFC-11':       0.19/NINETY_TO_ONESIGMA*HALOGEN_SCALING,\n",
    "    'CFC-112':      0.19/NINETY_TO_ONESIGMA*HALOGEN_SCALING,\n",
    "    'CFC-112a':     0.19/NINETY_TO_ONESIGMA*HALOGEN_SCALING,\n",
    "    'CFC-113':      0.19/NINETY_TO_ONESIGMA*HALOGEN_SCALING,\n",
    "    'CFC-113a':     0.19/NINETY_TO_ONESIGMA*HALOGEN_SCALING,\n",
    "    'CFC-114':      0.19/NINETY_TO_ONESIGMA*HALOGEN_SCALING,\n",
    "    'CFC-114a':     0.19/NINETY_TO_ONESIGMA*HALOGEN_SCALING,\n",
    "    'CFC-115':      0.19/NINETY_TO_ONESIGMA*HALOGEN_SCALING,\n",
    "    'CFC-12':       0.19/NINETY_TO_ONESIGMA*HALOGEN_SCALING,\n",
    "    'CFC-13':       0.19/NINETY_TO_ONESIGMA*HALOGEN_SCALING,\n",
    "    'CH2Cl2':       0.26/NINETY_TO_ONESIGMA*HALOGEN_SCALING,\n",
    "    'CH3Br':        0.19/NINETY_TO_ONESIGMA*HALOGEN_SCALING,\n",
    "    'CH3CCl3':      0.19/NINETY_TO_ONESIGMA*HALOGEN_SCALING,\n",
    "    'CH3Cl':        0.26/NINETY_TO_ONESIGMA*HALOGEN_SCALING,\n",
    "    'CHCl3':        0.26/NINETY_TO_ONESIGMA*HALOGEN_SCALING,\n",
    "    'HCFC-124':     0.19/NINETY_TO_ONESIGMA*HALOGEN_SCALING,\n",
    "    'HCFC-133a':    0.26/NINETY_TO_ONESIGMA*HALOGEN_SCALING,\n",
    "    'HCFC-141b':    0.19/NINETY_TO_ONESIGMA*HALOGEN_SCALING,\n",
    "    'HCFC-142b':    0.19/NINETY_TO_ONESIGMA*HALOGEN_SCALING,\n",
    "    'HCFC-22':      0.19/NINETY_TO_ONESIGMA*HALOGEN_SCALING,\n",
    "    'HCFC-31':      0.26/NINETY_TO_ONESIGMA*HALOGEN_SCALING,\n",
    "    'Halon-1211':   0.19/NINETY_TO_ONESIGMA*HALOGEN_SCALING,\n",
    "    'Halon-1301':   0.19/NINETY_TO_ONESIGMA*HALOGEN_SCALING,\n",
    "    'Halon-2402':   0.19/NINETY_TO_ONESIGMA*HALOGEN_SCALING,\n",
    "    'O3':           0.50/NINETY_TO_ONESIGMA,      # Total ozone\n",
    "    'H2O_stratospheric': 1.00/NINETY_TO_ONESIGMA,      # stratospheric WV from CH4\n",
    "    'contrails':    0.70/NINETY_TO_ONESIGMA,      # contrails approx - half-normal\n",
    "    'BC_on_snow':   1.25/NINETY_TO_ONESIGMA,      # bc on snow - half-normal\n",
    "    'land_use':     0.50/NINETY_TO_ONESIGMA,      # land use change\n",
    "    'volcanic':     0.25/NINETY_TO_ONESIGMA,  # volcanic\n",
    "    'solar': 0.5/NINETY_TO_ONESIGMA,      # solar (amplitude)\n",
    "}"
   ]
  },
  {
   "cell_type": "code",
   "execution_count": null,
   "id": "10",
   "metadata": {},
   "outputs": [],
   "source": [
    "scale_df = pd.DataFrame(\n",
    "    scipy.stats.norm.rvs(\n",
    "        size=(SAMPLES, 59), \n",
    "        loc=np.ones((SAMPLES, 59)), \n",
    "        scale=pd.Series(unc_ranges), \n",
    "        random_state=uncertainty_seed\n",
    "    ), columns=unc_ranges.keys()\n",
    ")"
   ]
  },
  {
   "cell_type": "code",
   "execution_count": null,
   "id": "11",
   "metadata": {},
   "outputs": [],
   "source": [
    "def opt(x, q05_desired, q50_desired, q95_desired):\n",
    "    \"x is (a, loc, scale) in that order.\"\n",
    "    q05, q50, q95 = scipy.stats.skewnorm.ppf(\n",
    "        (0.05, 0.50, 0.95), x[0], loc=x[1], scale=x[2]\n",
    "    )\n",
    "    return (q05 - q05_desired, q50 - q50_desired, q95 - q95_desired)"
   ]
  },
  {
   "cell_type": "code",
   "execution_count": null,
   "id": "12",
   "metadata": {},
   "outputs": [],
   "source": [
    "lapsi_params = scipy.optimize.root(opt, [1, 1, 1], args=(0, 1, 2.25)).x\n",
    "contrails_params = scipy.optimize.root(opt, [1, 1, 1], args=(19 / 57, 1, 98 / 57)).x"
   ]
  },
  {
   "cell_type": "code",
   "execution_count": null,
   "id": "13",
   "metadata": {},
   "outputs": [],
   "source": [
    "## skewnormal for asymmetric distributions\n",
    "scale_df['BC_on_snow'] = scipy.stats.skewnorm.rvs(\n",
    "    lapsi_params[0],\n",
    "    loc=lapsi_params[1],\n",
    "    scale=lapsi_params[2],\n",
    "    size=SAMPLES,\n",
    "    random_state=3701584,\n",
    ")\n",
    "\n",
    "scale_df['contrails'] = scipy.stats.skewnorm.rvs(\n",
    "    contrails_params[0],\n",
    "    loc=contrails_params[1],\n",
    "    scale=contrails_params[2],\n",
    "    size=SAMPLES,\n",
    "    random_state=3701585,\n",
    ")\n",
    "\n",
    "trend_solar = scipy.stats.norm.rvs(\n",
    "    size=SAMPLES, \n",
    "    loc=0.00, \n",
    "    scale=0.07/NINETY_TO_ONESIGMA, \n",
    "    random_state=uncertainty_seed\n",
    ")"
   ]
  },
  {
   "cell_type": "code",
   "execution_count": null,
   "id": "14",
   "metadata": {},
   "outputs": [],
   "source": [
    "scale_df"
   ]
  },
  {
   "cell_type": "markdown",
   "id": "15",
   "metadata": {},
   "source": [
    "### Solar radiation\n",
    "\n",
    "No change from AR6 - yet - so not re-generated here - using the data provided as-is.\n",
    "\n",
    "net change in TOA radiation = delta TSI * 1/4 * 0.71 * 0.72 where 1/4 is geometric factor, 0.71 is planetary co-albedo, 0.72 is rapid adjustment factor. Pre-industrial is defined as the mean TSI for complete solar cycles from 6755 BCE to 1750 CE.\n",
    "\n",
    "On top of this we add a linear trend from 1750 to 2019 based on the PD uncertainty assessment of +/- 0.07."
   ]
  },
  {
   "cell_type": "code",
   "execution_count": null,
   "id": "16",
   "metadata": {},
   "outputs": [],
   "source": [
    "df_solar = pd.read_csv('../data/ar6/solar_erf.csv', index_col=0)\n",
    "forcing['solar'] = df_solar.loc[1750:2023].values.squeeze()"
   ]
  },
  {
   "cell_type": "code",
   "execution_count": null,
   "id": "17",
   "metadata": {},
   "outputs": [],
   "source": [
    "df_solar.loc[2019:2023]"
   ]
  },
  {
   "cell_type": "code",
   "execution_count": null,
   "id": "18",
   "metadata": {},
   "outputs": [],
   "source": [
    "df_solar.loc[2009:2019].mean()  # cycle 24 was Dec 2008 to Dec 2019: https://en.wikipedia.org/wiki/Solar_cycle_24"
   ]
  },
  {
   "cell_type": "code",
   "execution_count": null,
   "id": "19",
   "metadata": {},
   "outputs": [],
   "source": [
    "# as AR6, trend extended to 2023, but with 2019 end\n",
    "trend = np.ones(274)\n",
    "trend[:270] = np.linspace(0, 1, 270)"
   ]
  },
  {
   "cell_type": "code",
   "execution_count": null,
   "id": "20",
   "metadata": {},
   "outputs": [],
   "source": [
    "forcing_ensemble['solar'] = trend[:,None] * trend_solar[None,:] + forcing['solar'][:,None] * scale_df['solar'].values[None,:]"
   ]
  },
  {
   "cell_type": "markdown",
   "id": "21",
   "metadata": {},
   "source": [
    "### Volcanic forcing\n",
    "\n",
    "Calculated separately in the `volcanic-forcing` notebook."
   ]
  },
  {
   "cell_type": "code",
   "execution_count": null,
   "id": "22",
   "metadata": {},
   "outputs": [],
   "source": [
    "df_volcanic = pd.read_csv('../output/volcanic_sAOD_ERF_annual_-9500-2023.csv', index_col=0)\n",
    "forcing['volcanic'] = df_volcanic.loc[1750.5:2023.5, 'volcanic_ERF'].values.squeeze()"
   ]
  },
  {
   "cell_type": "markdown",
   "id": "23",
   "metadata": {},
   "source": [
    "### Aerosol forcing\n",
    "\n",
    "In AR6, ERFari was based on emissions to forcing coefficients from Myhre et al (2013) https://acp.copernicus.org/articles/13/1853/2013/. At the time, I deemed there not sufficient evidence from CMIP6 AerChemMIP models or any other sources to update these. The uncertainty ranges from each precursor were expanded slightly compared to Myhre et al., in order to reproduce the overall ERFari uncertainty assessment (assumed that uncertainties in individual components are uncorrelated).\n",
    "\n",
    "Following AR6 and a re-calibration of FaIR, I now use Bill Collins/Terje Bertnsen/Sara Blichner/Sophie Szopa's chapter 6 correspondences of emissions or concentrations to forcing.\n",
    "\n",
    "ERFaci is based on fits to CMIP6 models from Smith et al. (2021) now updated to include 13 models and correct APRP code from Mark Zelinka.\n",
    "\n",
    "Rescale both to the assessed forcings of -0.3 W/m2 for ERFari 2005-14 and -1.0 for ERFaci 2005-14."
   ]
  },
  {
   "cell_type": "code",
   "execution_count": null,
   "id": "24",
   "metadata": {},
   "outputs": [],
   "source": [
    "# these come from AR6 WG1\n",
    "# source: https://github.com/sarambl/AR6_CH6_RCMIPFIGS/blob/master/ar6_ch6_rcmipfigs/data_out/fig6_12_ts15_historic_delta_GSAT/2019_ERF_est.csv\n",
    "# they sum to -0.22 W/m2, for 2019\n",
    "# Calculate a radiative efficiency for each species from CEDS and updated concentrations.\n",
    "df_ari_emitted_mean = pd.read_csv('../data/ar6/table_mean_thornhill_collins_orignames.csv', index_col=0)\n",
    "erfari_emitted = pd.Series(df_ari_emitted_mean['Aerosol'])\n",
    "erfari_emitted.rename_axis(None, inplace=True)\n",
    "erfari_emitted.rename({'HC': 'EESC', 'VOC': 'NMVOC'}, inplace=True)\n",
    "erfari_emitted"
   ]
  },
  {
   "cell_type": "code",
   "execution_count": null,
   "id": "25",
   "metadata": {},
   "outputs": [],
   "source": [
    "df_ari_emitted_std = pd.read_csv('../data/ar6/table_std_thornhill_collins_orignames.csv', index_col=0)\n",
    "erfari_emitted_std = pd.Series(df_ari_emitted_std['Aerosol_sd'])\n",
    "erfari_emitted_std.rename_axis(None, inplace=True)\n",
    "erfari_emitted_std.rename({'HC': 'EESC', 'VOC': 'NMVOC'}, inplace=True)\n",
    "erfari_emitted_std"
   ]
  },
  {
   "cell_type": "code",
   "execution_count": null,
   "id": "26",
   "metadata": {},
   "outputs": [],
   "source": [
    "def calculate_eesc(\n",
    "    concentration,\n",
    "    fractional_release,\n",
    "    fractional_release_cfc11,\n",
    "    cl_atoms,\n",
    "    br_atoms,\n",
    "    br_cl_ratio=45,\n",
    "):\n",
    "\n",
    "    # EESC is in terms of CFC11-eq\n",
    "    eesc_out = (\n",
    "        cl_atoms * (concentration) * fractional_release / fractional_release_cfc11\n",
    "        + br_cl_ratio\n",
    "        * br_atoms\n",
    "        * (concentration)\n",
    "        * fractional_release\n",
    "        / fractional_release_cfc11\n",
    "    ) * fractional_release_cfc11\n",
    "    return eesc_out\n",
    "\n",
    "\n",
    "fractional_release = {\n",
    "    \"CFC-11\": 0.47,\n",
    "    \"CFC-12\": 0.23,\n",
    "    \"CFC-113\": 0.29,\n",
    "    \"CFC-114\": 0.12,\n",
    "    \"CFC-115\": 0.04,\n",
    "    \"HCFC-22\": 0.13,\n",
    "    \"HCFC-141b\": 0.34,\n",
    "    \"HCFC-142b\": 0.17,\n",
    "    \"CCl4\": 0.56,\n",
    "    \"CHCl3\": 0,\n",
    "    \"CH2Cl2\": 0,\n",
    "    \"CH3Cl\": 0.44,\n",
    "    \"CH3CCl3\": 0.67,\n",
    "    \"CH3Br\": 0.6,\n",
    "    \"Halon-1211\": 0.62,\n",
    "    \"Halon-1301\": 0.28,\n",
    "    \"Halon-2402\": 0.65,\n",
    "}\n",
    "\n",
    "cl_atoms = {\n",
    "    \"CFC-11\": 3,\n",
    "    \"CFC-12\": 2,\n",
    "    \"CFC-113\": 3,\n",
    "    \"CFC-114\": 2,\n",
    "    \"CFC-115\": 1,\n",
    "    \"HCFC-22\": 1,\n",
    "    \"HCFC-141b\": 2,\n",
    "    \"HCFC-142b\": 1,\n",
    "    \"CCl4\": 4,\n",
    "    \"CHCl3\": 3,\n",
    "    \"CH2Cl2\": 2,\n",
    "    \"CH3Cl\": 1,\n",
    "    \"CH3CCl3\": 3,\n",
    "    \"CH3Br\": 0,\n",
    "    \"Halon-1211\": 1,\n",
    "    \"Halon-1301\": 0,\n",
    "    \"Halon-2402\": 0,\n",
    "}\n",
    "\n",
    "br_atoms = {\n",
    "    \"CFC-11\": 0,\n",
    "    \"CFC-12\": 0,\n",
    "    \"CFC-113\": 0,\n",
    "    \"CFC-114\": 0,\n",
    "    \"CFC-115\": 0,\n",
    "    \"HCFC-22\": 0,\n",
    "    \"HCFC-141b\": 0,\n",
    "    \"HCFC-142b\": 0,\n",
    "    \"CCl4\": 0,\n",
    "    \"CHCl3\": 0,\n",
    "    \"CH2Cl2\": 0,\n",
    "    \"CH3Cl\": 0,\n",
    "    \"CH3CCl3\": 0,\n",
    "    \"CH3Br\": 1,\n",
    "    \"Halon-1211\": 1,\n",
    "    \"Halon-1301\": 1,\n",
    "    \"Halon-2402\": 2,\n",
    "}\n",
    "\n",
    "hc_eesc = {}\n",
    "total_eesc = np.zeros(274)\n",
    "for species in cl_atoms:\n",
    "    hc_eesc[species] = calculate_eesc(\n",
    "        concentrations.loc[:, species],\n",
    "        fractional_release[species],\n",
    "        fractional_release[\"CFC-11\"],\n",
    "        cl_atoms[species],\n",
    "        br_atoms[species],\n",
    "    )\n",
    "    total_eesc = total_eesc + hc_eesc[species]\n",
    "\n",
    "total_eesc"
   ]
  },
  {
   "cell_type": "code",
   "execution_count": null,
   "id": "27",
   "metadata": {},
   "outputs": [],
   "source": [
    "#total_eesc = total_eesc.to_frame('EESC')"
   ]
  },
  {
   "cell_type": "code",
   "execution_count": null,
   "id": "28",
   "metadata": {},
   "outputs": [],
   "source": [
    "# erfari radiative efficiency per Mt or ppb or ppt\n",
    "re = erfari_emitted / (emissions.loc[2019, :] - emissions.loc[1750, :])\n",
    "re.dropna(inplace=True)"
   ]
  },
  {
   "cell_type": "code",
   "execution_count": null,
   "id": "29",
   "metadata": {},
   "outputs": [],
   "source": [
    "re['CH4'] = erfari_emitted['CH4'] / (concentrations.loc[2019, 'CH4'] - concentrations.loc[1750, 'CH4'])\n",
    "re['N2O'] = erfari_emitted['N2O'] / (concentrations.loc[2019, 'N2O'] - concentrations.loc[1750, 'N2O'])\n",
    "re['EESC'] = erfari_emitted['EESC'] / (total_eesc.loc[2019] - total_eesc.loc[1750])"
   ]
  },
  {
   "cell_type": "code",
   "execution_count": null,
   "id": "30",
   "metadata": {},
   "outputs": [],
   "source": [
    "re"
   ]
  },
  {
   "cell_type": "code",
   "execution_count": null,
   "id": "31",
   "metadata": {},
   "outputs": [],
   "source": [
    "re_std = erfari_emitted_std / (emissions.loc[2019, :] - emissions.loc[1750, :])\n",
    "re_std.dropna(inplace=True)\n",
    "re_std['CH4'] = erfari_emitted_std['CH4'] / (concentrations.loc[2019, 'CH4'] - concentrations.loc[1750, 'CH4'])\n",
    "re_std['N2O'] = erfari_emitted_std['N2O'] / (concentrations.loc[2019, 'N2O'] - concentrations.loc[1750, 'N2O'])\n",
    "re_std['EESC'] = erfari_emitted_std['EESC'] / (total_eesc.loc[2019] - total_eesc.loc[1750])\n",
    "re_std"
   ]
  },
  {
   "cell_type": "code",
   "execution_count": null,
   "id": "32",
   "metadata": {},
   "outputs": [],
   "source": [
    "re.index"
   ]
  },
  {
   "cell_type": "code",
   "execution_count": null,
   "id": "33",
   "metadata": {},
   "outputs": [],
   "source": [
    "erfari_best = pd.concat(\n",
    "    (\n",
    "        (re * emissions)[['BC', 'OC', 'SO2', 'NOx', 'NMVOC', 'NH3']] - (re * emissions.loc[1750, ['BC', 'OC', 'SO2', 'NOx', 'NMVOC', 'NH3']]),\n",
    "        (re * concentrations)[['CH4', 'N2O']] - (re * concentrations.loc[1750, ['CH4', 'N2O']]),\n",
    "        re['EESC'] * (total_eesc - total_eesc.loc[1750])\n",
    "    ), axis=1\n",
    ").dropna(axis=1).sum(axis=1)"
   ]
  },
  {
   "cell_type": "code",
   "execution_count": null,
   "id": "34",
   "metadata": {},
   "outputs": [],
   "source": [
    "# 90% range of ERF uncertainty in 2019 from model estimates\n",
    "np.sqrt((erfari_emitted_std**2).sum()) * NINETY_TO_ONESIGMA"
   ]
  },
  {
   "cell_type": "code",
   "execution_count": null,
   "id": "35",
   "metadata": {},
   "outputs": [],
   "source": [
    "# 90% range of ERF uncertainty in 2005-2014 from model estimates\n",
    "(erfari_best.loc[2005:2014].mean()/-0.22) * np.sqrt((erfari_emitted_std**2).sum()) * NINETY_TO_ONESIGMA"
   ]
  },
  {
   "cell_type": "code",
   "execution_count": null,
   "id": "36",
   "metadata": {},
   "outputs": [],
   "source": [
    "# best estimate ERF in 2005-2014 from model estimates\n",
    "erfari_best.loc[2005:2014].mean()"
   ]
  },
  {
   "cell_type": "code",
   "execution_count": null,
   "id": "37",
   "metadata": {},
   "outputs": [],
   "source": [
    "# we need to map the -0.27 +/- 0.57 to -0.3 +/- 0.3 which is the IPCC AR6 assessment\n",
    "best_scale = -0.3 / erfari_best.loc[2005:2014].mean()\n",
    "unc_scale = 0.3 / ((erfari_best.loc[2005:2014].mean()/-0.22) * np.sqrt((erfari_emitted_std**2).sum()) * NINETY_TO_ONESIGMA)"
   ]
  },
  {
   "cell_type": "code",
   "execution_count": null,
   "id": "38",
   "metadata": {},
   "outputs": [],
   "source": [
    "best_scale, unc_scale"
   ]
  },
  {
   "cell_type": "code",
   "execution_count": null,
   "id": "39",
   "metadata": {},
   "outputs": [],
   "source": [
    "forcing['aerosol-radiation_interactions'] = (erfari_best * best_scale).values"
   ]
  },
  {
   "cell_type": "code",
   "execution_count": null,
   "id": "40",
   "metadata": {},
   "outputs": [],
   "source": [
    "for specie in ['BC', 'OC', 'SO2', 'NOx', 'NMVOC', 'NH3']:\n",
    "    print(specie, (emissions.loc[2023, specie] - emissions.loc[1750, specie]) * re[specie])\n"
   ]
  },
  {
   "cell_type": "code",
   "execution_count": null,
   "id": "41",
   "metadata": {},
   "outputs": [],
   "source": [
    "# convert to numpy for efficiency\n",
    "erfari_re_samples = pd.DataFrame(\n",
    "    scipy.stats.norm.rvs(\n",
    "        re*best_scale, re_std*unc_scale, size=(SAMPLES, 9), random_state=3729329,\n",
    "    ),\n",
    "    columns = re.index\n",
    ")[['BC', 'OC', 'SO2', 'NOx', 'NMVOC', 'NH3', 'CH4', 'N2O', 'EESC']]"
   ]
  },
  {
   "cell_type": "code",
   "execution_count": null,
   "id": "42",
   "metadata": {},
   "outputs": [],
   "source": [
    "erfari_re_samples"
   ]
  },
  {
   "cell_type": "code",
   "execution_count": null,
   "id": "43",
   "metadata": {},
   "outputs": [],
   "source": [
    "erfari_re_samples = erfari_re_samples.to_numpy()"
   ]
  },
  {
   "cell_type": "code",
   "execution_count": null,
   "id": "44",
   "metadata": {},
   "outputs": [],
   "source": [
    "# a future TODO is to split CO out from the NMVOC estimate\n",
    "emnump = emissions.drop(columns=['CO']).to_numpy()"
   ]
  },
  {
   "cell_type": "code",
   "execution_count": null,
   "id": "45",
   "metadata": {},
   "outputs": [],
   "source": [
    "forcing_ensemble['aerosol-radiation_interactions'] = np.zeros((274, SAMPLES))\n",
    "for i in tqdm(range(SAMPLES)):\n",
    "    forcing_ensemble['aerosol-radiation_interactions'][:, i] = (\n",
    "        (\n",
    "            ((erfari_re_samples[i, :6] * emnump) - (erfari_re_samples[i, :6] * emnump[0, :])).sum(axis=1) + \n",
    "            ((erfari_re_samples[i, 6] * concentrations['CH4'].values) - (erfari_re_samples[i, 6] * concentrations.loc[1750, 'CH4'])) +\n",
    "            ((erfari_re_samples[i, 7] * concentrations['N2O'].values) - (erfari_re_samples[i, 7] * concentrations.loc[1750, 'N2O'])) +\n",
    "            (erfari_re_samples[i, 8] * (total_eesc.values - total_eesc.loc[1750]))\n",
    "        )\n",
    "    )"
   ]
  },
  {
   "cell_type": "code",
   "execution_count": null,
   "id": "46",
   "metadata": {},
   "outputs": [],
   "source": [
    "pl.plot(erfari_best * best_scale)"
   ]
  },
  {
   "cell_type": "code",
   "execution_count": null,
   "id": "47",
   "metadata": {},
   "outputs": [],
   "source": [
    "np.percentile(forcing_ensemble['aerosol-radiation_interactions'][255:265, :].mean(axis=0), (5, 50, 95))"
   ]
  },
  {
   "cell_type": "code",
   "execution_count": null,
   "id": "48",
   "metadata": {},
   "outputs": [],
   "source": [
    "df_aci_cal = pd.read_csv('../data/fair-calibrate-1.4.1/aerosol_cloud.csv', index_col=0)"
   ]
  },
  {
   "cell_type": "code",
   "execution_count": null,
   "id": "49",
   "metadata": {},
   "outputs": [],
   "source": [
    "df_aci_cal"
   ]
  },
  {
   "cell_type": "code",
   "execution_count": null,
   "id": "50",
   "metadata": {},
   "outputs": [],
   "source": [
    "beta_samp = df_aci_cal[\"aci_scale\"]\n",
    "n0_samp = df_aci_cal[\"Sulfur\"]\n",
    "n1_samp = df_aci_cal[\"BC\"]\n",
    "n2_samp = df_aci_cal[\"OC\"]"
   ]
  },
  {
   "cell_type": "code",
   "execution_count": null,
   "id": "51",
   "metadata": {},
   "outputs": [],
   "source": [
    "np.log(n0_samp)"
   ]
  },
  {
   "cell_type": "code",
   "execution_count": null,
   "id": "52",
   "metadata": {},
   "outputs": [],
   "source": [
    "np.log(n1_samp)"
   ]
  },
  {
   "cell_type": "code",
   "execution_count": null,
   "id": "53",
   "metadata": {},
   "outputs": [],
   "source": [
    "np.log(n2_samp)"
   ]
  },
  {
   "cell_type": "code",
   "execution_count": null,
   "id": "54",
   "metadata": {},
   "outputs": [],
   "source": [
    "kde = scipy.stats.gaussian_kde([np.log(n0_samp), np.log(n1_samp), np.log(n2_samp)], bw_method=0.1)\n",
    "aci_sample = kde.resample(size=SAMPLES * 1, seed=63648708)"
   ]
  },
  {
   "cell_type": "code",
   "execution_count": null,
   "id": "55",
   "metadata": {},
   "outputs": [],
   "source": [
    "#aci_sample[0, aci_sample[0, :] > 0] = 0#np.nan\n",
    "#aci_sample[1, aci_sample[1, :] > 0] = 0#np.nan\n",
    "#aci_sample[2, aci_sample[2, :] > 0] = 0#np.nan\n",
    "# mask = np.any(np.isnan(aci_sample), axis=0)\n",
    "# aci_sample = aci_sample[:, ~mask]"
   ]
  },
  {
   "cell_type": "code",
   "execution_count": null,
   "id": "56",
   "metadata": {},
   "outputs": [],
   "source": [
    "erfaci_sample = scipy.stats.norm.rvs(\n",
    "    size=SAMPLES, loc=-1.0, scale=0.7/NINETY_TO_ONESIGMA, random_state=71271\n",
    ")"
   ]
  },
  {
   "cell_type": "code",
   "execution_count": null,
   "id": "57",
   "metadata": {},
   "outputs": [],
   "source": [
    "so2 = emissions['SO2'].values\n",
    "bc = emissions['BC'].values\n",
    "oc = emissions['OC'].values"
   ]
  },
  {
   "cell_type": "code",
   "execution_count": null,
   "id": "58",
   "metadata": {},
   "outputs": [],
   "source": [
    "beta = np.zeros(SAMPLES)"
   ]
  },
  {
   "cell_type": "code",
   "execution_count": null,
   "id": "59",
   "metadata": {},
   "outputs": [],
   "source": [
    "def aci_log(x, beta, n0, n1, n2):\n",
    "    aci = beta * np.log(1 + x[0] * n0 + x[1] * n1 + x[2] * n2)\n",
    "    return aci"
   ]
  },
  {
   "cell_type": "code",
   "execution_count": null,
   "id": "60",
   "metadata": {},
   "outputs": [],
   "source": [
    "forcing_ensemble['aerosol-cloud_interactions'] = np.zeros((274, SAMPLES))\n",
    "for i in tqdm(range(SAMPLES), desc=\"aci samples\"):\n",
    "    ts2010 = np.mean(\n",
    "        aci_log(\n",
    "            [so2[255:265], bc[255:265], oc[255:265]],\n",
    "            1.1,\n",
    "            np.exp(aci_sample[0, i]),\n",
    "            np.exp(aci_sample[1, i]),\n",
    "            np.exp(aci_sample[2, i]),\n",
    "        )\n",
    "    )\n",
    "    ts1750 = aci_log(\n",
    "        [so2[0], bc[0], oc[0]],\n",
    "        1.1,\n",
    "        np.exp(aci_sample[0, i]),\n",
    "        np.exp(aci_sample[1, i]),\n",
    "        np.exp(aci_sample[2, i]),\n",
    "    )\n",
    "    forcing_ensemble['aerosol-cloud_interactions'][:, i] = (\n",
    "       (\n",
    "           aci_log(\n",
    "               [so2, bc, oc],\n",
    "               1.1,\n",
    "               np.exp(aci_sample[0, i]),\n",
    "               np.exp(aci_sample[1, i]),\n",
    "               np.exp(aci_sample[2, i]),\n",
    "           )\n",
    "           - ts1750\n",
    "       )\n",
    "       / (ts2010 - ts1750)\n",
    "       * (erfaci_sample[i])\n",
    "    )\n",
    "    beta[i] = erfaci_sample[i] / (ts2010 - ts1750)"
   ]
  },
  {
   "cell_type": "code",
   "execution_count": null,
   "id": "61",
   "metadata": {},
   "outputs": [],
   "source": [
    "#pl.plot(erfaci);\n",
    "#pl.ylim(-6, 0.2)"
   ]
  },
  {
   "cell_type": "code",
   "execution_count": null,
   "id": "62",
   "metadata": {},
   "outputs": [],
   "source": [
    "(forcing_ensemble['aerosol-cloud_interactions'][255:265, :]).mean()"
   ]
  },
  {
   "cell_type": "code",
   "execution_count": null,
   "id": "63",
   "metadata": {},
   "outputs": [],
   "source": [
    "np.median(forcing_ensemble['aerosol-cloud_interactions'][255:265, :].mean(axis=0))"
   ]
  },
  {
   "cell_type": "code",
   "execution_count": null,
   "id": "64",
   "metadata": {},
   "outputs": [],
   "source": [
    "forcing['aerosol-cloud_interactions'] = np.median(forcing_ensemble['aerosol-cloud_interactions'], axis=1)\n",
    "pl.plot(forcing['aerosol-cloud_interactions'])"
   ]
  },
  {
   "cell_type": "code",
   "execution_count": null,
   "id": "65",
   "metadata": {},
   "outputs": [],
   "source": [
    "pl.plot(forcing['aerosol-radiation_interactions'] + forcing['aerosol-cloud_interactions'])"
   ]
  },
  {
   "cell_type": "markdown",
   "id": "66",
   "metadata": {},
   "source": [
    "### Contrail forcing\n",
    "\n",
    "Update for 2023: calculated in `contrails.ipynb`"
   ]
  },
  {
   "cell_type": "code",
   "execution_count": null,
   "id": "67",
   "metadata": {},
   "outputs": [],
   "source": [
    "df_contrails = pd.read_csv('../output/contrails_ERF_1930-2023.csv', index_col=0)\n",
    "forcing['contrails'] = np.zeros(274)\n",
    "forcing['contrails'][180:] = df_contrails.values.squeeze()"
   ]
  },
  {
   "cell_type": "markdown",
   "id": "68",
   "metadata": {},
   "source": [
    "### Land use forcing\n",
    "\n",
    "Use cumulative land use CO2 emissions, scale to -0.2 W/m2 for 1750 to 2019. Demonstrate this is fairly close to an observational estimate (Ghimire et al. 2015)"
   ]
  },
  {
   "cell_type": "code",
   "execution_count": null,
   "id": "69",
   "metadata": {},
   "outputs": [],
   "source": [
    "df_gcp = pd.read_csv('../data/gcp_emissions/gcp_2023.csv', index_col=0)"
   ]
  },
  {
   "cell_type": "code",
   "execution_count": null,
   "id": "70",
   "metadata": {},
   "outputs": [],
   "source": [
    "df_gcp['AFOLU']"
   ]
  },
  {
   "cell_type": "code",
   "execution_count": null,
   "id": "71",
   "metadata": {},
   "outputs": [],
   "source": [
    "lusf2019 = -0.20/(np.cumsum(df_gcp['AFOLU']).loc[2019] - df_gcp.loc[1750, 'AFOLU'])\n",
    "lusf2019"
   ]
  },
  {
   "cell_type": "code",
   "execution_count": null,
   "id": "72",
   "metadata": {},
   "outputs": [],
   "source": [
    "forcing['land_use'] = (np.cumsum(df_gcp['AFOLU']) - df_gcp.loc[1750, 'AFOLU']).values*lusf2019"
   ]
  },
  {
   "cell_type": "code",
   "execution_count": null,
   "id": "73",
   "metadata": {},
   "outputs": [],
   "source": [
    "pl.plot(forcing['land_use'])"
   ]
  },
  {
   "cell_type": "markdown",
   "id": "74",
   "metadata": {},
   "source": [
    "## BC on snow\n",
    "\n",
    "linear with emissions, 2019 ERF = 0.08"
   ]
  },
  {
   "cell_type": "code",
   "execution_count": null,
   "id": "75",
   "metadata": {},
   "outputs": [],
   "source": [
    "emissions.loc[2019,'BC']\n",
    "forcing['BC_on_snow'] = (0.08*(emissions['BC']-emissions.loc[1750,'BC'])/(emissions.loc[2019,'BC']-emissions.loc[1750,'BC'])).values.squeeze()\n",
    "pl.plot(forcing['BC_on_snow'])"
   ]
  },
  {
   "cell_type": "markdown",
   "id": "76",
   "metadata": {},
   "source": [
    "### Greenhouse gas concentrations\n",
    "\n",
    "Here, tropospheric and surface adjustments are only implemented for CO2, CH4, N2O, CFC11 and CFC12 to convert SARF to ERF. There's an argument to uplift ERF by 5% for other GHGs based on land surface warming, but the total forcing will be very small and no single-forcing studies exist. This was not done in AR6 chapter 7.\n",
    "\n",
    "Radiative efficiencies for F-gases are from Hodnebrog et al. 2020 https://agupubs.onlinelibrary.wiley.com/doi/full/10.1029/2019RG000691."
   ]
  },
  {
   "cell_type": "code",
   "execution_count": null,
   "id": "77",
   "metadata": {},
   "outputs": [],
   "source": [
    "concentrations"
   ]
  },
  {
   "cell_type": "code",
   "execution_count": null,
   "id": "78",
   "metadata": {},
   "outputs": [],
   "source": [
    "meinshausen2020"
   ]
  },
  {
   "cell_type": "code",
   "execution_count": null,
   "id": "79",
   "metadata": {},
   "outputs": [],
   "source": [
    "concentrations.loc[2023].values.shape"
   ]
  },
  {
   "cell_type": "code",
   "execution_count": null,
   "id": "80",
   "metadata": {},
   "outputs": [],
   "source": [
    "# radiative efficiencies\n",
    "# source: Hodnebrog et al 2020 https://agupubs.onlinelibrary.wiley.com/doi/full/10.1029/2019RG000691\n",
    "radeff = {\n",
    "    'HFC-125':      0.23378,\n",
    "    'HFC-134a':     0.16714,\n",
    "    'HFC-143a':     0.168,\n",
    "    'HFC-152a':     0.10174,\n",
    "    'HFC-227ea':    0.27325,\n",
    "    'HFC-23':       0.19111,\n",
    "    'HFC-236fa':    0.25069,\n",
    "    'HFC-245fa':    0.24498,\n",
    "    'HFC-32':       0.11144,\n",
    "    'HFC-365mfc':   0.22813,\n",
    "    'HFC-43-10mee': 0.35731,\n",
    "    'NF3':          0.20448,\n",
    "    'C2F6':         0.26105,\n",
    "    'C3F8':         0.26999,\n",
    "    'n-C4F10':      0.36874,\n",
    "    'n-C5F12':      0.4076,\n",
    "    'n-C6F14':      0.44888,\n",
    "    'i-C6F14':      0.44888,\n",
    "    'C7F16':        0.50312,\n",
    "    'C8F18':        0.55787,\n",
    "    'CF4':          0.09859,\n",
    "    'c-C4F8':       0.31392,\n",
    "    'SF6':          0.56657,\n",
    "    'SO2F2':        0.21074,\n",
    "    'CCl4':         0.16616,\n",
    "    'CFC-11':       0.25941,\n",
    "    'CFC-112':      0.28192,\n",
    "    'CFC-112a':     0.24564,\n",
    "    'CFC-113':      0.30142,\n",
    "    'CFC-113a':     0.24094, \n",
    "    'CFC-114':      0.31433,\n",
    "    'CFC-114a':     0.29747,\n",
    "    'CFC-115':      0.24625,\n",
    "    'CFC-12':       0.31998,\n",
    "    'CFC-13':       0.27752,\n",
    "    'CH2Cl2':       0.02882,\n",
    "    'CH3Br':        0.00432,\n",
    "    'CH3CCl3':      0.06454,\n",
    "    'CH3Cl':        0.00466,\n",
    "    'CHCl3':        0.07357,\n",
    "    'HCFC-124':     0.20721,\n",
    "    'HCFC-133a':    0.14995,\n",
    "    'HCFC-141b':    0.16065,\n",
    "    'HCFC-142b':    0.19329,\n",
    "    'HCFC-22':      0.21385,\n",
    "    'HCFC-31':      0.068,\n",
    "    'Halon-1202':   0,       # not in dataset\n",
    "    'Halon-1211':   0.30014,\n",
    "    'Halon-1301':   0.29943,\n",
    "    'Halon-2402':   0.31169,\n",
    "    'CO2':          0,       # different relationship\n",
    "    'CH4':          0,       # different relationship\n",
    "    'N2O':          0        # different relationship\n",
    "}\n",
    "\n",
    "radeff_array = np.ones(52) * np.nan\n",
    "for igas, gas in enumerate(concentrations.columns):\n",
    "    radeff_array[igas] = radeff[gas]"
   ]
  },
  {
   "cell_type": "code",
   "execution_count": null,
   "id": "81",
   "metadata": {},
   "outputs": [],
   "source": [
    "np.where(concentrations.columns=='CFC-11')[0][0], np.where(concentrations.columns=='CFC-12')[0][0]"
   ]
  },
  {
   "cell_type": "code",
   "execution_count": null,
   "id": "82",
   "metadata": {},
   "outputs": [],
   "source": [
    "adjustments = np.ones(52)\n",
    "adjustments[0] = 1.05\n",
    "adjustments[1] = 0.86\n",
    "adjustments[2] = 1.07\n",
    "adjustments[21] = 1.12\n",
    "adjustments[22] = 1.13"
   ]
  },
  {
   "cell_type": "code",
   "execution_count": null,
   "id": "83",
   "metadata": {},
   "outputs": [],
   "source": [
    "meinshausen2020(\n",
    "    concentrations.loc[2019].values,\n",
    "    concentrations.loc[1750].values,\n",
    "    adjustments,\n",
    "    radeff_array,\n",
    "    [0],\n",
    "    [1],\n",
    "    [2],\n",
    "    list(range(3,52))\n",
    ")"
   ]
  },
  {
   "cell_type": "code",
   "execution_count": null,
   "id": "84",
   "metadata": {},
   "outputs": [],
   "source": [
    "ghg_out = np.zeros((274, 52))\n",
    "for i, year in enumerate(range(1750, 2024)):\n",
    "    ghg_out[i, :] = meinshausen2020(\n",
    "        concentrations.loc[year].values,\n",
    "        concentrations.loc[1750].values,\n",
    "        adjustments,\n",
    "        radeff_array,\n",
    "        [0],\n",
    "        [1],\n",
    "        [2],\n",
    "        list(range(3,52))\n",
    "    )\n",
    "for igas, gas in enumerate(concentrations.columns):\n",
    "    forcing[gas] = ghg_out[:, igas]"
   ]
  },
  {
   "cell_type": "code",
   "execution_count": null,
   "id": "85",
   "metadata": {},
   "outputs": [],
   "source": [
    "pl.plot(ghg_out.sum(axis=1))\n",
    "pl.plot(forcing['CO2'])"
   ]
  },
  {
   "cell_type": "code",
   "execution_count": null,
   "id": "86",
   "metadata": {},
   "outputs": [],
   "source": [
    "forcing['CO2'][0]"
   ]
  },
  {
   "cell_type": "markdown",
   "id": "87",
   "metadata": {},
   "source": [
    "### Ozone\n",
    "\n",
    "Same as AR6 method: use ERF time series from Skeie et al. (2020) from 6 CMIP6 models, and fit coefficients for each precursor based on Thornhill et al. (2021)"
   ]
  },
  {
   "cell_type": "code",
   "execution_count": null,
   "id": "88",
   "metadata": {},
   "outputs": [],
   "source": [
    "# get temperature time series, needed to back out temperature feedback\n",
    "temp_obs = pd.read_csv('../data/gmst/IGCC_GMST_1850-2022.csv', index_col=0).values\n",
    "delta_gmst = [\n",
    "    0,\n",
    "    temp_obs[65:76].mean(),\n",
    "    temp_obs[75:86].mean(),\n",
    "    temp_obs[85:96].mean(),\n",
    "    temp_obs[95:106].mean(),\n",
    "    temp_obs[105:116].mean(),\n",
    "    temp_obs[115:126].mean(),\n",
    "    temp_obs[125:136].mean(),\n",
    "    temp_obs[135:146].mean(),\n",
    "    temp_obs[145:156].mean(),\n",
    "    temp_obs[152:163].mean(),\n",
    "    temp_obs[155:166].mean(),\n",
    "    temp_obs[159:170].mean(),\n",
    "    temp_obs[167].mean(),  # we don't use this\n",
    "    temp_obs[168].mean(),\n",
    "]  # this is the time periods used in Skeie et al."
   ]
  },
  {
   "cell_type": "code",
   "execution_count": null,
   "id": "89",
   "metadata": {},
   "outputs": [],
   "source": [
    "# get the skeie data and back out the climate feedback (-0.037 W/m2/K)\n",
    "good_models = [\n",
    "    \"BCC-ESM1\",\n",
    "    \"CESM2(WACCM6)\",\n",
    "    \"GFDL-ESM4\",\n",
    "    \"GISS-E2-1-H\",\n",
    "    \"MRI-ESM2-0\",\n",
    "    \"OsloCTM3\",\n",
    "]\n",
    "\n",
    "skeie_trop = pd.read_csv(\n",
    "    \"../data/ozone/skeie_ozone_trop.csv\", index_col=0\n",
    ")\n",
    "skeie_trop = skeie_trop.loc[good_models]\n",
    "skeie_trop.insert(0, 1850, 0)\n",
    "skeie_trop.columns = pd.to_numeric(skeie_trop.columns)\n",
    "skeie_trop.interpolate(axis=1, method=\"values\", limit_area=\"inside\", inplace=True)\n",
    "\n",
    "skeie_strat = pd.read_csv(\n",
    "    \"../data/ozone/skeie_ozone_strat.csv\", index_col=0\n",
    ")\n",
    "skeie_strat = skeie_strat.loc[good_models]\n",
    "skeie_strat.insert(0, 1850, 0)\n",
    "skeie_strat.columns = pd.to_numeric(skeie_strat.columns)\n",
    "skeie_strat.interpolate(axis=1, method=\"values\", limit_area=\"inside\", inplace=True)\n",
    "\n",
    "skeie_total = skeie_trop + skeie_strat\n",
    "\n",
    "coupled_models = copy.deepcopy(good_models)\n",
    "coupled_models.remove(\"OsloCTM3\")\n",
    "\n",
    "skeie_total.loc[coupled_models] = skeie_total.loc[coupled_models] - (-0.037) * np.array(\n",
    "    delta_gmst\n",
    ")\n",
    "skeie_ssp245 = skeie_total.mean()\n",
    "skeie_ssp245[1750] = -0.03\n",
    "skeie_ssp245.sort_index(inplace=True)\n",
    "skeie_ssp245 = skeie_ssp245 + 0.03\n",
    "skeie_ssp245.drop([2014, 2017, 2020], inplace=True)\n",
    "# skeie_ssp245 = skeie_ssp245.append(\n",
    "#     skeie_total.loc[\"OsloCTM3\", 2014:]\n",
    "#     - skeie_total.loc[\"OsloCTM3\", 2010]\n",
    "#     + skeie_ssp245[2010]\n",
    "# )\n",
    "skeie_ssp245 = pd.concat(\n",
    "    (\n",
    "        skeie_ssp245,\n",
    "        skeie_total.loc[\"OsloCTM3\", 2014:] - skeie_total.loc[\"OsloCTM3\", 2010] + skeie_ssp245[2010]\n",
    "    )\n",
    ")\n",
    "\n",
    "f = interp1d(\n",
    "    skeie_ssp245.index, skeie_ssp245, bounds_error=False, fill_value=\"extrapolate\"\n",
    ")\n",
    "years = np.arange(1750, 2021)\n",
    "o3total = f(years)"
   ]
  },
  {
   "cell_type": "code",
   "execution_count": null,
   "id": "90",
   "metadata": {},
   "outputs": [],
   "source": [
    "# Get 1750-2014 changes to compare with Thornhill CMIP6\n",
    "# Thornhill uses 1850-2014. However, we want a 1750 baseline, and the coefficients will be scaled up anyway in order\n",
    "# to match the Thornhill best estimate (0.31) to Skeie (0.47)\n",
    "delta_Cch4 = concentrations.loc[2014, 'CH4'] - concentrations.loc[1750, 'CH4']\n",
    "delta_Cn2o = concentrations.loc[2014, 'N2O'] - concentrations.loc[1750, 'N2O']\n",
    "delta_Cods = total_eesc.loc[2014] - total_eesc.loc[1750]\n",
    "delta_Eco = emissions.loc[2014, 'CO'] - emissions.loc[1750, 'CO']\n",
    "delta_Enox = emissions.loc[2014, 'NOx'] - emissions.loc[1750, 'NOx']\n",
    "delta_Evoc = emissions.loc[2014, 'NMVOC'] - emissions.loc[1750, 'NMVOC']"
   ]
  },
  {
   "cell_type": "code",
   "execution_count": null,
   "id": "91",
   "metadata": {},
   "outputs": [],
   "source": [
    "# create a timeseries of precursors as a new array\n",
    "ts = np.vstack(\n",
    "    (\n",
    "        concentrations[\"CH4\"],\n",
    "        concentrations[\"N2O\"],\n",
    "        total_eesc,\n",
    "        emissions[\"CO\"],\n",
    "        emissions[\"NMVOC\"],\n",
    "        emissions[\"NOx\"],\n",
    "    )\n",
    ").T"
   ]
  },
  {
   "cell_type": "code",
   "execution_count": null,
   "id": "92",
   "metadata": {},
   "outputs": [],
   "source": [
    "# best estimate radiative efficienices from 2014 - 1850 from AR6 here from Thornhill. Used for scaling.\n",
    "radeff_ch4 = 0.14 / delta_Cch4\n",
    "radeff_n2o = 0.03 / delta_Cn2o\n",
    "radeff_ods = -0.11 / delta_Cods  # excludes UKESM\n",
    "radeff_co = 0.067 / delta_Eco  # stevenson CMIP5 scaled to CO + VOC total\n",
    "radeff_voc = 0.043 / delta_Evoc  # stevenson CMIP5 scaled to CO + VOC total\n",
    "radeff_nox = 0.20 / delta_Enox"
   ]
  },
  {
   "cell_type": "code",
   "execution_count": null,
   "id": "93",
   "metadata": {},
   "outputs": [],
   "source": [
    "# scale factor to convert from Skeie to Thornhill total ozone ERF\n",
    "fac_cmip6_skeie = (\n",
    "    radeff_ch4 * delta_Cch4\n",
    "    + radeff_n2o * delta_Cn2o\n",
    "    + radeff_ods * delta_Cods\n",
    "    + radeff_co * delta_Eco\n",
    "    + radeff_voc * delta_Evoc\n",
    "    + radeff_nox * delta_Enox\n",
    ") / (o3total[264] - o3total[0])\n",
    "fac_cmip6_skeie"
   ]
  },
  {
   "cell_type": "code",
   "execution_count": null,
   "id": "94",
   "metadata": {},
   "outputs": [],
   "source": [
    "# Fit timeseries of ozone forcing in the absence of climate feedbacks (calculated above)\n",
    "# This is to compare the fixed-SST runs from Thornhill with the coupled runs from Skeie\n",
    "# We back out the warming contribution from Skeie\n",
    "# The bounds of the curve fit are a 90% range from model results in Thornhill et al. 2021, except for halocarbons where\n",
    "# we exclude UKESM\n",
    "# Thornhill coefficients are scaled (fac_cmip6_skeie) to preserve total ERF\n",
    "def fit_precursors(x, rch4, rn2o, rods, rco, rvoc, rnox):\n",
    "    return (\n",
    "        rch4 * x[0] + rn2o * x[1] + rods * x[2] + rco * x[3] + rvoc * x[4] + rnox * x[5]\n",
    "    )\n",
    "\n",
    "p, cov = curve_fit(\n",
    "    fit_precursors,\n",
    "    ts[:270, :].T - ts[0:1, :].T,\n",
    "    o3total[:270] - o3total[0],\n",
    "    bounds=(  # 90% range from Thornhill for each precursor\n",
    "        (\n",
    "            0.09 / delta_Cch4 / fac_cmip6_skeie,\n",
    "            0.01 / delta_Cn2o / fac_cmip6_skeie,\n",
    "            -0.21 / delta_Cods / fac_cmip6_skeie,\n",
    "            0.010 / delta_Eco / fac_cmip6_skeie,\n",
    "            0 / delta_Evoc / fac_cmip6_skeie,\n",
    "            0.09 / delta_Enox / fac_cmip6_skeie,\n",
    "        ),\n",
    "        (\n",
    "            0.19 / delta_Cch4 / fac_cmip6_skeie,\n",
    "            0.05 / delta_Cn2o / fac_cmip6_skeie,\n",
    "            -0.01 / delta_Cods / fac_cmip6_skeie,\n",
    "            0.124 / delta_Eco / fac_cmip6_skeie,\n",
    "            0.086 / delta_Evoc / fac_cmip6_skeie,\n",
    "            0.31 / delta_Enox / fac_cmip6_skeie,\n",
    "        ),\n",
    "    ),\n",
    ")\n"
   ]
  },
  {
   "cell_type": "code",
   "execution_count": null,
   "id": "95",
   "metadata": {},
   "outputs": [],
   "source": [
    "forcing['O3'] = (\n",
    "    p[0] * (concentrations[\"CH4\"] - concentrations.loc[1750, \"CH4\"])\n",
    "    + p[1] * (concentrations[\"N2O\"] - concentrations.loc[1750, \"N2O\"])\n",
    "    + p[2] * (total_eesc - total_eesc.loc[1750])\n",
    "    + p[3] * (emissions[\"CO\"] - emissions.loc[1750, \"CO\"])\n",
    "    + p[4] * (emissions[\"NMVOC\"] - emissions.loc[1750, \"NMVOC\"])\n",
    "    + p[5] * (emissions[\"NOx\"] - emissions.loc[1750, \"NOx\"])\n",
    ").values.squeeze()"
   ]
  },
  {
   "cell_type": "code",
   "execution_count": null,
   "id": "96",
   "metadata": {},
   "outputs": [],
   "source": [
    "pl.plot(np.arange(1750, 2024), forcing['O3'], label='ozone precursor best fit')\n",
    "pl.plot(np.arange(1750, 2021), o3total, label='Skeie et al. (historical + SSP2-4.5)')\n",
    "pl.legend()"
   ]
  },
  {
   "cell_type": "markdown",
   "id": "97",
   "metadata": {},
   "source": [
    "### Stratospheric water vapour\n",
    "\n",
    "Simple scaling with methane forcing. Anchored to be 0.05 W/m2 in 2019."
   ]
  },
  {
   "cell_type": "code",
   "execution_count": null,
   "id": "98",
   "metadata": {},
   "outputs": [],
   "source": [
    "sfh2ostrat = 0.05 / forcing['CH4'][269]\n",
    "forcing['H2O_stratospheric'] = (forcing['CH4'] * sfh2ostrat)"
   ]
  },
  {
   "cell_type": "markdown",
   "id": "99",
   "metadata": {},
   "source": [
    "## Aggregation"
   ]
  },
  {
   "cell_type": "code",
   "execution_count": null,
   "id": "100",
   "metadata": {},
   "outputs": [],
   "source": [
    "forcing"
   ]
  },
  {
   "cell_type": "code",
   "execution_count": null,
   "id": "101",
   "metadata": {},
   "outputs": [],
   "source": [
    "pd.DataFrame(forcing, index=np.arange(1750, 2024)).to_csv('../output/ERF_best_1750-2023.csv')"
   ]
  },
  {
   "cell_type": "code",
   "execution_count": null,
   "id": "102",
   "metadata": {},
   "outputs": [],
   "source": [
    "for agent in tqdm(forcing):\n",
    "    if agent not in ['aerosol-radiation_interactions', 'aerosol-cloud_interactions', 'solar']:\n",
    "        forcing_ensemble[agent] = forcing[agent][:,None] * scale_df[agent].values[None,:]"
   ]
  },
  {
   "cell_type": "code",
   "execution_count": null,
   "id": "103",
   "metadata": {},
   "outputs": [],
   "source": [
    "#forcing_ensemble"
   ]
  },
  {
   "cell_type": "code",
   "execution_count": null,
   "id": "104",
   "metadata": {},
   "outputs": [],
   "source": [
    "forcing_ensemble_sum = np.zeros((274, SAMPLES))\n",
    "forcing_ensemble_anthro = np.zeros((274, SAMPLES))\n",
    "forcing_ensemble_natural = np.zeros((274, SAMPLES))\n",
    "forcing_ensemble_aerosol = np.zeros((274, SAMPLES))\n",
    "forcing_ensemble_minorghg = np.zeros((274, SAMPLES))\n",
    "\n",
    "for agent in tqdm(forcing):\n",
    "    forcing_ensemble_sum = forcing_ensemble_sum + forcing_ensemble[agent]\n",
    "    if agent in ['solar', 'volcanic']:\n",
    "        forcing_ensemble_natural = forcing_ensemble_natural + forcing_ensemble[agent]\n",
    "    else:\n",
    "        forcing_ensemble_anthro = forcing_ensemble_anthro + forcing_ensemble[agent]\n",
    "    if agent not in ['solar', 'volcanic', 'aerosol-radiation_interactions', 'aerosol-cloud_interactions',\n",
    "                    'CO2', 'CH4', 'N2O', 'O3', 'H2O_stratospheric', 'contrails', 'BC_on_snow', 'land_use']:\n",
    "        forcing_ensemble_minorghg = forcing_ensemble_minorghg + forcing_ensemble[agent]\n",
    "    if agent in ['aerosol-radiation_interactions', 'aerosol-cloud_interactions']:\n",
    "        forcing_ensemble_aerosol = forcing_ensemble_aerosol + forcing_ensemble[agent]"
   ]
  },
  {
   "cell_type": "code",
   "execution_count": null,
   "id": "105",
   "metadata": {},
   "outputs": [],
   "source": [
    "forcing_sum = np.zeros((274))\n",
    "forcing_anthro = np.zeros((274))\n",
    "forcing_natural = np.zeros((274))\n",
    "forcing_aerosol = np.zeros((274))\n",
    "forcing_minorghg = np.zeros((274))\n",
    "\n",
    "for agent in tqdm(forcing):\n",
    "    forcing_sum = forcing_sum + forcing[agent]\n",
    "    if agent in ['solar', 'volcanic']:\n",
    "        forcing_natural = forcing_natural + forcing[agent]\n",
    "    else:\n",
    "        forcing_anthro = forcing_anthro + forcing[agent]\n",
    "    if agent not in ['solar', 'volcanic', 'aerosol-radiation_interactions', 'aerosol-cloud_interactions',\n",
    "                    'CO2', 'CH4', 'N2O', 'O3', 'H2O_stratospheric', 'contrails', 'BC_on_snow', 'land_use']:\n",
    "        forcing_minorghg = forcing_minorghg + forcing[agent]\n",
    "    if agent in ['aerosol-radiation_interactions', 'aerosol-cloud_interactions']:\n",
    "        forcing_aerosol = forcing_aerosol + forcing[agent]"
   ]
  },
  {
   "cell_type": "code",
   "execution_count": null,
   "id": "106",
   "metadata": {},
   "outputs": [],
   "source": [
    "forcing_p05 = {}\n",
    "forcing_p95 = {}\n",
    "\n",
    "for agent in tqdm(forcing):\n",
    "    forcing_p05[agent] = np.percentile(forcing_ensemble[agent],5,axis=1)\n",
    "    forcing_p95[agent] = np.percentile(forcing_ensemble[agent],95,axis=1)\n",
    "    \n",
    "forcing_p05_sum = np.percentile(forcing_ensemble_sum,5,axis=1)\n",
    "forcing_p05_anthro = np.percentile(forcing_ensemble_anthro,5,axis=1)\n",
    "forcing_p05_natural = np.percentile(forcing_ensemble_natural,5,axis=1)\n",
    "forcing_p05_aerosol = np.percentile(forcing_ensemble_aerosol,5,axis=1)\n",
    "forcing_p05_minorghg = np.percentile(forcing_ensemble_minorghg,5,axis=1)\n",
    "\n",
    "forcing_p95_sum = np.percentile(forcing_ensemble_sum,95,axis=1)\n",
    "forcing_p95_anthro = np.percentile(forcing_ensemble_anthro,95,axis=1)\n",
    "forcing_p95_natural = np.percentile(forcing_ensemble_natural,95,axis=1)\n",
    "forcing_p95_aerosol = np.percentile(forcing_ensemble_aerosol,95,axis=1)\n",
    "forcing_p95_minorghg = np.percentile(forcing_ensemble_minorghg,95,axis=1)"
   ]
  },
  {
   "cell_type": "code",
   "execution_count": null,
   "id": "107",
   "metadata": {},
   "outputs": [],
   "source": [
    "fig, ax = pl.subplots(4,4, figsize=(16,16),squeeze=True)\n",
    "ax[0,0].fill_between(np.arange(1750,2024), forcing_p05['CO2'], forcing_p95['CO2'], alpha=0.3)\n",
    "ax[0,0].plot(np.arange(1750,2024),forcing['CO2'])\n",
    "ax[0,0].set_title('CO2')\n",
    "ax[0,1].fill_between(np.arange(1750,2024), forcing_p05['CH4'], forcing_p95['CH4'], alpha=0.3)\n",
    "ax[0,1].plot(np.arange(1750,2024),forcing['CH4'])\n",
    "ax[0,1].set_title('CH4')\n",
    "ax[0,2].fill_between(np.arange(1750,2024), forcing_p05['N2O'], forcing_p95['N2O'], alpha=0.3)\n",
    "ax[0,2].plot(np.arange(1750,2024),forcing['N2O'])\n",
    "ax[0,2].set_title('N2O')\n",
    "ax[0,3].fill_between(np.arange(1750,2024), forcing_p05_minorghg, forcing_p95_minorghg, alpha=0.3)\n",
    "ax[0,3].plot(np.arange(1750,2024),forcing_minorghg)\n",
    "ax[0,3].set_title('Other WMGHGs')\n",
    "ax[1,0].fill_between(np.arange(1750,2024), forcing_p05['O3'], forcing_p95['O3'], alpha=0.3)\n",
    "ax[1,0].plot(np.arange(1750,2024),forcing['O3'])\n",
    "ax[1,0].set_title('O3')\n",
    "ax[1,1].fill_between(np.arange(1750,2024), forcing_p05['H2O_stratospheric'], forcing_p95['H2O_stratospheric'], alpha=0.3)\n",
    "ax[1,1].plot(np.arange(1750,2024),forcing['H2O_stratospheric'])\n",
    "ax[1,1].set_title('H2O stratospheric')\n",
    "ax[1,2].fill_between(np.arange(1750,2024), forcing_p05['contrails'], forcing_p95['contrails'], alpha=0.3)\n",
    "ax[1,2].plot(np.arange(1750,2024),forcing['contrails'])\n",
    "ax[1,2].set_title('contrails')\n",
    "ax[1,3].fill_between(np.arange(1750,2024), forcing_p05['aerosol-radiation_interactions'], forcing_p95['aerosol-radiation_interactions'], alpha=0.3)\n",
    "ax[1,3].plot(np.arange(1750,2024),forcing['aerosol-radiation_interactions'])\n",
    "ax[1,3].set_title('ERFari')\n",
    "ax[2,0].fill_between(np.arange(1750,2024), forcing_p05['aerosol-cloud_interactions'], forcing_p95['aerosol-cloud_interactions'], alpha=0.3)\n",
    "ax[2,0].plot(np.arange(1750,2024),forcing['aerosol-cloud_interactions'])\n",
    "ax[2,0].set_title('ERFaci')\n",
    "ax[2,1].fill_between(np.arange(1750,2024), forcing_p05['BC_on_snow'], forcing_p95['BC_on_snow'], alpha=0.3)\n",
    "ax[2,1].plot(np.arange(1750,2024),forcing['BC_on_snow'])\n",
    "ax[2,1].set_title('BC on snow')\n",
    "ax[2,2].fill_between(np.arange(1750,2024), forcing_p05['land_use'], forcing_p95['land_use'], alpha=0.3)\n",
    "ax[2,2].plot(np.arange(1750,2024),forcing['land_use'])\n",
    "ax[2,2].set_title('land use')\n",
    "ax[2,3].fill_between(np.arange(1750,2024), forcing_p05['volcanic'], forcing_p95['volcanic'], alpha=0.3)\n",
    "ax[2,3].plot(np.arange(1750,2024),forcing['volcanic'])\n",
    "ax[2,3].set_title('volcanic')\n",
    "ax[3,0].fill_between(np.arange(1750,2024), forcing_p05['solar'], forcing_p95['solar'], alpha=0.3)\n",
    "ax[3,0].plot(np.arange(1750,2024),forcing['solar'])\n",
    "ax[3,0].set_title('solar');"
   ]
  },
  {
   "cell_type": "code",
   "execution_count": null,
   "id": "108",
   "metadata": {},
   "outputs": [],
   "source": [
    "pl.figure(figsize=(16,9))\n",
    "pl.fill_between(np.arange(1750,2024), forcing_p05_sum, forcing_p95_sum, alpha=0.3)\n",
    "pl.plot(np.arange(1750,2024), forcing_sum)\n",
    "pl.yticks(np.arange(-4,5))\n",
    "pl.xticks(np.arange(1750,2020,50))\n",
    "pl.ylim(-4,4)\n",
    "pl.xlim(1750,2024)\n",
    "pl.grid()"
   ]
  },
  {
   "cell_type": "code",
   "execution_count": null,
   "id": "109",
   "metadata": {},
   "outputs": [],
   "source": [
    "forcing_ensemble"
   ]
  },
  {
   "cell_type": "code",
   "execution_count": null,
   "id": "110",
   "metadata": {},
   "outputs": [],
   "source": [
    "forcing_ensemble_sum.shape"
   ]
  },
  {
   "cell_type": "code",
   "execution_count": null,
   "id": "111",
   "metadata": {},
   "outputs": [],
   "source": [
    "xr.Dataset(\n",
    "    data_vars=dict(\n",
    "        forcing_ensemble=([\"time\", \"ensemble\"], forcing_ensemble_sum),\n",
    "    ),\n",
    "    coords=dict(\n",
    "        time=np.arange(1750, 2024),\n",
    "        ensemble=np.arange(SAMPLES)\n",
    "    ),\n",
    ").to_netcdf('../output/ERF_sum_ensemble.nc')"
   ]
  },
  {
   "cell_type": "code",
   "execution_count": null,
   "id": "112",
   "metadata": {},
   "outputs": [],
   "source": [
    "forcing_ensemble['CO2']"
   ]
  },
  {
   "cell_type": "code",
   "execution_count": null,
   "id": "113",
   "metadata": {},
   "outputs": [],
   "source": [
    "for agent in forcing_ensemble:\n",
    "    forcing_ensemble[agent] = xr.DataArray(\n",
    "        forcing_ensemble[agent], \n",
    "        coords=dict(\n",
    "            time=np.arange(1750, 2024),\n",
    "            ensemble=np.arange(SAMPLES)\n",
    "        )\n",
    "    )"
   ]
  },
  {
   "cell_type": "code",
   "execution_count": null,
   "id": "114",
   "metadata": {},
   "outputs": [],
   "source": [
    "xr.Dataset(forcing_ensemble).to_netcdf('../output/ERF_ensemble.nc')"
   ]
  },
  {
   "cell_type": "code",
   "execution_count": null,
   "id": "115",
   "metadata": {},
   "outputs": [],
   "source": []
  }
 ],
 "metadata": {
  "kernelspec": {
   "display_name": "Python 3 (ipykernel)",
   "language": "python",
   "name": "python3"
  },
  "language_info": {
   "codemirror_mode": {
    "name": "ipython",
    "version": 3
   },
   "file_extension": ".py",
   "mimetype": "text/x-python",
   "name": "python",
   "nbconvert_exporter": "python",
   "pygments_lexer": "ipython3",
   "version": "3.12.2"
  }
 },
 "nbformat": 4,
 "nbformat_minor": 5
}
