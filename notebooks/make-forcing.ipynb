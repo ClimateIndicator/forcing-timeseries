{
 "cells": [
  {
   "cell_type": "markdown",
   "id": "6278c51f",
   "metadata": {},
   "source": [
    "# Update IPCC AR6 ERF timeseries\n",
    "\n",
    "- with updated data to 2022\n",
    "- using AR6 assessments for components not directly observed"
   ]
  },
  {
   "cell_type": "code",
   "execution_count": null,
   "id": "ac99bcac",
   "metadata": {},
   "outputs": [],
   "source": [
    "import json\n",
    "\n",
    "import matplotlib.pyplot as pl\n",
    "import numpy as np\n",
    "import pandas as pd\n",
    "from scipy.interpolate import interp1d\n",
    "import scipy.stats\n",
    "from tqdm.auto import tqdm\n",
    "from fair.forcing.ghg import meinshausen2020"
   ]
  },
  {
   "cell_type": "code",
   "execution_count": null,
   "id": "e922ce6a",
   "metadata": {},
   "outputs": [],
   "source": [
    "# probablistic ensemble\n",
    "SAMPLES = 200000\n",
    "forcing = {}"
   ]
  },
  {
   "cell_type": "code",
   "execution_count": null,
   "id": "c0278784",
   "metadata": {},
   "outputs": [],
   "source": [
    "NINETY_TO_ONESIGMA = scipy.stats.norm.ppf(0.95)\n",
    "NINETY_TO_ONESIGMA"
   ]
  },
  {
   "cell_type": "code",
   "execution_count": null,
   "id": "8667fb9d",
   "metadata": {},
   "outputs": [],
   "source": [
    "with open('../data/random_seeds.json', 'r') as filehandle:\n",
    "    SEEDS = json.load(filehandle)"
   ]
  },
  {
   "cell_type": "code",
   "execution_count": null,
   "id": "5ac5f506",
   "metadata": {},
   "outputs": [],
   "source": [
    "emissions = pd.read_csv('../output/slcf_emissions_1750-2022.csv', index_col=0)\n",
    "emissions"
   ]
  },
  {
   "cell_type": "code",
   "execution_count": null,
   "id": "174538f8",
   "metadata": {},
   "outputs": [],
   "source": [
    "concentrations = pd.read_csv('../output/ghg_concentrations_1750-2022.csv', index_col=0)\n",
    "for year in range(1751, 1850):\n",
    "    concentrations.loc[year, :] = np.nan\n",
    "concentrations.sort_index(inplace=True)\n",
    "concentrations.interpolate(inplace=True)"
   ]
  },
  {
   "cell_type": "code",
   "execution_count": null,
   "id": "ee17edfe",
   "metadata": {},
   "outputs": [],
   "source": [
    "concentrations"
   ]
  },
  {
   "cell_type": "code",
   "execution_count": null,
   "id": "49ef0a81",
   "metadata": {},
   "outputs": [],
   "source": [
    "# uncertainties from IPCC\n",
    "uncertainty_seed = 38572\n",
    "\n",
    "unc_ranges = np.array([\n",
    "    0.12,      # CO2\n",
    "    0.20,      # CH4: updated value from etminan 2016\n",
    "    0.14,      # N2O\n",
    "    0.19,      # other WMGHGs\n",
    "    0.50,      # Total ozone\n",
    "    1.00,      # stratospheric WV from CH4\n",
    "    0.70,      # contrails approx - half-normal\n",
    "    1.25,      # bc on snow - half-normal\n",
    "    0.50,      # land use change\n",
    "    5.0/20.0,  # volcanic\n",
    "    0.50,      # solar (amplitude)\n",
    "])/NINETY_TO_ONESIGMA\n",
    "\n",
    "scale = scipy.stats.norm.rvs(\n",
    "    size=(SAMPLES,11), \n",
    "    loc=np.ones((SAMPLES,11)), \n",
    "    scale=np.ones((SAMPLES, 11)) * unc_ranges[None,:], \n",
    "    random_state=uncertainty_seed\n",
    ")\n",
    "\n",
    "## BC snow is asymmetric Gaussian. We scale the half of the distribution above/below best estimate\n",
    "scale[scale[:,7]<1,7] = 0.08/0.1*(scale[scale[:,7]<1,7]-1) + 1\n",
    "\n",
    "## Contrails also asymmetric but benefits of scaling are tiny\n",
    "scale[scale[:,6]<1,6] = 0.0384/0.0406*(scale[scale[:,6]<1,6]-1) + 1\n",
    "\n",
    "trend_solar = scipy.stats.norm.rvs(\n",
    "    size=SAMPLES, \n",
    "    loc=+0.01, \n",
    "    scale=0.07/NINETY_TO_ONESIGMA, \n",
    "    random_state=uncertainty_seed\n",
    ")\n",
    "\n",
    "scale_df = pd.DataFrame(\n",
    "    data = scale,\n",
    "    columns = ['co2','ch4','n2o','other_wmghg','o3','h2o_stratospheric','contrails','bc_on_snow','land_use','volcanic','solar']\n",
    ")"
   ]
  },
  {
   "cell_type": "code",
   "execution_count": null,
   "id": "3ee21b5b",
   "metadata": {},
   "outputs": [],
   "source": [
    "scale_df"
   ]
  },
  {
   "cell_type": "code",
   "execution_count": null,
   "id": "57a1c118",
   "metadata": {},
   "outputs": [],
   "source": [
    "## put solar and volcanic here"
   ]
  },
  {
   "cell_type": "markdown",
   "id": "5a0e3ccf",
   "metadata": {},
   "source": [
    "## Aerosol forcing\n",
    "\n",
    "In AR6, ERFari was based on emissions to forcing coefficients from Myhre et al (2013) https://acp.copernicus.org/articles/13/1853/2013/. At the time, I deemed there not sufficient evidence from CMIP6 AerChemMIP models or any other sources to update these. The uncertainty ranges from each precursor were expanded slightly compared to Myhre et al., in order to reproduce the overall ERFari uncertainty assessment (assumed that uncertainties in individual components are uncorrelated).\n",
    "\n",
    "Following AR6 and a re-calibration of FaIR, I now use Bill Collins/Terje Bertnsen/Sara Blichner/Sophie Szopa's chapter 6 correspondences of emissions or concentrations to forcing.\n",
    "\n",
    "ERFaci is based on fits to CMIP6 models from Smith et al. (2021) now updated to include 13 models and correct APRP code from Mark Zelinka.\n",
    "\n",
    "Rescale both to the assessed forcings of -0.3 W/m2 for ERFari 2005-14 and -1.0 for ERFaci 2005-14."
   ]
  },
  {
   "cell_type": "code",
   "execution_count": null,
   "id": "1007effe",
   "metadata": {},
   "outputs": [],
   "source": [
    "# these come from AR6 WG1\n",
    "# source: https://github.com/sarambl/AR6_CH6_RCMIPFIGS/blob/master/ar6_ch6_rcmipfigs/data_out/fig6_12_ts15_historic_delta_GSAT/2019_ERF_est.csv\n",
    "# they sum to -0.22 W/m2, for 2019\n",
    "# Calculate a radiative efficiency for each species from CEDS and updated concentrations.\n",
    "df_ari_emitted_mean = pd.read_csv('../data/ar6/table_mean_thornhill_collins_orignames.csv', index_col=0)\n",
    "erfari_emitted = pd.Series(df_ari_emitted_mean['Aerosol'])\n",
    "erfari_emitted.rename_axis(None, inplace=True)\n",
    "erfari_emitted.rename({'HC': 'EESC', 'VOC': 'NMVOC'}, inplace=True)\n",
    "erfari_emitted"
   ]
  },
  {
   "cell_type": "code",
   "execution_count": null,
   "id": "8c3f7d24",
   "metadata": {},
   "outputs": [],
   "source": [
    "df_ari_emitted_std = pd.read_csv('../data/ar6/table_std_thornhill_collins_orignames.csv', index_col=0)\n",
    "erfari_emitted_std = pd.Series(df_ari_emitted_std['Aerosol_sd'])\n",
    "erfari_emitted_std.rename_axis(None, inplace=True)\n",
    "erfari_emitted_std.rename({'HC': 'EESC', 'VOC': 'NMVOC'}, inplace=True)\n",
    "erfari_emitted_std"
   ]
  },
  {
   "cell_type": "code",
   "execution_count": null,
   "id": "da5cd377",
   "metadata": {},
   "outputs": [],
   "source": [
    "def calculate_eesc(\n",
    "    concentration,\n",
    "    fractional_release,\n",
    "    fractional_release_cfc11,\n",
    "    cl_atoms,\n",
    "    br_atoms,\n",
    "    br_cl_ratio=45,\n",
    "):\n",
    "\n",
    "    # EESC is in terms of CFC11-eq\n",
    "    eesc_out = (\n",
    "        cl_atoms * (concentration) * fractional_release / fractional_release_cfc11\n",
    "        + br_cl_ratio\n",
    "        * br_atoms\n",
    "        * (concentration)\n",
    "        * fractional_release\n",
    "        / fractional_release_cfc11\n",
    "    ) * fractional_release_cfc11\n",
    "    return eesc_out\n",
    "\n",
    "\n",
    "fractional_release = {\n",
    "    \"CFC-11\": 0.47,\n",
    "    \"CFC-12\": 0.23,\n",
    "    \"CFC-113\": 0.29,\n",
    "    \"CFC-114\": 0.12,\n",
    "    \"CFC-115\": 0.04,\n",
    "    \"HCFC-22\": 0.13,\n",
    "    \"HCFC-141b\": 0.34,\n",
    "    \"HCFC-142b\": 0.17,\n",
    "    \"CCl4\": 0.56,\n",
    "    \"CHCl3\": 0,\n",
    "    \"CH2Cl2\": 0,\n",
    "    \"CH3Cl\": 0.44,\n",
    "    \"CH3CCl3\": 0.67,\n",
    "    \"CH3Br\": 0.6,\n",
    "    \"Halon-1211\": 0.62,\n",
    "    \"Halon-1301\": 0.28,\n",
    "    \"Halon-2402\": 0.65,\n",
    "}\n",
    "\n",
    "cl_atoms = {\n",
    "    \"CFC-11\": 3,\n",
    "    \"CFC-12\": 2,\n",
    "    \"CFC-113\": 3,\n",
    "    \"CFC-114\": 2,\n",
    "    \"CFC-115\": 1,\n",
    "    \"HCFC-22\": 1,\n",
    "    \"HCFC-141b\": 2,\n",
    "    \"HCFC-142b\": 1,\n",
    "    \"CCl4\": 4,\n",
    "    \"CHCl3\": 3,\n",
    "    \"CH2Cl2\": 2,\n",
    "    \"CH3Cl\": 1,\n",
    "    \"CH3CCl3\": 3,\n",
    "    \"CH3Br\": 0,\n",
    "    \"Halon-1211\": 1,\n",
    "    \"Halon-1301\": 0,\n",
    "    \"Halon-2402\": 0,\n",
    "}\n",
    "\n",
    "br_atoms = {\n",
    "    \"CFC-11\": 0,\n",
    "    \"CFC-12\": 0,\n",
    "    \"CFC-113\": 0,\n",
    "    \"CFC-114\": 0,\n",
    "    \"CFC-115\": 0,\n",
    "    \"HCFC-22\": 0,\n",
    "    \"HCFC-141b\": 0,\n",
    "    \"HCFC-142b\": 0,\n",
    "    \"CCl4\": 0,\n",
    "    \"CHCl3\": 0,\n",
    "    \"CH2Cl2\": 0,\n",
    "    \"CH3Cl\": 0,\n",
    "    \"CH3CCl3\": 0,\n",
    "    \"CH3Br\": 1,\n",
    "    \"Halon-1211\": 1,\n",
    "    \"Halon-1301\": 1,\n",
    "    \"Halon-2402\": 2,\n",
    "}\n",
    "\n",
    "hc_eesc = {}\n",
    "total_eesc = np.zeros(273)\n",
    "for species in cl_atoms:\n",
    "    hc_eesc[species] = calculate_eesc(\n",
    "        concentrations.loc[:, species],\n",
    "        fractional_release[species],\n",
    "        fractional_release[\"CFC-11\"],\n",
    "        cl_atoms[species],\n",
    "        br_atoms[species],\n",
    "    )\n",
    "    total_eesc = total_eesc + hc_eesc[species]\n",
    "\n",
    "total_eesc"
   ]
  },
  {
   "cell_type": "code",
   "execution_count": null,
   "id": "902de5fa",
   "metadata": {},
   "outputs": [],
   "source": [
    "#total_eesc = total_eesc.to_frame('EESC')"
   ]
  },
  {
   "cell_type": "code",
   "execution_count": null,
   "id": "5feb6265",
   "metadata": {},
   "outputs": [],
   "source": [
    "# erfari radiative efficiency per Mt or ppb or ppt\n",
    "re = erfari_emitted / (emissions.loc[2019, :] - emissions.loc[1750, :])\n",
    "re.dropna(inplace=True)"
   ]
  },
  {
   "cell_type": "code",
   "execution_count": null,
   "id": "c5b693cc",
   "metadata": {},
   "outputs": [],
   "source": [
    "re['CH4'] = erfari_emitted['CH4'] / (concentrations.loc[2019, 'CH4'] - concentrations.loc[1750, 'CH4'])\n",
    "re['N2O'] = erfari_emitted['N2O'] / (concentrations.loc[2019, 'N2O'] - concentrations.loc[1750, 'N2O'])\n",
    "re['EESC'] = erfari_emitted['EESC'] / (total_eesc.loc[2019] - total_eesc.loc[1750])"
   ]
  },
  {
   "cell_type": "code",
   "execution_count": null,
   "id": "7fc5ab0d",
   "metadata": {},
   "outputs": [],
   "source": [
    "re"
   ]
  },
  {
   "cell_type": "code",
   "execution_count": null,
   "id": "a5410f76",
   "metadata": {},
   "outputs": [],
   "source": [
    "re_std = erfari_emitted_std / (emissions.loc[2019, :] - emissions.loc[1750, :])\n",
    "re_std.dropna(inplace=True)\n",
    "re_std['CH4'] = erfari_emitted_std['CH4'] / (concentrations.loc[2019, 'CH4'] - concentrations.loc[1750, 'CH4'])\n",
    "re_std['N2O'] = erfari_emitted_std['N2O'] / (concentrations.loc[2019, 'N2O'] - concentrations.loc[1750, 'N2O'])\n",
    "re_std['EESC'] = erfari_emitted_std['EESC'] / (total_eesc.loc[2019] - total_eesc.loc[1750])\n",
    "re_std"
   ]
  },
  {
   "cell_type": "code",
   "execution_count": null,
   "id": "d6ff988f",
   "metadata": {},
   "outputs": [],
   "source": [
    "re.index"
   ]
  },
  {
   "cell_type": "code",
   "execution_count": null,
   "id": "efa6a718",
   "metadata": {},
   "outputs": [],
   "source": [
    "erfari_best = pd.concat(\n",
    "    (\n",
    "        (re * emissions)[['BC', 'OC', 'SO2', 'NOx', 'NMVOC', 'NH3']] - (re * emissions.loc[1750, ['BC', 'OC', 'SO2', 'NOx', 'NMVOC', 'NH3']]),\n",
    "        (re * concentrations)[['CH4', 'N2O']] - (re * concentrations.loc[1750, ['CH4', 'N2O']]),\n",
    "        re['EESC'] * (total_eesc - total_eesc.loc[1750])\n",
    "    ), axis=1\n",
    ").dropna(axis=1).sum(axis=1)"
   ]
  },
  {
   "cell_type": "code",
   "execution_count": null,
   "id": "7eece27a",
   "metadata": {},
   "outputs": [],
   "source": [
    "# 90% range of ERF uncertainty in 2019 from model estimates\n",
    "np.sqrt((erfari_emitted_std**2).sum()) * NINETY_TO_ONESIGMA"
   ]
  },
  {
   "cell_type": "code",
   "execution_count": null,
   "id": "f3288f06",
   "metadata": {},
   "outputs": [],
   "source": [
    "# 90% range of ERF uncertainty in 2005-2014 from model estimates\n",
    "(erfari_best.loc[2005:2014].mean()/-0.22) * np.sqrt((erfari_emitted_std**2).sum()) * NINETY_TO_ONESIGMA"
   ]
  },
  {
   "cell_type": "code",
   "execution_count": null,
   "id": "d19820fc",
   "metadata": {},
   "outputs": [],
   "source": [
    "# best estimate ERF in 2005-2014 from model estimates\n",
    "erfari_best.loc[2005:2014].mean()"
   ]
  },
  {
   "cell_type": "code",
   "execution_count": null,
   "id": "b8a0e74f",
   "metadata": {},
   "outputs": [],
   "source": [
    "# we need to map the -0.27 +/- 0.57 to -0.3 +/- 0.3 which is the IPCC AR6 assessment\n",
    "best_scale = -0.3 / erfari_best.loc[2005:2014].mean()\n",
    "unc_scale = 0.3 / ((erfari_best.loc[2005:2014].mean()/-0.22) * np.sqrt((erfari_emitted_std**2).sum()) * NINETY_TO_ONESIGMA)"
   ]
  },
  {
   "cell_type": "code",
   "execution_count": null,
   "id": "24231f44",
   "metadata": {},
   "outputs": [],
   "source": [
    "best_scale, unc_scale"
   ]
  },
  {
   "cell_type": "code",
   "execution_count": null,
   "id": "985562bd",
   "metadata": {},
   "outputs": [],
   "source": [
    "erfari_best * best_scale"
   ]
  },
  {
   "cell_type": "code",
   "execution_count": null,
   "id": "a09f9fae",
   "metadata": {},
   "outputs": [],
   "source": [
    "# convert to numpy for efficiency\n",
    "erfari_re_samples = pd.DataFrame(\n",
    "    scipy.stats.norm.rvs(\n",
    "        re*best_scale, re_std*unc_scale, size=(SAMPLES, 9), random_state=3729329,\n",
    "    ),\n",
    "    columns = re.index\n",
    ")[['BC', 'OC', 'SO2', 'NOx', 'NMVOC', 'NH3', 'CH4', 'N2O', 'EESC']]"
   ]
  },
  {
   "cell_type": "code",
   "execution_count": null,
   "id": "082812f3",
   "metadata": {},
   "outputs": [],
   "source": [
    "erfari_re_samples"
   ]
  },
  {
   "cell_type": "code",
   "execution_count": null,
   "id": "1048c8b6",
   "metadata": {},
   "outputs": [],
   "source": [
    "erfari_re_samples = erfari_re_samples.to_numpy()"
   ]
  },
  {
   "cell_type": "code",
   "execution_count": null,
   "id": "0e9d578f",
   "metadata": {},
   "outputs": [],
   "source": [
    "emnump = emissions.drop(columns=['CO']).to_numpy()"
   ]
  },
  {
   "cell_type": "code",
   "execution_count": null,
   "id": "1a1ed265",
   "metadata": {},
   "outputs": [],
   "source": [
    "erfari = np.zeros((273, SAMPLES))\n",
    "for i in tqdm(range(SAMPLES)):\n",
    "    erfari[:, i] = (\n",
    "        (\n",
    "            ((erfari_re_samples[i, :6] * emnump) - (erfari_re_samples[i, :6] * emnump[0, :])).sum(axis=1) + \n",
    "            ((erfari_re_samples[i, 6] * concentrations['CH4'].values) - (erfari_re_samples[i, 6] * concentrations.loc[1750, 'CH4'])) +\n",
    "            ((erfari_re_samples[i, 7] * concentrations['N2O'].values) - (erfari_re_samples[i, 7] * concentrations.loc[1750, 'N2O'])) +\n",
    "            (erfari_re_samples[i, 8] * (total_eesc.values - total_eesc.loc[1750]))\n",
    "        )\n",
    "    )"
   ]
  },
  {
   "cell_type": "code",
   "execution_count": null,
   "id": "f82121d0",
   "metadata": {},
   "outputs": [],
   "source": [
    "pl.plot(erfari_best * best_scale)"
   ]
  },
  {
   "cell_type": "code",
   "execution_count": null,
   "id": "682cf00a",
   "metadata": {},
   "outputs": [],
   "source": [
    "np.percentile(erfari[255:265, :].mean(axis=0), (5, 50, 95))"
   ]
  },
  {
   "cell_type": "code",
   "execution_count": null,
   "id": "a23d5da2",
   "metadata": {},
   "outputs": [],
   "source": [
    "df_aci_cal = pd.read_csv('../data/fair-calibrate-1.2.0/aerosol_cloud.csv', index_col=0)"
   ]
  },
  {
   "cell_type": "code",
   "execution_count": null,
   "id": "f2c86cc7",
   "metadata": {},
   "outputs": [],
   "source": [
    "df_aci_cal"
   ]
  },
  {
   "cell_type": "code",
   "execution_count": null,
   "id": "5fae5826",
   "metadata": {},
   "outputs": [],
   "source": [
    "beta_samp = df_aci_cal[\"aci_scale\"]\n",
    "n0_samp = df_aci_cal[\"Sulfur\"]\n",
    "n1_samp = df_aci_cal[\"BC\"]\n",
    "n2_samp = df_aci_cal[\"OC\"]"
   ]
  },
  {
   "cell_type": "code",
   "execution_count": null,
   "id": "33d1384b",
   "metadata": {},
   "outputs": [],
   "source": [
    "np.log(n0_samp)"
   ]
  },
  {
   "cell_type": "code",
   "execution_count": null,
   "id": "41692c60",
   "metadata": {},
   "outputs": [],
   "source": [
    "np.log(n1_samp)"
   ]
  },
  {
   "cell_type": "code",
   "execution_count": null,
   "id": "8fb609d5",
   "metadata": {},
   "outputs": [],
   "source": [
    "np.log(n2_samp)"
   ]
  },
  {
   "cell_type": "code",
   "execution_count": null,
   "id": "0fb066c9",
   "metadata": {},
   "outputs": [],
   "source": [
    "kde = scipy.stats.gaussian_kde([np.log(n0_samp), np.log(n1_samp), np.log(n2_samp)], bw_method=0.1)\n",
    "aci_sample = kde.resample(size=SAMPLES * 1, seed=63648708)"
   ]
  },
  {
   "cell_type": "code",
   "execution_count": null,
   "id": "a6af7e75",
   "metadata": {},
   "outputs": [],
   "source": [
    "#aci_sample[0, aci_sample[0, :] > 0] = 0#np.nan\n",
    "#aci_sample[1, aci_sample[1, :] > 0] = 0#np.nan\n",
    "#aci_sample[2, aci_sample[2, :] > 0] = 0#np.nan\n",
    "# mask = np.any(np.isnan(aci_sample), axis=0)\n",
    "# aci_sample = aci_sample[:, ~mask]"
   ]
  },
  {
   "cell_type": "code",
   "execution_count": null,
   "id": "d03e5ea8",
   "metadata": {},
   "outputs": [],
   "source": [
    "erfaci_sample = scipy.stats.norm.rvs(\n",
    "    size=SAMPLES, loc=-1.0, scale=0.7/NINETY_TO_ONESIGMA, random_state=71271\n",
    ")"
   ]
  },
  {
   "cell_type": "code",
   "execution_count": null,
   "id": "3a5109a5",
   "metadata": {},
   "outputs": [],
   "source": [
    "so2 = emissions['SO2'].values\n",
    "bc = emissions['BC'].values\n",
    "oc = emissions['OC'].values"
   ]
  },
  {
   "cell_type": "code",
   "execution_count": null,
   "id": "e8cd0135",
   "metadata": {},
   "outputs": [],
   "source": [
    "beta = np.zeros(SAMPLES)"
   ]
  },
  {
   "cell_type": "code",
   "execution_count": null,
   "id": "b2bd9b6f",
   "metadata": {},
   "outputs": [],
   "source": [
    "def aci_log(x, beta, n0, n1, n2):\n",
    "    aci = beta * np.log(1 + x[0] * n0 + x[1] * n1 + x[2] * n2)\n",
    "    return aci"
   ]
  },
  {
   "cell_type": "code",
   "execution_count": null,
   "id": "662e8477",
   "metadata": {},
   "outputs": [],
   "source": [
    "erfaci = np.zeros((273, SAMPLES))\n",
    "for i in tqdm(range(SAMPLES), desc=\"aci samples\"):\n",
    "    ts2010 = np.mean(\n",
    "        aci_log(\n",
    "            [so2[255:265], bc[255:265], oc[255:265]],\n",
    "            1.1,\n",
    "            np.exp(aci_sample[0, i]),\n",
    "            np.exp(aci_sample[1, i]),\n",
    "            np.exp(aci_sample[2, i]),\n",
    "        )\n",
    "    )\n",
    "    ts1750 = aci_log(\n",
    "        [so2[0], bc[0], oc[0]],\n",
    "        1.1,\n",
    "        np.exp(aci_sample[0, i]),\n",
    "        np.exp(aci_sample[1, i]),\n",
    "        np.exp(aci_sample[2, i]),\n",
    "    )\n",
    "    erfaci[:, i] = (\n",
    "       (\n",
    "           aci_log(\n",
    "               [so2, bc, oc],\n",
    "               1.1,\n",
    "               np.exp(aci_sample[0, i]),\n",
    "               np.exp(aci_sample[1, i]),\n",
    "               np.exp(aci_sample[2, i]),\n",
    "           )\n",
    "           - ts1750\n",
    "       )\n",
    "       / (ts2010 - ts1750)\n",
    "       * (erfaci_sample[i])\n",
    "    )\n",
    "    beta[i] = erfaci_sample[i] / (ts2010 - ts1750)"
   ]
  },
  {
   "cell_type": "code",
   "execution_count": null,
   "id": "38bbfd38",
   "metadata": {},
   "outputs": [],
   "source": [
    "#pl.plot(erfaci);\n",
    "#pl.ylim(-6, 0.2)"
   ]
  },
  {
   "cell_type": "code",
   "execution_count": null,
   "id": "9be3f627",
   "metadata": {},
   "outputs": [],
   "source": [
    "(erfaci[255:265, :]).mean()"
   ]
  },
  {
   "cell_type": "code",
   "execution_count": null,
   "id": "855c5029",
   "metadata": {},
   "outputs": [],
   "source": [
    "np.median(erfaci[255:265, :].mean(axis=0))"
   ]
  },
  {
   "cell_type": "markdown",
   "id": "018e034e",
   "metadata": {},
   "source": [
    "## Contrail forcing\n",
    "\n",
    "Based on Lee et al 2018 forcing of 0.0574. I recreated their original methods (see appendix A and supplementary data in their paper) and updated for newer IEA and ICAO data on fuel consumption with some assumptions about historical efficiency. "
   ]
  },
  {
   "cell_type": "code",
   "execution_count": null,
   "id": "d5b5c31e",
   "metadata": {},
   "outputs": [],
   "source": [
    "df_contrails = pd.read_csv('../data/contrails/contrails.csv', index_col=0)\n",
    "df_contrails"
   ]
  },
  {
   "cell_type": "markdown",
   "id": "1fec0c04",
   "metadata": {},
   "source": [
    "## Land use forcing\n",
    "\n",
    "Use cumulative land use CO2 emissions, scale to -0.2 W/m2 for 1750 to 2019. Demonstrate this is fairly close to an observational estimate (Ghimire et al. 2015)"
   ]
  },
  {
   "cell_type": "code",
   "execution_count": null,
   "id": "59f509fb",
   "metadata": {},
   "outputs": [],
   "source": [
    "df_gcp = pd.read_csv('../data/gcp_emissions/gcp_2022.csv', index_col=0)"
   ]
  },
  {
   "cell_type": "code",
   "execution_count": null,
   "id": "5e9d89d9",
   "metadata": {},
   "outputs": [],
   "source": [
    "df_gcp['AFOLU']"
   ]
  },
  {
   "cell_type": "code",
   "execution_count": null,
   "id": "fa9229bd",
   "metadata": {},
   "outputs": [],
   "source": [
    "f = interp1d(df_ghimire['year'], df_ghimire['flux'], kind='linear', fill_value='extrapolate', bounds_error=False)\n",
    "lusf2019 = -0.20/(f(2019)-f(1750))\n",
    "pl.plot(np.arange(1750, 2023), lusf2019*(f(np.arange(1750,2023))-f(1750)))\n",
    "pl.plot(np.cumsum(df_gcp['AFOLU'])*-0.00087)"
   ]
  },
  {
   "cell_type": "code",
   "execution_count": null,
   "id": "74cd6e3e",
   "metadata": {},
   "outputs": [],
   "source": [
    "lusf2019 = -0.20/(np.cumsum(df_gcp['AFOLU']).loc[2019] - df_gcp.loc[1750, 'AFOLU'])\n",
    "lusf2019"
   ]
  },
  {
   "cell_type": "code",
   "execution_count": null,
   "id": "1381b87a",
   "metadata": {},
   "outputs": [],
   "source": [
    "(np.cumsum(df_gcp['AFOLU']) - df_gcp.loc[1750, 'AFOLU'])*lusf2019"
   ]
  },
  {
   "cell_type": "markdown",
   "id": "f82d5866",
   "metadata": {},
   "source": [
    "# BC on snow\n",
    "\n",
    "linear with emissions, 2019 ERF = 0.08"
   ]
  },
  {
   "cell_type": "code",
   "execution_count": null,
   "id": "ad44d695",
   "metadata": {},
   "outputs": [],
   "source": [
    "emissions.loc[2019,'BC']\n",
    "(0.08*(emissions['BC']-emissions.loc[1750,'BC'])/(emissions.loc[2019,'BC']-emissions.loc[1750,'BC']))\n",
    "pl.plot((0.08*(emissions['BC']-emissions.loc[1750,'BC'])/(emissions.loc[2019,'BC']-emissions.loc[1750,'BC'])))"
   ]
  },
  {
   "cell_type": "markdown",
   "id": "f52c81c0",
   "metadata": {},
   "source": [
    "## Greenhouse gas concentrations\n",
    "\n",
    "Here, tropospheric and surface adjustments are only implemented for CO2, CH4, N2O, CFC11 and CFC12 to convert SARF to ERF. There's an argument to uplift ERF by 5% for other GHGs based on land surface warming, but the total forcing will be very small and no single-forcing studies exist. This was not done in AR6 chapter 7.\n",
    "\n",
    "Radiative efficiencies for F-gases are from Hodnebrog et al. 2020 https://agupubs.onlinelibrary.wiley.com/doi/full/10.1029/2019RG000691."
   ]
  },
  {
   "cell_type": "code",
   "execution_count": null,
   "id": "af8a4c2f",
   "metadata": {},
   "outputs": [],
   "source": [
    "concentrations"
   ]
  },
  {
   "cell_type": "code",
   "execution_count": null,
   "id": "16ec1e8c",
   "metadata": {},
   "outputs": [],
   "source": [
    "meinshausen2020"
   ]
  },
  {
   "cell_type": "code",
   "execution_count": null,
   "id": "22ea85f0",
   "metadata": {},
   "outputs": [],
   "source": [
    "concentrations.loc[2022].values.shape"
   ]
  },
  {
   "cell_type": "code",
   "execution_count": null,
   "id": "e1a71270",
   "metadata": {},
   "outputs": [],
   "source": [
    "# radiative efficiencies\n",
    "# source: Hodnebrog et al 2020 https://agupubs.onlinelibrary.wiley.com/doi/full/10.1029/2019RG000691\n",
    "radeff = {\n",
    "    'HFC-125':      0.23378,\n",
    "    'HFC-134a':     0.16714,\n",
    "    'HFC-143a':     0.168,\n",
    "    'HFC-152a':     0.10174,\n",
    "    'HFC-227ea':    0.27325,\n",
    "    'HFC-23':       0.19111,\n",
    "    'HFC-236fa':    0.25069,\n",
    "    'HFC-245fa':    0.24498,\n",
    "    'HFC-32':       0.11144,\n",
    "    'HFC-365mfc':   0.22813,\n",
    "    'HFC-43-10mee': 0.35731,\n",
    "    'NF3':          0.20448,\n",
    "    'C2F6':         0.26105,\n",
    "    'C3F8':         0.26999,\n",
    "    'n-C4F10':      0.36874,\n",
    "    'n-C5F12':      0.4076,\n",
    "    'n-C6F14':      0.44888,\n",
    "    'i-C6F14':      0.44888,\n",
    "    'C7F16':        0.50312,\n",
    "    'C8F18':        0.55787,\n",
    "    'CF4':          0.09859,\n",
    "    'c-C4F8':       0.31392,\n",
    "    'SF6':          0.56657,\n",
    "    'SO2F2':        0.21074,\n",
    "    'CCl4':         0.16616,\n",
    "    'CFC-11':       0.25941,\n",
    "    'CFC-112':      0.28192,\n",
    "    'CFC-112a':     0.24564,\n",
    "    'CFC-113':      0.30142,\n",
    "    'CFC-113a':     0.24094, \n",
    "    'CFC-114':      0.31433,\n",
    "    'CFC-114a':     0.29747,\n",
    "    'CFC-115':      0.24625,\n",
    "    'CFC-12':       0.31998,\n",
    "    'CFC-13':       0.27752,\n",
    "    'CH2Cl2':       0.02882,\n",
    "    'CH3Br':        0.00432,\n",
    "    'CH3CCl3':      0.06454,\n",
    "    'CH3Cl':        0.00466,\n",
    "    'CHCl3':        0.07357,\n",
    "    'HCFC-124':     0.20721,\n",
    "    'HCFC-133a':    0.14995,\n",
    "    'HCFC-141b':    0.16065,\n",
    "    'HCFC-142b':    0.19329,\n",
    "    'HCFC-22':      0.21385,\n",
    "    'HCFC-31':      0.068,\n",
    "    'Halon-1202':   0,       # not in dataset\n",
    "    'Halon-1211':   0.30014,\n",
    "    'Halon-1301':   0.29943,\n",
    "    'Halon-2402':   0.31169,\n",
    "    'CO2':          0,       # different relationship\n",
    "    'CH4':          0,       # different relationship\n",
    "    'N2O':          0        # different relationship\n",
    "}\n",
    "\n",
    "radeff_array = np.ones(52) * np.nan\n",
    "for igas, gas in enumerate(concentrations.columns):\n",
    "    radeff_array[igas] = radeff[gas]"
   ]
  },
  {
   "cell_type": "code",
   "execution_count": null,
   "id": "16e10956",
   "metadata": {},
   "outputs": [],
   "source": [
    "np.where(concentrations.columns=='CFC-11')[0][0], np.where(concentrations.columns=='CFC-12')[0][0]"
   ]
  },
  {
   "cell_type": "code",
   "execution_count": null,
   "id": "59f0da90",
   "metadata": {},
   "outputs": [],
   "source": [
    "adjustments = np.ones(52)\n",
    "adjustments[0] = 1.05\n",
    "adjustments[1] = 0.86\n",
    "adjustments[2] = 1.07\n",
    "adjustments[21] = 1.12\n",
    "adjustments[22] = 1.13"
   ]
  },
  {
   "cell_type": "code",
   "execution_count": null,
   "id": "6b51e405",
   "metadata": {},
   "outputs": [],
   "source": [
    "meinshausen2020(\n",
    "    concentrations.loc[2019].values,\n",
    "    concentrations.loc[1750].values,\n",
    "    adjustments,\n",
    "    radeff_array,\n",
    "    [0],\n",
    "    [1],\n",
    "    [2],\n",
    "    list(range(3,52))\n",
    ")"
   ]
  },
  {
   "cell_type": "code",
   "execution_count": null,
   "id": "c7e14f58",
   "metadata": {},
   "outputs": [],
   "source": [
    "ghg_out = np.zeros((273, 52))\n",
    "for i, year in enumerate(range(1750, 2023)):\n",
    "    ghg_out[i, :] = meinshausen2020(\n",
    "        concentrations.loc[year].values,\n",
    "        concentrations.loc[1750].values,\n",
    "        adjustments,\n",
    "        radeff_array,\n",
    "        [0],\n",
    "        [1],\n",
    "        [2],\n",
    "        list(range(3,52))\n",
    "    )\n",
    "for igas, gas in enumerate(concentrations.columns):\n",
    "    forcing[gas] = ghg_out[:, igas]"
   ]
  },
  {
   "cell_type": "code",
   "execution_count": null,
   "id": "2a514df5",
   "metadata": {},
   "outputs": [],
   "source": [
    "pl.plot(ghg_out.sum(axis=1))\n",
    "pl.plot(forcing['CO2'])"
   ]
  },
  {
   "cell_type": "markdown",
   "id": "80601c51",
   "metadata": {},
   "source": [
    "## Ozone\n",
    "\n",
    "Reproduce the code from 070"
   ]
  },
  {
   "cell_type": "code",
   "execution_count": null,
   "id": "0b47e017",
   "metadata": {},
   "outputs": [],
   "source": []
  }
 ],
 "metadata": {
  "kernelspec": {
   "display_name": "Python 3 (ipykernel)",
   "language": "python",
   "name": "python3"
  },
  "language_info": {
   "codemirror_mode": {
    "name": "ipython",
    "version": 3
   },
   "file_extension": ".py",
   "mimetype": "text/x-python",
   "name": "python",
   "nbconvert_exporter": "python",
   "pygments_lexer": "ipython3",
   "version": "3.11.0"
  }
 },
 "nbformat": 4,
 "nbformat_minor": 5
}
