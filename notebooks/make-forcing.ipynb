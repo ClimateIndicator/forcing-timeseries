{
 "cells": [
  {
   "cell_type": "markdown",
   "id": "6278c51f",
   "metadata": {},
   "source": [
    "# Recreate IPCC AR6 ERF timeseries\n",
    "\n",
    "- with updated data\n",
    "- using AR6 assessments for components not directly observed"
   ]
  },
  {
   "cell_type": "code",
   "execution_count": null,
   "id": "ac99bcac",
   "metadata": {},
   "outputs": [],
   "source": [
    "import json\n",
    "\n",
    "import matplotlib.pyplot as pl\n",
    "import numpy as np\n",
    "import pandas as pd\n",
    "import scipy.stats"
   ]
  },
  {
   "cell_type": "code",
   "execution_count": null,
   "id": "e922ce6a",
   "metadata": {},
   "outputs": [],
   "source": [
    "# probablistic ensemble\n",
    "SAMPLES = 200\n",
    "forcing = {}"
   ]
  },
  {
   "cell_type": "code",
   "execution_count": null,
   "id": "c0278784",
   "metadata": {},
   "outputs": [],
   "source": [
    "NINETY_TO_ONESIGMA = scipy.stats.norm.ppf(0.95)\n",
    "NINETY_TO_ONESIGMA"
   ]
  },
  {
   "cell_type": "code",
   "execution_count": null,
   "id": "8667fb9d",
   "metadata": {},
   "outputs": [],
   "source": [
    "with open('../data/random_seeds.json', 'r') as filehandle:\n",
    "    SEEDS = json.load(filehandle)"
   ]
  },
  {
   "cell_type": "code",
   "execution_count": null,
   "id": "5ac5f506",
   "metadata": {},
   "outputs": [],
   "source": [
    "emissions = pd.read_csv('../output/slcf_emissions_1750-2022.csv', index_col=0)\n",
    "emissions"
   ]
  },
  {
   "cell_type": "code",
   "execution_count": null,
   "id": "174538f8",
   "metadata": {},
   "outputs": [],
   "source": [
    "concentrations = pd.read_csv('../output/ghg_concentrations_1750-2022.csv', index_col=0)\n",
    "for year in range(1751, 1850):\n",
    "    concentrations.loc[year, :] = np.nan\n",
    "concentrations.sort_index(inplace=True)\n",
    "concentrations.interpolate(inplace=True)"
   ]
  },
  {
   "cell_type": "code",
   "execution_count": null,
   "id": "ee17edfe",
   "metadata": {},
   "outputs": [],
   "source": [
    "concentrations"
   ]
  },
  {
   "cell_type": "code",
   "execution_count": null,
   "id": "49ef0a81",
   "metadata": {},
   "outputs": [],
   "source": [
    "# uncertainties from IPCC\n",
    "uncertainty_seed = 38572\n",
    "\n",
    "unc_ranges = np.array([\n",
    "    0.12,      # CO2\n",
    "    0.20,      # CH4: updated value from etminan 2016\n",
    "    0.14,      # N2O\n",
    "    0.19,      # other WMGHGs\n",
    "    0.50,      # Total ozone\n",
    "    1.00,      # stratospheric WV from CH4\n",
    "    0.70,      # contrails approx - half-normal\n",
    "    1.25,      # bc on snow - half-normal\n",
    "    0.50,      # land use change\n",
    "    5.0/20.0,  # volcanic\n",
    "    0.50,      # solar (amplitude)\n",
    "])/NINETY_TO_ONESIGMA\n",
    "\n",
    "scale = scipy.stats.norm.rvs(\n",
    "    size=(SAMPLES,11), \n",
    "    loc=np.ones((SAMPLES,11)), \n",
    "    scale=np.ones((SAMPLES, 11)) * unc_ranges[None,:], \n",
    "    random_state=uncertainty_seed\n",
    ")\n",
    "\n",
    "## BC snow is asymmetric Gaussian. We scale the half of the distribution above/below best estimate\n",
    "scale[scale[:,7]<1,7] = 0.08/0.1*(scale[scale[:,7]<1,7]-1) + 1\n",
    "\n",
    "## Contrails also asymmetric but benefits of scaling are tiny\n",
    "scale[scale[:,6]<1,6] = 0.0384/0.0406*(scale[scale[:,6]<1,6]-1) + 1\n",
    "\n",
    "trend_solar = scipy.stats.norm.rvs(\n",
    "    size=SAMPLES, \n",
    "    loc=+0.01, \n",
    "    scale=0.07/NINETY_TO_ONESIGMA, \n",
    "    random_state=uncertainty_seed\n",
    ")\n",
    "\n",
    "scale_df = pd.DataFrame(\n",
    "    data = scale,\n",
    "    columns = ['co2','ch4','n2o','other_wmghg','o3','h2o_stratospheric','contrails','bc_on_snow','land_use','volcanic','solar']\n",
    ")"
   ]
  },
  {
   "cell_type": "code",
   "execution_count": null,
   "id": "3ee21b5b",
   "metadata": {},
   "outputs": [],
   "source": [
    "scale_df"
   ]
  },
  {
   "cell_type": "code",
   "execution_count": null,
   "id": "57a1c118",
   "metadata": {},
   "outputs": [],
   "source": [
    "## put solar and volcanic here"
   ]
  },
  {
   "cell_type": "markdown",
   "id": "5a0e3ccf",
   "metadata": {},
   "source": [
    "## Aerosol forcing\n",
    "\n",
    "In AR6, ERFari was based on emissions to forcing coefficients from Myhre et al (2013) https://acp.copernicus.org/articles/13/1853/2013/. At the time, I deemed there not sufficient evidence from CMIP6 AerChemMIP models or any other sources to update these. The uncertainty ranges from each precursor were expanded slightly compared to Myhre et al., in order to reproduce the overall ERFari uncertainty assessment (assumed that uncertainties in individual components are uncorrelated).\n",
    "\n",
    "Following AR6 and a re-calibration of FaIR, \n",
    "\n",
    "\n",
    "\n",
    "\n",
    "ERFaci is based on fits to CMIP6 models from Smith et al. (2020) https://www.essoar.org/doi/abs/10.1002/essoar.10503977.2\n",
    "\n",
    "Rescale both to the assessed forcings of -0.3 W/m2 for ERFari 2005-14 and -1.0 for ERFaci 2005-14."
   ]
  },
  {
   "cell_type": "code",
   "execution_count": null,
   "id": "1dae9594",
   "metadata": {},
   "outputs": [],
   "source": [
    "# these come from AR6 WG1\n",
    "# they sum to -0.22 W/m2, for 2019\n",
    "# Calculate a radiative efficiency for each species from CEDS and updated concentrations.\n",
    "\n",
    "erfari_emitted = pd.Series(\n",
    "    {\n",
    "        \"SO2\": -0.234228,\n",
    "        \"BC\": 0.144702,\n",
    "        \"OC\": -0.072143,\n",
    "        \"NH3\": -0.033769,\n",
    "        \"NOx\": -0.009166,\n",
    "        \"NMVOC\": -0.002573,\n",
    "        \"CO\": 0,\n",
    "        \"CH4\": -0.002653,\n",
    "        \"N2O\": -0.00209,\n",
    "        \"EESC\": -0.00808,\n",
    "    }\n",
    ")"
   ]
  },
  {
   "cell_type": "code",
   "execution_count": null,
   "id": "da5cd377",
   "metadata": {},
   "outputs": [],
   "source": [
    "def calculate_eesc(\n",
    "    concentration,\n",
    "    fractional_release,\n",
    "    fractional_release_cfc11,\n",
    "    cl_atoms,\n",
    "    br_atoms,\n",
    "    br_cl_ratio=45,\n",
    "):\n",
    "\n",
    "    # EESC is in terms of CFC11-eq\n",
    "    eesc_out = (\n",
    "        cl_atoms * (concentration) * fractional_release / fractional_release_cfc11\n",
    "        + br_cl_ratio\n",
    "        * br_atoms\n",
    "        * (concentration)\n",
    "        * fractional_release\n",
    "        / fractional_release_cfc11\n",
    "    ) * fractional_release_cfc11\n",
    "    return eesc_out\n",
    "\n",
    "\n",
    "fractional_release = {\n",
    "    \"CFC-11\": 0.47,\n",
    "    \"CFC-12\": 0.23,\n",
    "    \"CFC-113\": 0.29,\n",
    "    \"CFC-114\": 0.12,\n",
    "    \"CFC-115\": 0.04,\n",
    "    \"HCFC-22\": 0.13,\n",
    "    \"HCFC-141b\": 0.34,\n",
    "    \"HCFC-142b\": 0.17,\n",
    "    \"CCl4\": 0.56,\n",
    "    \"CHCl3\": 0,\n",
    "    \"CH2Cl2\": 0,\n",
    "    \"CH3Cl\": 0.44,\n",
    "    \"CH3CCl3\": 0.67,\n",
    "    \"CH3Br\": 0.6,\n",
    "    \"Halon-1211\": 0.62,\n",
    "    \"Halon-1301\": 0.28,\n",
    "    \"Halon-2402\": 0.65,\n",
    "}\n",
    "\n",
    "cl_atoms = {\n",
    "    \"CFC-11\": 3,\n",
    "    \"CFC-12\": 2,\n",
    "    \"CFC-113\": 3,\n",
    "    \"CFC-114\": 2,\n",
    "    \"CFC-115\": 1,\n",
    "    \"HCFC-22\": 1,\n",
    "    \"HCFC-141b\": 2,\n",
    "    \"HCFC-142b\": 1,\n",
    "    \"CCl4\": 4,\n",
    "    \"CHCl3\": 3,\n",
    "    \"CH2Cl2\": 2,\n",
    "    \"CH3Cl\": 1,\n",
    "    \"CH3CCl3\": 3,\n",
    "    \"CH3Br\": 0,\n",
    "    \"Halon-1211\": 1,\n",
    "    \"Halon-1301\": 0,\n",
    "    \"Halon-2402\": 0,\n",
    "}\n",
    "\n",
    "br_atoms = {\n",
    "    \"CFC-11\": 0,\n",
    "    \"CFC-12\": 0,\n",
    "    \"CFC-113\": 0,\n",
    "    \"CFC-114\": 0,\n",
    "    \"CFC-115\": 0,\n",
    "    \"HCFC-22\": 0,\n",
    "    \"HCFC-141b\": 0,\n",
    "    \"HCFC-142b\": 0,\n",
    "    \"CCl4\": 0,\n",
    "    \"CHCl3\": 0,\n",
    "    \"CH2Cl2\": 0,\n",
    "    \"CH3Cl\": 0,\n",
    "    \"CH3CCl3\": 0,\n",
    "    \"CH3Br\": 1,\n",
    "    \"Halon-1211\": 1,\n",
    "    \"Halon-1301\": 1,\n",
    "    \"Halon-2402\": 2,\n",
    "}\n",
    "\n",
    "hc_eesc = {}\n",
    "total_eesc = np.zeros(273)\n",
    "for species in cl_atoms:\n",
    "    hc_eesc[species] = calculate_eesc(\n",
    "        concentrations.loc[:, species],\n",
    "        fractional_release[species],\n",
    "        fractional_release[\"CFC-11\"],\n",
    "        cl_atoms[species],\n",
    "        br_atoms[species],\n",
    "    )\n",
    "    total_eesc = total_eesc + hc_eesc[species]\n",
    "\n",
    "total_eesc"
   ]
  },
  {
   "cell_type": "code",
   "execution_count": null,
   "id": "902de5fa",
   "metadata": {},
   "outputs": [],
   "source": [
    "total_eesc = total_eesc.to_frame('EESC')"
   ]
  },
  {
   "cell_type": "code",
   "execution_count": null,
   "id": "5feb6265",
   "metadata": {},
   "outputs": [],
   "source": [
    "# erfari radiative efficiency per Mt or ppb or ppt\n",
    "re = erfari_emitted / (emissions.loc[2019, :] - emissions.loc[1750, :])\n",
    "re.dropna(inplace=True)"
   ]
  },
  {
   "cell_type": "code",
   "execution_count": null,
   "id": "c5b693cc",
   "metadata": {},
   "outputs": [],
   "source": [
    "re['CH4'] = erfari_emitted['CH4'] / (concentrations.loc[2019, 'CH4'] - concentrations.loc[1750, 'CH4'])\n",
    "re['N2O'] = erfari_emitted['N2O'] / (concentrations.loc[2019, 'N2O'] - concentrations.loc[1750, 'N2O'])\n",
    "re['EESC'] = erfari_emitted['EESC'] / (total_eesc.loc[2019] - total_eesc.loc[1750])"
   ]
  },
  {
   "cell_type": "code",
   "execution_count": null,
   "id": "7fc5ab0d",
   "metadata": {},
   "outputs": [],
   "source": [
    "re"
   ]
  },
  {
   "cell_type": "code",
   "execution_count": null,
   "id": "efa6a718",
   "metadata": {},
   "outputs": [],
   "source": [
    "erfari = pd.concat(\n",
    "    (\n",
    "        (re * emissions)[['BC', 'OC', 'SO2', 'NOx', 'CO', 'NMVOC', 'NH3']] - (re * emissions.loc[1750, ['BC', 'OC', 'SO2', 'NOx', 'CO', 'NMVOC', 'NH3']]),\n",
    "        (re * concentrations)[['CH4', 'N2O']] - (re * concentrations.loc[1750, ['CH4', 'N2O']]),\n",
    "        re['EESC'] * (total_eesc - total_eesc.loc[1750])\n",
    "    ), axis=1\n",
    ").dropna(axis=1)"
   ]
  },
  {
   "cell_type": "code",
   "execution_count": null,
   "id": "41380d47",
   "metadata": {},
   "outputs": [],
   "source": [
    "pl.plot(erfari.sum(axis=1))"
   ]
  },
  {
   "cell_type": "code",
   "execution_count": null,
   "id": "41908b50",
   "metadata": {},
   "outputs": [],
   "source": [
    "(erfari.sum(axis=1).loc[2005:2014]).mean()"
   ]
  },
  {
   "cell_type": "code",
   "execution_count": null,
   "id": "985562bd",
   "metadata": {},
   "outputs": [],
   "source": [
    "erfari.sum(axis=1)"
   ]
  }
 ],
 "metadata": {
  "kernelspec": {
   "display_name": "Python 3 (ipykernel)",
   "language": "python",
   "name": "python3"
  },
  "language_info": {
   "codemirror_mode": {
    "name": "ipython",
    "version": 3
   },
   "file_extension": ".py",
   "mimetype": "text/x-python",
   "name": "python",
   "nbconvert_exporter": "python",
   "pygments_lexer": "ipython3",
   "version": "3.11.0"
  }
 },
 "nbformat": 4,
 "nbformat_minor": 5
}
