{
 "cells": [
  {
   "cell_type": "code",
   "execution_count": null,
   "id": "0",
   "metadata": {},
   "outputs": [],
   "source": [
    "import pandas as pd\n",
    "import matplotlib.pyplot as plt\n",
    "import numpy as np"
   ]
  },
  {
   "cell_type": "code",
   "execution_count": null,
   "id": "1",
   "metadata": {},
   "outputs": [],
   "source": [
    "# Read in the CSV file with the ERF data\n",
    "erf_df = pd.read_csv('../output/ERF_best_aggregates_1750-2023.csv')"
   ]
  },
  {
   "cell_type": "code",
   "execution_count": null,
   "id": "2",
   "metadata": {},
   "outputs": [],
   "source": [
    "erf_df = erf_df.rename(columns={'Unnamed: 0': 'Year'})"
   ]
  },
  {
   "cell_type": "code",
   "execution_count": null,
   "id": "3",
   "metadata": {},
   "outputs": [],
   "source": [
    "# Set the 'Year' column as the index\n",
    "erf_df.set_index('Year', inplace=True)"
   ]
  },
  {
   "cell_type": "code",
   "execution_count": null,
   "id": "4",
   "metadata": {},
   "outputs": [],
   "source": [
    "rolling_mean = erf_df.rolling(window=10).mean()"
   ]
  },
  {
   "cell_type": "code",
   "execution_count": null,
   "id": "5",
   "metadata": {},
   "outputs": [],
   "source": [
    "erf_trend = (rolling_mean - rolling_mean.shift(10))"
   ]
  },
  {
   "cell_type": "code",
   "execution_count": null,
   "id": "6",
   "metadata": {},
   "outputs": [],
   "source": [
    "y=erf_trend['anthro'].values\n",
    "x=erf_trend.index.values\n"
   ]
  },
  {
   "cell_type": "code",
   "execution_count": null,
   "id": "7",
   "metadata": {},
   "outputs": [],
   "source": [
    "# Read in the CSV file with the temperature data\n",
    "GWI_df = pd.read_csv('../data/gmst/Walsh_GMST_timeseries.csv', index_col=0)\n",
    "GWI_df"
   ]
  },
  {
   "cell_type": "code",
   "execution_count": null,
   "id": "8",
   "metadata": {},
   "outputs": [],
   "source": [
    "rolling_mean_GWI = GWI_df.rolling(window=10).mean()\n",
    "GWI_trend = (rolling_mean_GWI - rolling_mean_GWI.shift(10))\n",
    "y_GWI=GWI_trend['anthropogenic_p50'].values\n",
    "x_GWI=GWI_trend.index.values\n",
    "\n"
   ]
  },
  {
   "cell_type": "code",
   "execution_count": null,
   "id": "9",
   "metadata": {},
   "outputs": [],
   "source": [
    "# Create a figure and axis object\n",
    "fig, ax1 = plt.subplots()\n",
    "\n",
    "# Create a twin axis object\n",
    "ax2 = ax1.twinx()\n",
    "\n",
    "# Plot each series on its respective axis\n",
    "ax2.plot(x,y,marker='o', linestyle='None',label='effective radiative forcing trend')\n",
    "ax2.plot(x[-4:], y[-4:], marker='o', color='red',linestyle='None')\n",
    "\n",
    "ax1.plot(x_GWI,y_GWI,marker='+', linestyle='None',label='human-induced warming trend')\n",
    "ax1.plot(x_GWI[-4:], y_GWI[-4:], marker='+', color='red',linestyle='None')\n",
    "\n",
    "# Add axis labels and legend\n",
    "ax1.set_xlabel('End year of decade')\n",
    "ax2.set_ylabel('ERF trend (Wm$^{-2}$decade$^{-1}$)')\n",
    "ax1.set_ylabel('Temperature trend ( °C decade$^{-1}$)')\n",
    "\n",
    "ax1.legend(loc='best')\n",
    "ax2.legend(loc='center right')\n",
    "plt.title('Decadal trends')\n",
    "plt.xlim([1970,2024])\n",
    "\n",
    "# Show the plot\n",
    "plt.show()\n",
    "fig.savefig('../plots/decadal_trends.png')\n",
    "fig.savefig('../plots/decadal_trends.pdf')"
   ]
  },
  {
   "cell_type": "code",
   "execution_count": null,
   "id": "10",
   "metadata": {},
   "outputs": [],
   "source": []
  }
 ],
 "metadata": {
  "kernelspec": {
   "display_name": "Python 3 (ipykernel)",
   "language": "python",
   "name": "python3"
  },
  "language_info": {
   "codemirror_mode": {
    "name": "ipython",
    "version": 3
   },
   "file_extension": ".py",
   "mimetype": "text/x-python",
   "name": "python",
   "nbconvert_exporter": "python",
   "pygments_lexer": "ipython3",
   "version": "3.12.2"
  }
 },
 "nbformat": 4,
 "nbformat_minor": 5
}
