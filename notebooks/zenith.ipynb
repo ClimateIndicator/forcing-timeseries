{
 "cells": [
  {
   "cell_type": "code",
   "execution_count": null,
   "id": "0",
   "metadata": {},
   "outputs": [],
   "source": [
    "from numpy.polynomial.legendre import leggauss\n",
    "import numpy as np\n",
    "import cftime\n",
    "import datetime\n",
    "from climateforcing.solar.solar_position import cos_mean_solar_zenith_angle, modified_julian_date\n",
    "from tqdm.auto import tqdm\n",
    "import matplotlib.pyplot as pl"
   ]
  },
  {
   "cell_type": "code",
   "execution_count": null,
   "id": "1",
   "metadata": {},
   "outputs": [],
   "source": [
    "leggauss(10)"
   ]
  },
  {
   "cell_type": "code",
   "execution_count": null,
   "id": "2",
   "metadata": {},
   "outputs": [],
   "source": [
    "cftime.datetime(2014, 1, 1, 0, 30)"
   ]
  },
  {
   "cell_type": "code",
   "execution_count": null,
   "id": "3",
   "metadata": {},
   "outputs": [],
   "source": [
    "lat = np.arange(-88, 90, 4)\n",
    "lon = np.arange(-177.5, 180, 5)"
   ]
  },
  {
   "cell_type": "code",
   "execution_count": null,
   "id": "4",
   "metadata": {},
   "outputs": [],
   "source": [
    "cos_sza = np.ones((365*24, 45, 72)) * np.nan\n",
    "lit = np.ones((365*24, 45, 72)) * np.nan\n",
    "date = cftime.datetime(2014, 1, 1, 0, 30)\n",
    "for ihour in tqdm(range(365*24)):\n",
    "    cos_sza[ihour, ...], lit[ihour, ...] = (cos_mean_solar_zenith_angle(modified_julian_date(date), 1, lat, lon))\n",
    "    date = date + datetime.timedelta(hours=1)"
   ]
  },
  {
   "cell_type": "code",
   "execution_count": null,
   "id": "5",
   "metadata": {},
   "outputs": [],
   "source": [
    "pl.hist(cos_sza[:, 22, :].ravel()[cos_sza[:, 22, :].ravel()>0], bins=25)"
   ]
  }
 ],
 "metadata": {
  "kernelspec": {
   "display_name": "Python 3 (ipykernel)",
   "language": "python",
   "name": "python3"
  },
  "language_info": {
   "codemirror_mode": {
    "name": "ipython",
    "version": 3
   },
   "file_extension": ".py",
   "mimetype": "text/x-python",
   "name": "python",
   "nbconvert_exporter": "python",
   "pygments_lexer": "ipython3",
   "version": "3.12.2"
  }
 },
 "nbformat": 4,
 "nbformat_minor": 5
}
