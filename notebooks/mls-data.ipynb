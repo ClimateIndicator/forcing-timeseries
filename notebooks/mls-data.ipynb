{
 "cells": [
  {
   "cell_type": "markdown",
   "id": "0",
   "metadata": {},
   "source": [
    "# Prepare and understand MLS stratospheric water vapour\n",
    "\n",
    "We will use this as estimate for Hunga Tonga positive forcing.\n",
    "\n",
    "To obtain the data, go to https://search.earthdata.nasa.gov/search?q=MLS%20H2O&fi=MLS&fl=3%2B-%2BGridded%2BObservations. Select the MLS/Aura Level 3 Monthly Binned Water Vapor (H2O) Mixing Ratio on Assorted Grids V005 (ML3MBH2O). Download this data to ../data/mls."
   ]
  },
  {
   "cell_type": "code",
   "execution_count": null,
   "id": "1",
   "metadata": {},
   "outputs": [],
   "source": [
    "from netCDF4 import Dataset\n",
    "import matplotlib.pyplot as pl\n",
    "import numpy as np\n",
    "import glob\n",
    "from fair.earth_params import mass_atmosphere\n",
    "import xarray as xr"
   ]
  },
  {
   "cell_type": "code",
   "execution_count": null,
   "id": "2",
   "metadata": {},
   "outputs": [],
   "source": [
    "data = np.ones((20*12, 39)) * np.nan"
   ]
  },
  {
   "cell_type": "code",
   "execution_count": null,
   "id": "3",
   "metadata": {},
   "outputs": [],
   "source": [
    "for year in range(2004, 2024):\n",
    "    nc = Dataset(glob.glob(f'../data/mls/MLS-Aura_L3MB-H2O_*_{year}.nc')[0])\n",
    "    data[(year-2004)*12:(year-2004)*12+12, :] = nc.groups['H2O PressureZM'].variables['value'][:, 10:49, 15:30].mean(axis=2)\n",
    "    plev = nc.groups['H2O PressureZM'].variables['lev'][10:49]\n",
    "    nc.close()"
   ]
  },
  {
   "cell_type": "code",
   "execution_count": null,
   "id": "4",
   "metadata": {},
   "outputs": [],
   "source": [
    "data"
   ]
  },
  {
   "cell_type": "code",
   "execution_count": null,
   "id": "5",
   "metadata": {},
   "outputs": [],
   "source": [
    "X, Y = np.meshgrid(np.arange(2004+1/24, 2024, 1/12), plev)"
   ]
  },
  {
   "cell_type": "code",
   "execution_count": null,
   "id": "6",
   "metadata": {},
   "outputs": [],
   "source": [
    "data[data==0] = np.nan"
   ]
  },
  {
   "cell_type": "code",
   "execution_count": null,
   "id": "7",
   "metadata": {},
   "outputs": [],
   "source": [
    "pl.contourf(\n",
    "    np.arange(2004+1/24, 2024, 1/12),\n",
    "    plev[:],\n",
    "    data.T\n",
    ")\n",
    "ax = pl.gca()\n",
    "ax.set_ylim(ax.get_ylim()[::-1])\n",
    "pl.colorbar()"
   ]
  },
  {
   "cell_type": "code",
   "execution_count": null,
   "id": "8",
   "metadata": {},
   "outputs": [],
   "source": [
    "plev"
   ]
  },
  {
   "cell_type": "code",
   "execution_count": null,
   "id": "9",
   "metadata": {},
   "outputs": [],
   "source": [
    "plev_bounds = 0.5 * (plev[1:] + plev[:-1])\n",
    "plev_bounds = np.append(plev_bounds, [0])"
   ]
  },
  {
   "cell_type": "code",
   "execution_count": null,
   "id": "10",
   "metadata": {},
   "outputs": [],
   "source": [
    "plev_bounds"
   ]
  },
  {
   "cell_type": "code",
   "execution_count": null,
   "id": "11",
   "metadata": {},
   "outputs": [],
   "source": [
    "era5_plev = np.array([125, 100, 70, 50, 30, 20, 10, 7, 5, 3, 2, 1])\n",
    "era5_plev_bounds = 0.5 * (era5_plev[1:] + era5_plev[:-1])\n",
    "era5_plev_bounds = np.append(era5_plev_bounds, [0])\n",
    "era5_plev_bounds"
   ]
  },
  {
   "cell_type": "code",
   "execution_count": null,
   "id": "12",
   "metadata": {},
   "outputs": [],
   "source": [
    "# weighting fractions\n",
    "(112.5-plev_bounds[1]) / (plev_bounds[0] - plev_bounds[1])  # 10 into 100 hPa\n",
    "(85 - plev_bounds[3]) / (plev_bounds[2] - plev_bounds[3])  # 12 into 70 hPa (rest into 100 hPa)\n",
    "(60 - plev_bounds[5]) / (plev_bounds[4] - plev_bounds[5])  # 14 into 50 hPa (rest into 70 hPa)\n",
    "(40 - plev_bounds[7]) / (plev_bounds[6] - plev_bounds[7])  # 16 into 30 hPa (rest into 50 hPa)\n",
    "(25 - plev_bounds[9]) / (plev_bounds[8] - plev_bounds[9])  # 18 into 20 hPa (rest into 30 hPa)\n",
    "(15 - plev_bounds[12]) / (plev_bounds[11] - plev_bounds[12])  # 21 into 10 hPa (rest into 20 hPa)\n",
    "(8.5 - plev_bounds[15]) / (plev_bounds[14] - plev_bounds[15])  # 24 into 7 hPa (rest into 10 hPa)\n",
    "(6 - plev_bounds[17]) / (plev_bounds[16] - plev_bounds[17])  # 26 into 5 hPa (rest into 7 hPa)\n",
    "(4 - plev_bounds[19]) / (plev_bounds[18] - plev_bounds[19])  # 28 into 3 hPa (rest into 5 hPa)\n",
    "(2.5 - plev_bounds[21]) / (plev_bounds[20] - plev_bounds[21])  # 30 into 2 hPa (rest into 3 hPa)\n",
    "(1.5 - plev_bounds[24]) / (plev_bounds[23] - plev_bounds[24])  # 33 into 1 hPa (rest into 2 hPa)"
   ]
  },
  {
   "cell_type": "code",
   "execution_count": null,
   "id": "13",
   "metadata": {},
   "outputs": [],
   "source": [
    "weighting_fractions = np.zeros((38, 11))\n",
    "weighting_fractions[0, 0] = (112.5-plev_bounds[1]) / (plev_bounds[0] - plev_bounds[1])\n",
    "weighting_fractions[1, 0] = 1\n",
    "weighting_fractions[2, 0] = 1 - (85 - plev_bounds[3]) / (plev_bounds[2] - plev_bounds[3])\n",
    "weighting_fractions[2, 1] = (85 - plev_bounds[3]) / (plev_bounds[2] - plev_bounds[3])\n",
    "weighting_fractions[3, 1] = 1\n",
    "weighting_fractions[4, 1] = 1 - (60 - plev_bounds[5]) / (plev_bounds[4] - plev_bounds[5])\n",
    "weighting_fractions[4, 2] = (60 - plev_bounds[5]) / (plev_bounds[4] - plev_bounds[5])  # 14 into 50 hPa (rest into 70 hPa)\n",
    "weighting_fractions[5, 2] = 1\n",
    "weighting_fractions[6, 2] = 1 - (40 - plev_bounds[7]) / (plev_bounds[6] - plev_bounds[7]) \n",
    "weighting_fractions[6, 3] = (40 - plev_bounds[7]) / (plev_bounds[6] - plev_bounds[7])  # 16 into 30 hPa (rest into 50 hPa)\n",
    "weighting_fractions[7, 3] = 1\n",
    "weighting_fractions[8, 3] = 1 - (25 - plev_bounds[9]) / (plev_bounds[8] - plev_bounds[9])\n",
    "weighting_fractions[8, 4] = (25 - plev_bounds[9]) / (plev_bounds[8] - plev_bounds[9])  # 18 into 20 hPa (rest into 30 hPa)\n",
    "weighting_fractions[9, 4] = 1\n",
    "weighting_fractions[10, 4] = 1\n",
    "weighting_fractions[11, 4] = 1 - (15 - plev_bounds[12]) / (plev_bounds[11] - plev_bounds[12])\n",
    "weighting_fractions[11, 5] = (15 - plev_bounds[12]) / (plev_bounds[11] - plev_bounds[12])  # 21 into 10 hPa (rest into 20 hPa)\n",
    "weighting_fractions[12, 5] = 1\n",
    "weighting_fractions[13, 5] = 1\n",
    "weighting_fractions[14, 5] = 1 - (8.5 - plev_bounds[15]) / (plev_bounds[14] - plev_bounds[15])\n",
    "weighting_fractions[14, 6] = (8.5 - plev_bounds[15]) / (plev_bounds[14] - plev_bounds[15])  # 24 into 7 hPa (rest into 10 hPa)\n",
    "weighting_fractions[15, 6] = 1\n",
    "weighting_fractions[16, 6] = 1 - (6 - plev_bounds[17]) / (plev_bounds[16] - plev_bounds[17])\n",
    "weighting_fractions[16, 7] = (6 - plev_bounds[17]) / (plev_bounds[16] - plev_bounds[17])  # 26 into 5 hPa (rest into 7 hPa)\n",
    "weighting_fractions[17, 7] = 1\n",
    "weighting_fractions[18, 7] = 1 - (4 - plev_bounds[19]) / (plev_bounds[18] - plev_bounds[19])\n",
    "weighting_fractions[18, 8] = (4 - plev_bounds[19]) / (plev_bounds[18] - plev_bounds[19])  # 28 into 3 hPa (rest into 5 hPa)\n",
    "weighting_fractions[19, 8] = 1\n",
    "weighting_fractions[20, 8] = 1 - (2.5 - plev_bounds[21]) / (plev_bounds[20] - plev_bounds[21])\n",
    "weighting_fractions[20, 9] = (2.5 - plev_bounds[21]) / (plev_bounds[20] - plev_bounds[21])  # 30 into 2 hPa (rest into 3 hPa)\n",
    "weighting_fractions[21, 9] = 1\n",
    "weighting_fractions[22, 9] = 1\n",
    "weighting_fractions[23, 9] = 1 - (1.5 - plev_bounds[24]) / (plev_bounds[23] - plev_bounds[24])\n",
    "weighting_fractions[23, 10] = (1.5 - plev_bounds[24]) / (plev_bounds[23] - plev_bounds[24])  # 33 into 1 hPa (rest into 2 hPa)\n",
    "weighting_fractions[24:, 10] = 1\n",
    "\n",
    "\n",
    "import pandas as pd\n",
    "pd.DataFrame(weighting_fractions, index=np.arange(11, 49), columns = era5_plev[1:])"
   ]
  },
  {
   "cell_type": "markdown",
   "id": "14",
   "metadata": {},
   "source": [
    "## Need to conservatively regrid this to ERA5's plev / lon / lat\n",
    "\n",
    "- Start from VMR in MLS, convert to MMR (specific humidity)\n",
    "- Calculate actual mass of water vapour in each cell on MLS pressure levels\n",
    "- Use the lookup table of mapping MLS pressure levels to ERA5 pressure levels to calculate mass of water in each ERA5 cell\n",
    "- Convert back to specific humidity"
   ]
  },
  {
   "cell_type": "code",
   "execution_count": null,
   "id": "15",
   "metadata": {},
   "outputs": [],
   "source": [
    "data = np.ma.masked_all((20*12, 38, 72, 45)) * np.nan\n",
    "data"
   ]
  },
  {
   "cell_type": "code",
   "execution_count": null,
   "id": "16",
   "metadata": {},
   "outputs": [],
   "source": [
    "for year in range(2004, 2024):\n",
    "    nc = Dataset(glob.glob(f'../data/mls/MLS-Aura_L3MB-H2O_*_{year}.nc')[0])\n",
    "    data[(year-2004)*12:(year-2004)*12+12, ...] = nc.groups['H2O PressureGrid'].variables['value'][:, 11:49, ...]\n",
    "    plev = nc.groups['H2O PressureGrid'].variables['lev'][10:49]\n",
    "    lat = nc.groups['H2O PressureGrid'].variables['lat'][:]\n",
    "    lon = nc.groups['H2O PressureGrid'].variables['lon'][:]\n",
    "    lat_bnds = nc.groups['H2O PressureGrid'].variables['lat_bnds'][:]\n",
    "    lon_bnds = nc.groups['H2O PressureGrid'].variables['lon_bnds'][:]\n",
    "    nc.close()"
   ]
  },
  {
   "cell_type": "code",
   "execution_count": null,
   "id": "17",
   "metadata": {},
   "outputs": [],
   "source": [
    "era5_data = np.ma.masked_all((20*12, 11, 72, 45))\n",
    "era5_h2o_mass = np.ma.masked_all((20*12, 11, 72, 45))"
   ]
  },
  {
   "cell_type": "code",
   "execution_count": null,
   "id": "18",
   "metadata": {},
   "outputs": [],
   "source": [
    "mass_atmosphere # slice"
   ]
  },
  {
   "cell_type": "code",
   "execution_count": null,
   "id": "19",
   "metadata": {},
   "outputs": [],
   "source": [
    "p_top = 0\n",
    "p_bottom = 112.5\n",
    "mass_slice = (p_bottom-p_top)/1000 * mass_atmosphere"
   ]
  },
  {
   "cell_type": "code",
   "execution_count": null,
   "id": "20",
   "metadata": {},
   "outputs": [],
   "source": [
    "era5_plevthick = -np.diff(era5_plev_bounds)\n",
    "era5_plevthick"
   ]
  },
  {
   "cell_type": "code",
   "execution_count": null,
   "id": "21",
   "metadata": {},
   "outputs": [],
   "source": [
    "# era5_mass = era5_plevthick * mass_atmosphere # how much does the stratospheric slice weigh in kg"
   ]
  },
  {
   "cell_type": "code",
   "execution_count": null,
   "id": "22",
   "metadata": {},
   "outputs": [],
   "source": [
    "plev"
   ]
  },
  {
   "cell_type": "code",
   "execution_count": null,
   "id": "23",
   "metadata": {},
   "outputs": [],
   "source": [
    "plev_bounds = 0.5 * (plev[:-1] + plev[1:])\n",
    "plev_bounds = np.append(plev_bounds, [0])\n",
    "plev_bounds"
   ]
  },
  {
   "cell_type": "code",
   "execution_count": null,
   "id": "24",
   "metadata": {},
   "outputs": [],
   "source": [
    "plev_diff = -np.diff(plev)\n",
    "plev_thick = 0.5 * (plev_diff[1:] + plev_diff[:-1])\n",
    "plev_thick = np.append(plev_thick, 0.5 * (plev[-2] + plev[-1]))\n",
    "plev_thick"
   ]
  },
  {
   "cell_type": "code",
   "execution_count": null,
   "id": "25",
   "metadata": {},
   "outputs": [],
   "source": [
    "lon_lat_weight = np.diff(np.sin(np.radians(lat_bnds))).squeeze() / 2 / 72"
   ]
  },
  {
   "cell_type": "code",
   "execution_count": null,
   "id": "26",
   "metadata": {},
   "outputs": [],
   "source": [
    "# mass of water vapour at each cell\n",
    "mass_h2o = (plev_thick[None, :, None, None] / 1000 * mass_atmosphere * lon_lat_weight * data) * 18.015 / 28.97\n",
    "# the last ratio is VMR to MMR\n",
    "mass_h2o.shape"
   ]
  },
  {
   "cell_type": "code",
   "execution_count": null,
   "id": "27",
   "metadata": {},
   "outputs": [],
   "source": [
    "mass_h2o.sum(axis=(1,2,3))  # in kg\n",
    "mass_h2o.sum(axis=(1,2,3))/1e9  # in Tg"
   ]
  },
  {
   "cell_type": "code",
   "execution_count": null,
   "id": "28",
   "metadata": {},
   "outputs": [],
   "source": [
    "pl.plot(mass_h2o.sum(axis=(1,2,3))/1e9)"
   ]
  },
  {
   "cell_type": "code",
   "execution_count": null,
   "id": "29",
   "metadata": {},
   "outputs": [],
   "source": [
    "# climatology\n",
    "mass_h2o_20042021 = np.ma.masked_all((12))\n",
    "for month in range(12):\n",
    "    mass_h2o_20042021[month] = np.nanmean(mass_h2o[month:216:12].sum(axis=(1,2,3))/1e9)"
   ]
  },
  {
   "cell_type": "code",
   "execution_count": null,
   "id": "30",
   "metadata": {},
   "outputs": [],
   "source": [
    "mass_h2o_2022 = np.ma.masked_all(12)\n",
    "for month in range(12):\n",
    "    mass_h2o_2022[month] = mass_h2o[month+216].sum()/1e9"
   ]
  },
  {
   "cell_type": "code",
   "execution_count": null,
   "id": "31",
   "metadata": {},
   "outputs": [],
   "source": [
    "mass_h2o_2023 = np.ma.masked_all(12)\n",
    "for month in range(12):\n",
    "    mass_h2o_2023[month] = mass_h2o[month+228].sum()/1e9"
   ]
  },
  {
   "cell_type": "code",
   "execution_count": null,
   "id": "32",
   "metadata": {},
   "outputs": [],
   "source": [
    "mass_h2o_2022"
   ]
  },
  {
   "cell_type": "code",
   "execution_count": null,
   "id": "33",
   "metadata": {},
   "outputs": [],
   "source": [
    "mass_h2o_2023"
   ]
  },
  {
   "cell_type": "code",
   "execution_count": null,
   "id": "34",
   "metadata": {},
   "outputs": [],
   "source": [
    "(mass_h2o_2022 - mass_h2o_20042021)"
   ]
  },
  {
   "cell_type": "code",
   "execution_count": null,
   "id": "35",
   "metadata": {},
   "outputs": [],
   "source": [
    "(mass_h2o_2023 - mass_h2o_20042021)"
   ]
  },
  {
   "cell_type": "code",
   "execution_count": null,
   "id": "36",
   "metadata": {},
   "outputs": [],
   "source": [
    "weighting_fractions.shape"
   ]
  },
  {
   "cell_type": "code",
   "execution_count": null,
   "id": "37",
   "metadata": {},
   "outputs": [],
   "source": [
    "era5_plev"
   ]
  },
  {
   "cell_type": "code",
   "execution_count": null,
   "id": "38",
   "metadata": {},
   "outputs": [],
   "source": [
    "for ilev in range(11):\n",
    "    era5_h2o_mass[:, ilev, ...] = np.sum(mass_h2o * weighting_fractions[:, ilev][None, :, None, None], axis=1)"
   ]
  },
  {
   "cell_type": "code",
   "execution_count": null,
   "id": "39",
   "metadata": {},
   "outputs": [],
   "source": [
    "# Then I need to convert this back to a mass mixing ratio for socrates"
   ]
  },
  {
   "cell_type": "code",
   "execution_count": null,
   "id": "40",
   "metadata": {},
   "outputs": [],
   "source": [
    "pl.plot(era5_h2o_mass.sum(axis=(1,2,3))/1e9)"
   ]
  },
  {
   "cell_type": "code",
   "execution_count": null,
   "id": "41",
   "metadata": {},
   "outputs": [],
   "source": [
    "# climatology\n",
    "era5_h2o_mass_20042021 = np.ma.masked_all((12))\n",
    "for month in range(12):\n",
    "    era5_h2o_mass_20042021[month] = np.nanmean(era5_h2o_mass[month:216:12].sum(axis=(1,2,3))/1e9)\n",
    "\n",
    "era5_h2o_mass_2022 = np.ma.masked_all(12)\n",
    "for month in range(12):\n",
    "    era5_h2o_mass_2022[month] = era5_h2o_mass[month+216].sum()/1e9\n",
    "\n",
    "era5_h2o_mass_2023 = np.ma.masked_all(12)\n",
    "for month in range(12):\n",
    "    era5_h2o_mass_2023[month] = era5_h2o_mass[month+228].sum()/1e9"
   ]
  },
  {
   "cell_type": "code",
   "execution_count": null,
   "id": "42",
   "metadata": {},
   "outputs": [],
   "source": [
    "era5_h2o_mass_2022 - era5_h2o_mass_20042021"
   ]
  },
  {
   "cell_type": "code",
   "execution_count": null,
   "id": "43",
   "metadata": {},
   "outputs": [],
   "source": [
    "era5_h2o_mass_2023 - era5_h2o_mass_20042021"
   ]
  },
  {
   "cell_type": "code",
   "execution_count": null,
   "id": "44",
   "metadata": {},
   "outputs": [],
   "source": [
    "era5_h2o_mass"
   ]
  },
  {
   "cell_type": "code",
   "execution_count": null,
   "id": "45",
   "metadata": {},
   "outputs": [],
   "source": [
    "# convert back to MMR in each cell\n",
    "\n",
    "era5_data = 1000 * era5_h2o_mass / era5_plevthick[None, :, None, None] / (mass_atmosphere * lon_lat_weight)\n",
    "#mass_h2o = (plev_thick[None, :, None, None] / 1000 * mass_atmosphere * lon_lat_weight * data) * 18.015 / 28.97\n",
    "\n",
    "era5_data"
   ]
  },
  {
   "cell_type": "code",
   "execution_count": null,
   "id": "46",
   "metadata": {},
   "outputs": [],
   "source": [
    "X, Y = np.meshgrid(np.arange(2004+1/24, 2024, 1/12), era5_plev[1:])"
   ]
  },
  {
   "cell_type": "code",
   "execution_count": null,
   "id": "47",
   "metadata": {},
   "outputs": [],
   "source": [
    "pl.contourf(\n",
    "    np.arange(2004+1/24, 2024, 1/12),\n",
    "    era5_plev[1:],\n",
    "    era5_data[..., 15:30].mean(axis=(2,3)).T\n",
    ")\n",
    "ax = pl.gca()\n",
    "ax.set_ylim(ax.get_ylim()[::-1])\n",
    "pl.colorbar()"
   ]
  },
  {
   "cell_type": "code",
   "execution_count": null,
   "id": "48",
   "metadata": {},
   "outputs": [],
   "source": [
    "# climatology\n",
    "era5_data_20042021 = np.ma.masked_all((12, 11, 72, 45))\n",
    "for month in range(12):\n",
    "    era5_data_20042021[month, ...] = np.nanmean(era5_data[month:216:12, ...], axis=0)\n",
    "\n",
    "era5_data_2022 = np.ma.masked_all((12, 11, 72, 45))\n",
    "for month in range(12):\n",
    "    era5_data_2022[month, ...] = era5_data[month+216, ...]\n",
    "\n",
    "era5_data_2023 = np.ma.masked_all((12, 11, 72, 45))\n",
    "for month in range(12):\n",
    "    era5_data_2023[month, ...] = era5_data[month+228, ...]"
   ]
  },
  {
   "cell_type": "code",
   "execution_count": null,
   "id": "49",
   "metadata": {},
   "outputs": [],
   "source": [
    "era5_ds = xr.Dataset(\n",
    "    data_vars = dict(\n",
    "        h2o_mmr = ([\"time\", \"plev\", \"lat\", \"lon\"], era5_data.transpose(0,1,3,2))\n",
    "    ),\n",
    "    coords=dict(\n",
    "        lon=lon,\n",
    "        lat=lat,\n",
    "        time=np.arange(240),\n",
    "        plev = era5_plev[1:]\n",
    "    ),\n",
    ")"
   ]
  },
  {
   "cell_type": "code",
   "execution_count": null,
   "id": "50",
   "metadata": {},
   "outputs": [],
   "source": [
    "era5_ds.to_netcdf('../output/MLS_H2O.nc')"
   ]
  },
  {
   "cell_type": "code",
   "execution_count": null,
   "id": "51",
   "metadata": {},
   "outputs": [],
   "source": [
    "lon"
   ]
  },
  {
   "cell_type": "code",
   "execution_count": null,
   "id": "52",
   "metadata": {},
   "outputs": [],
   "source": [
    "lat"
   ]
  },
  {
   "cell_type": "code",
   "execution_count": null,
   "id": "53",
   "metadata": {},
   "outputs": [],
   "source": []
  }
 ],
 "metadata": {
  "kernelspec": {
   "display_name": "Python 3 (ipykernel)",
   "language": "python",
   "name": "python3"
  },
  "language_info": {
   "codemirror_mode": {
    "name": "ipython",
    "version": 3
   },
   "file_extension": ".py",
   "mimetype": "text/x-python",
   "name": "python",
   "nbconvert_exporter": "python",
   "pygments_lexer": "ipython3",
   "version": "3.12.2"
  }
 },
 "nbformat": 4,
 "nbformat_minor": 5
}
