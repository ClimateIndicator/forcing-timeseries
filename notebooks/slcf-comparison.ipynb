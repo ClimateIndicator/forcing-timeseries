{
 "cells": [
  {
   "cell_type": "code",
   "execution_count": null,
   "id": "0",
   "metadata": {},
   "outputs": [],
   "source": [
    "import numpy as np\n",
    "import pandas as pd\n",
    "import matplotlib.pyplot as pl\n",
    "\n",
    "import os"
   ]
  },
  {
   "cell_type": "code",
   "execution_count": null,
   "id": "1",
   "metadata": {},
   "outputs": [],
   "source": [
    "pl.rcParams['figure.figsize'] = (14/2.54, 22/2.54)\n",
    "pl.rcParams['font.size'] = 7\n",
    "pl.rcParams['font.family'] = 'Arial'\n",
    "pl.rcParams['xtick.direction'] = 'out'\n",
    "pl.rcParams['xtick.minor.visible'] = True\n",
    "#pl.rcParams['ytick.major.left'] = True\n",
    "pl.rcParams['ytick.direction'] = 'out'\n",
    "pl.rcParams['ytick.minor.visible'] = True\n",
    "#pl.rcParams['ytick.major.size'] = 0\n",
    "pl.rcParams['xtick.top'] = True\n",
    "pl.rcParams['ytick.right'] = True\n",
    "pl.rcParams['figure.dpi'] = 150"
   ]
  },
  {
   "cell_type": "code",
   "execution_count": null,
   "id": "2",
   "metadata": {},
   "outputs": [],
   "source": [
    "indicators2023 = pd.read_csv('../output/slcf_emissions_1750-2023.csv', index_col=0)"
   ]
  },
  {
   "cell_type": "code",
   "execution_count": null,
   "id": "3",
   "metadata": {},
   "outputs": [],
   "source": [
    "indicators2022 = pd.read_csv('../data/slcf_emissions/indicators_2022/slcf_emissions_1750-2022.csv', index_col=0)"
   ]
  },
  {
   "cell_type": "code",
   "execution_count": null,
   "id": "4",
   "metadata": {},
   "outputs": [],
   "source": [
    "#cams_shipping\n",
    "\n",
    "ceds_so2_df = pd.read_csv(\n",
    "    f'../data/slcf_emissions/ceds/v20240401/SO2_CEDS_global_emissions_by_sector_v2024_04_01.csv'\n",
    ")\n",
    "ceds_so2_df.loc[ceds_so2_df['sector']=='1A3di_International-shipping'].sum()['X2000':].values / 1000\n",
    "cams_df = pd.read_csv('../data/slcf_emissions/cams/cams-glob-ship-anthro-so.csv', index_col=0)\n",
    "#cams_df[:, 'Total'] = \n",
    "cams_df['Total'] = cams_df.loc[:, 'SO2'] + 96.06/64.066 * cams_df.loc[:, 'SO4']\n",
    "\n",
    "#cams_shipping = indicators2023.loc[2000:2023, 'SO2']\n",
    "\n",
    "cams_shipping = indicators2023.loc[2000:2022, 'SO2'] + cams_df['Total'] - ceds_so2_df.loc[ceds_so2_df['sector']=='1A3di_International-shipping'].sum()['X2000':].values / 1000\n",
    "cams_shipping"
   ]
  },
  {
   "cell_type": "code",
   "execution_count": null,
   "id": "5",
   "metadata": {},
   "outputs": [],
   "source": [
    "fig, ax = pl.subplots(4,2)\n",
    "\n",
    "for ispec, specie in enumerate(indicators2023.columns):\n",
    "    row = ispec//2\n",
    "    col = ispec%2\n",
    "    ax[row, col].plot(np.arange(1950.5, 2023), indicators2022.loc[1950:, specie], label='Indicators 2022')\n",
    "    ax[row, col].plot(np.arange(1950.5, 2024), indicators2023.loc[1950:, specie], label='Indicators 2023')\n",
    "    if specie=='SO2':\n",
    "        ax[row, col].plot(np.arange(2000.5, 2023), cams_shipping.loc[2000:], label='Indicators 2023 + CAMS-GLOB-SHIP', zorder=-7)\n",
    "        ax[row, col].legend()\n",
    "    ax[row, col].set_xlim(1950, 2025)\n",
    "    ax[row, col].set_ylim(0, ax[row, col].get_ylim()[1])\n",
    "    ax[row, col].set_ylabel('Tg / yr')\n",
    "    ax[row, col].set_title(specie)\n",
    "ax[3,1].axis('off')\n",
    "fig.tight_layout()\n",
    "\n",
    "os.makedirs('../plots/', exist_ok=True)\n",
    "pl.savefig('../plots/slcf-comparison.png')\n",
    "pl.savefig('../plots/slcf-comparison.pdf')"
   ]
  },
  {
   "cell_type": "code",
   "execution_count": null,
   "id": "6",
   "metadata": {},
   "outputs": [],
   "source": []
  }
 ],
 "metadata": {
  "kernelspec": {
   "display_name": "Python 3 (ipykernel)",
   "language": "python",
   "name": "python3"
  },
  "language_info": {
   "codemirror_mode": {
    "name": "ipython",
    "version": 3
   },
   "file_extension": ".py",
   "mimetype": "text/x-python",
   "name": "python",
   "nbconvert_exporter": "python",
   "pygments_lexer": "ipython3",
   "version": "3.13.1"
  }
 },
 "nbformat": 4,
 "nbformat_minor": 5
}
