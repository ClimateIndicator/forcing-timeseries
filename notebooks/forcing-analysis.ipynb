{
 "cells": [
  {
   "cell_type": "markdown",
   "id": "e3c0c8a9",
   "metadata": {},
   "source": [
    "# Forcing reporting, analysis and processing\n",
    "\n",
    "Take the raw ERF probablistic ensemble and produce output needed by the DAMIP folks.\n",
    "\n",
    "1000 ensemble members of the 100,000:\n",
    "- all forcings\n",
    "- natural\n",
    "- well-mixed GHGs (does not include ozone or stratospheric water vapour)\n",
    "- other anthropogenic\n",
    "\n",
    "Stratospheric water vapour is not included in WMGHGs, as it appears the intention in DAMIP was to exclude it. From [Gillett et al. (2016)](https://gmd.copernicus.org/articles/9/3685/2016/gmd-9-3685-2016.pdf) (original emphasis):\n",
    "\n",
    "\"**hist-GHG**:  These  historical  greenhouse-gas-only  simulations  resemble  the  historical  simulations  but  instead  are forced by *well-mixed* greenhouse gas changes only, similarly to the CMIP5 historicalGHG experiment. historical, hist-nat,and hist-GHG will allow the attribution of observed climate change to natural, greenhouse gas, and other anthropogenic components.  Models  with  interactive  chemistry  schemes should  either  turn  off  the  chemistry  or  use  a  preindustrial climatology of stratospheric and tropospheric ozone in their radiation  schemes.\"\n",
    "\n",
    "Stratospheric water vapour from methane oxidation would only be produced in models with interactive chemistry, therefore the intention appears to be to exclude it from the definition of WMGHG."
   ]
  },
  {
   "cell_type": "code",
   "execution_count": null,
   "id": "377aa0a7",
   "metadata": {},
   "outputs": [],
   "source": [
    "import matplotlib.pyplot as pl\n",
    "import numpy as np\n",
    "import pandas as pd\n",
    "from tqdm.auto import tqdm\n",
    "import xarray as xr\n",
    "import json"
   ]
  },
  {
   "cell_type": "code",
   "execution_count": null,
   "id": "494b86d6",
   "metadata": {},
   "outputs": [],
   "source": [
    "ds = xr.load_dataset('../output/ERF_ensemble.nc')"
   ]
  },
  {
   "cell_type": "code",
   "execution_count": null,
   "id": "4553dc86",
   "metadata": {},
   "outputs": [],
   "source": [
    "variables = list(ds.keys())"
   ]
  },
  {
   "cell_type": "code",
   "execution_count": null,
   "id": "b67ed2cf",
   "metadata": {},
   "outputs": [],
   "source": [
    "df = pd.read_csv('../output/ERF_best_1750-2022.csv', index_col=0)"
   ]
  },
  {
   "cell_type": "code",
   "execution_count": null,
   "id": "fb3c6534",
   "metadata": {},
   "outputs": [],
   "source": [
    "#variables"
   ]
  },
  {
   "cell_type": "markdown",
   "id": "20413b3f",
   "metadata": {},
   "source": [
    "## Non-aggregated statistics\n",
    "\n",
    "2011, 2019 and 2022"
   ]
  },
  {
   "cell_type": "code",
   "execution_count": null,
   "id": "99c4207b",
   "metadata": {},
   "outputs": [],
   "source": [
    "for variable in [\n",
    "    'CO2', \n",
    "    'CH4', \n",
    "    'N2O', \n",
    "    'aerosol-radiation_interactions', \n",
    "    'aerosol-cloud_interactions', \n",
    "    'O3',\n",
    "    'contrails',\n",
    "    'land_use',\n",
    "    'BC_on_snow',\n",
    "    'H2O_stratospheric',\n",
    "    'solar'\n",
    "]:\n",
    "    print(variable, np.percentile(ds[variable].loc[dict(time=2022)], (5, 50, 95)), df.loc[2022, variable])"
   ]
  },
  {
   "cell_type": "markdown",
   "id": "14f2e303",
   "metadata": {},
   "source": [
    "## Aggregated categories"
   ]
  },
  {
   "cell_type": "code",
   "execution_count": null,
   "id": "dd14ef32",
   "metadata": {},
   "outputs": [],
   "source": [
    "total_best     = np.zeros((273))\n",
    "natural_best   = np.zeros((273))\n",
    "aerosol_best   = np.zeros((273))\n",
    "wmghg_best     = np.zeros((273))\n",
    "other_ant_best = np.zeros((273))\n",
    "halogen_best   = np.zeros((273))\n",
    "\n",
    "for variable in tqdm(variables):\n",
    "    #print(variable)\n",
    "    total_best = total_best + df[variable]\n",
    "    if variable in ['solar', 'volcanic']:\n",
    "        natural_best = natural_best + df[variable]\n",
    "    elif variable not in [\n",
    "        'aerosol-radiation_interactions', 'aerosol-cloud_interactions',\n",
    "        'O3', 'H2O_stratospheric', 'contrails', 'BC_on_snow', 'land_use'\n",
    "    ]:\n",
    "        wmghg_best = wmghg_best + df[variable]\n",
    "    else:\n",
    "        other_ant_best = other_ant_best + df[variable]\n",
    "    if variable not in ['solar', 'volcanic', 'aerosol-radiation_interactions', 'aerosol-cloud_interactions',\n",
    "        'O3', 'H2O_stratospheric', 'contrails', 'BC_on_snow', 'land_use', 'CO2', 'CH4', 'N2O']:\n",
    "        halogen_best = halogen_best + df[variable]\n",
    "    if variable in ['aerosol-radiation_interactions', 'aerosol-cloud_interactions']:\n",
    "        aerosol_best = aerosol_best + df[variable]\n",
    "type(total_best)"
   ]
  },
  {
   "cell_type": "code",
   "execution_count": null,
   "id": "4ba8fe49",
   "metadata": {},
   "outputs": [],
   "source": [
    "df_out = pd.concat(\n",
    "    [\n",
    "        total_best, natural_best, total_best-natural_best, wmghg_best, other_ant_best\n",
    "    ], axis=1\n",
    ")\n",
    "df_out.columns = ['total', 'natural', 'anthropogenic', 'wmghgs', 'other_ant']\n",
    "df_out.to_csv('../output/ERF_best_DAMIP_1750-2022.csv')"
   ]
  },
  {
   "cell_type": "code",
   "execution_count": null,
   "id": "abc5c3aa",
   "metadata": {},
   "outputs": [],
   "source": [
    "total     = np.zeros((273, 100000))\n",
    "natural   = np.zeros((273, 100000))\n",
    "aerosol   = np.zeros((273, 100000))\n",
    "wmghg     = np.zeros((273, 100000))\n",
    "other_ant = np.zeros((273, 100000))\n",
    "halogen   = np.zeros((273, 100000))\n",
    "\n",
    "for variable in tqdm(variables):\n",
    "    #print(variable)\n",
    "    total = total + ds[variable]\n",
    "    if variable in ['solar', 'volcanic']:\n",
    "        natural = natural + ds[variable]\n",
    "    elif variable not in [\n",
    "        'aerosol-radiation_interactions', 'aerosol-cloud_interactions',\n",
    "        'O3', 'H2O_stratospheric', 'contrails', 'BC_on_snow', 'land_use'\n",
    "    ]:\n",
    "        wmghg = wmghg + ds[variable]\n",
    "    else:\n",
    "        other_ant = other_ant + ds[variable]\n",
    "    if variable not in ['solar', 'volcanic', 'aerosol-radiation_interactions', 'aerosol-cloud_interactions',\n",
    "        'O3', 'H2O_stratospheric', 'contrails', 'BC_on_snow', 'land_use', 'CO2', 'CH4', 'N2O']:\n",
    "        halogen = halogen + ds[variable]\n",
    "    if variable in ['aerosol-radiation_interactions', 'aerosol-cloud_interactions']:\n",
    "        aerosol = aerosol + ds[variable]"
   ]
  },
  {
   "cell_type": "markdown",
   "id": "d7ed4694",
   "metadata": {},
   "source": [
    "## Show shape matters"
   ]
  },
  {
   "cell_type": "code",
   "execution_count": null,
   "id": "1b412c76",
   "metadata": {},
   "outputs": [],
   "source": [
    "pl.plot(np.arange(1750, 2023), aerosol[:, :7]);"
   ]
  },
  {
   "cell_type": "code",
   "execution_count": null,
   "id": "c938bc28",
   "metadata": {},
   "outputs": [],
   "source": [
    "print('halogen', np.percentile(halogen[-1,:], (5, 50, 95)), halogen_best[2022])"
   ]
  },
  {
   "cell_type": "code",
   "execution_count": null,
   "id": "4edf7828",
   "metadata": {},
   "outputs": [],
   "source": [
    "# total     = np.zeros((273, 100000))\n",
    "# natural   = np.zeros((273, 100000))\n",
    "# aerosol   = np.zeros((273, 100000))\n",
    "# wmghg     = np.zeros((273, 100000))\n",
    "# other_ant = np.zeros((273, 100000)) \n",
    "\n",
    "print('total:        ', np.percentile(total[-1, :], (5, 50, 95)))\n",
    "print('anthropogenic:', np.percentile(total[-1, :]-natural[-1, :], (5, 50, 95)))\n",
    "print('natural:      ', np.percentile(natural[-1, :], (5, 50, 95)))\n",
    "print('aerosol:      ', np.percentile(aerosol[-1, :], (5, 50, 95)))\n",
    "print('wmghg:        ', np.percentile(wmghg[-1, :], (5, 50, 95)))\n",
    "print('other_ant:    ', np.percentile(other_ant[-1, :], (5, 50, 95)))"
   ]
  },
  {
   "cell_type": "code",
   "execution_count": null,
   "id": "af333b84",
   "metadata": {},
   "outputs": [],
   "source": [
    "3.62584923 - 2.918055\n",
    "2.918055 - 2.19621845"
   ]
  },
  {
   "cell_type": "code",
   "execution_count": null,
   "id": "435258a7",
   "metadata": {},
   "outputs": [],
   "source": [
    "# pick 1000 for export\n",
    "with open('../data/random_seeds.json') as f:\n",
    "    seeds = json.load(f)"
   ]
  },
  {
   "cell_type": "code",
   "execution_count": null,
   "id": "335a8fb8",
   "metadata": {},
   "outputs": [],
   "source": [
    "np.random.seed(seeds[99])\n",
    "subset = np.random.choice(np.arange(100000), 1000, replace=False)"
   ]
  },
  {
   "cell_type": "code",
   "execution_count": null,
   "id": "15f60950",
   "metadata": {},
   "outputs": [],
   "source": [
    "print('total:        ', np.percentile(total[-1, subset], (5, 50, 95)))\n",
    "print('anthropogenic:', np.percentile(total[-1, subset]-natural[-1, subset], (5, 50, 95)))\n",
    "print('natural:      ', np.percentile(natural[-1, subset], (5, 50, 95)))\n",
    "print('aerosol:      ', np.percentile(aerosol[-1, subset], (5, 50, 95)))\n",
    "print('wmghg:        ', np.percentile(wmghg[-1, subset], (5, 50, 95)))\n",
    "print('other_ant:    ', np.percentile(other_ant[-1, subset], (5, 50, 95)))"
   ]
  },
  {
   "cell_type": "code",
   "execution_count": null,
   "id": "d02a0765",
   "metadata": {},
   "outputs": [],
   "source": [
    "xr.Dataset(\n",
    "    {\n",
    "        'total': total[:, subset],\n",
    "        'natural': natural[:, subset],\n",
    "        'wmghg': wmghg[:, subset],\n",
    "        'other_ant': other_ant[:, subset]\n",
    "    }\n",
    ").to_netcdf('../output/ERF_DAMIP_1000.nc')"
   ]
  },
  {
   "cell_type": "code",
   "execution_count": null,
   "id": "31924f87",
   "metadata": {},
   "outputs": [],
   "source": [
    "ds.close()"
   ]
  },
  {
   "cell_type": "code",
   "execution_count": null,
   "id": "f82bbb8c",
   "metadata": {},
   "outputs": [],
   "source": []
  }
 ],
 "metadata": {
  "kernelspec": {
   "display_name": "Python 3 (ipykernel)",
   "language": "python",
   "name": "python3"
  },
  "language_info": {
   "codemirror_mode": {
    "name": "ipython",
    "version": 3
   },
   "file_extension": ".py",
   "mimetype": "text/x-python",
   "name": "python",
   "nbconvert_exporter": "python",
   "pygments_lexer": "ipython3",
   "version": "3.11.3"
  }
 },
 "nbformat": 4,
 "nbformat_minor": 5
}
