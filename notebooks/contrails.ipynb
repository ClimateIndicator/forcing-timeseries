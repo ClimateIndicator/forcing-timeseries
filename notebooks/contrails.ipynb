{
 "cells": [
  {
   "cell_type": "markdown",
   "id": "0",
   "metadata": {},
   "source": [
    "# Contrails and contrail cirrus\n",
    "\n",
    "Basic method follows [Lee et al. (2020)](https://www.sciencedirect.com/science/article/pii/S1352231020305689). We extend beyond the end of the Lee assessment (2018) by using:\n",
    "\n",
    "- IEA World Oil Statistics, Edition 2023, for World region and the sum of DAVGAS, DJETGAS and DJETKERO. Data available until 2021. This is paywalled data so we do not include it in the repository. It is from https://doi.org/10.1787/218759da-en.\n",
    "\n",
    "- IATA (2023), aviation fuel use, table 6 of https://www.iata.org/en/iata-repository/publications/economic-reports/global-outlook-for-air-transport---december-2023---report/. This data is available to 2023 as an estimate and 2024 as a projection. It could fully replace the IEA data, but we continue to use IEA to follow Lee."
   ]
  },
  {
   "cell_type": "markdown",
   "id": "1",
   "metadata": {},
   "source": [
    "## recipe\n",
    "1. read in Lee spreadsheet\n",
    "2. derive contrails per kilogram fuel burn\n",
    "3. calculate IEA factor offline and apply - read in this time series\n",
    "4. apply factor to IATA data\n",
    "5. check overlaps and construct time series"
   ]
  },
  {
   "cell_type": "code",
   "execution_count": null,
   "id": "2",
   "metadata": {},
   "outputs": [],
   "source": [
    "import numpy as np\n",
    "import pandas as pd"
   ]
  },
  {
   "cell_type": "code",
   "execution_count": null,
   "id": "3",
   "metadata": {},
   "outputs": [],
   "source": [
    "iata_fuel = pd.DataFrame(np.array([359, 196, 236, 292, 357, 377])*1e9, index=np.arange(2019, 2025), columns=['Aviation fuel, litres'])"
   ]
  },
  {
   "cell_type": "code",
   "execution_count": null,
   "id": "4",
   "metadata": {},
   "outputs": [],
   "source": [
    "iata_fuel"
   ]
  },
  {
   "cell_type": "code",
   "execution_count": null,
   "id": "5",
   "metadata": {},
   "outputs": [],
   "source": []
  }
 ],
 "metadata": {
  "kernelspec": {
   "display_name": "Python 3 (ipykernel)",
   "language": "python",
   "name": "python3"
  },
  "language_info": {
   "codemirror_mode": {
    "name": "ipython",
    "version": 3
   },
   "file_extension": ".py",
   "mimetype": "text/x-python",
   "name": "python",
   "nbconvert_exporter": "python",
   "pygments_lexer": "ipython3",
   "version": "3.12.2"
  }
 },
 "nbformat": 4,
 "nbformat_minor": 5
}
