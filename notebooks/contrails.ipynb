{
 "cells": [
  {
   "cell_type": "markdown",
   "id": "0",
   "metadata": {},
   "source": [
    "# Contrails and contrail cirrus\n",
    "\n",
    "Basic method follows [Lee et al. (2020)](https://www.sciencedirect.com/science/article/pii/S1352231020305689). We extend beyond the end of the Lee assessment (2018) by using:\n",
    "\n",
    "- Lee et al. (2020); there is a supplementary Excel dataset that details all of the calculations, including the conversion between distance travelled and contrail radiative forcing (a constant value); the nub is therefore extracting the distance travelled from post-2018 data. We have fule consumption estimates as follows:\n",
    "\n",
    "- Sausen and Schumann (2000) for the 1940-1970 period.\n",
    "  \n",
    "- IEA World Oil Statistics, Edition 2023, for World region and the sum of DAVGAS, DJETGAS and DJETKERO. We use data for 1971-2021. This is paywalled data so we do not include it in the repository. It is from https://doi.org/10.1787/218759da-en.\n",
    "\n",
    "- IATA (2023), aviation fuel use, table 6 of https://www.iata.org/en/iata-repository/publications/economic-reports/global-outlook-for-air-transport---december-2023---report/. This data is available to 2023 as an estimate and 2024 as a projection. It could fully replace the IEA data, but we continue to use IEA to follow Lee."
   ]
  },
  {
   "cell_type": "markdown",
   "id": "1",
   "metadata": {},
   "source": [
    "In Lee et al. (2020), contrail ERF is calculated as:\n",
    "\n",
    "distance (km) * scale factor (1.17) * contrail forcing per km (see below)\n",
    "\n",
    "The scale factor converts horizontal distance travelled to 3D distance.\n",
    "\n",
    "Lee et al assume a constant fuel consumption (CO2 emission per fuel burn) of 3.16 kgCO2 per kg fuel\n",
    "\n",
    "From Wiki (https://en.wikipedia.org/wiki/Aviation_fuel) I get 0.81 kg/L (accessed 2024-02-27)\n",
    "\n",
    "RPKs, ASKs and distances from https://www.airlines.org/dataset/world-airlines-traffic-and-capacity/ for 1950-2021"
   ]
  },
  {
   "cell_type": "markdown",
   "id": "2",
   "metadata": {},
   "source": [
    "## recipe\n",
    "1. read in Lee spreadsheet\n",
    "2. derive contrails per kilogram fuel burn\n",
    "3. calculate IEA factor offline and apply - read in this time series\n",
    "4. apply factor to IATA data\n",
    "5. check overlaps and construct time series"
   ]
  },
  {
   "cell_type": "code",
   "execution_count": null,
   "id": "3",
   "metadata": {},
   "outputs": [],
   "source": [
    "import numpy as np\n",
    "import pandas as pd\n",
    "import matplotlib.pyplot as pl"
   ]
  },
  {
   "cell_type": "code",
   "execution_count": null,
   "id": "4",
   "metadata": {},
   "outputs": [],
   "source": [
    "kg_co2_per_kg_fuel = 3.16"
   ]
  },
  {
   "cell_type": "code",
   "execution_count": null,
   "id": "5",
   "metadata": {},
   "outputs": [],
   "source": [
    "iata = pd.DataFrame(np.array([359, 196, 236, 292, 357, 377])*1e9, index=pd.Index(np.arange(2019, 2025), name='year'), columns=['Aviation fuel, litres'])"
   ]
  },
  {
   "cell_type": "code",
   "execution_count": null,
   "id": "6",
   "metadata": {},
   "outputs": [],
   "source": [
    "iata"
   ]
  },
  {
   "cell_type": "code",
   "execution_count": null,
   "id": "7",
   "metadata": {},
   "outputs": [],
   "source": [
    "# according to Wiki, aviation fuel has a density of around 0.81 kg/L, so convert to kilograms\n",
    "kg_per_litre = 0.81\n",
    "iata['Aviation fuel, kg'] = iata['Aviation fuel, litres'] * kg_per_litre\n",
    "iata['Aviation emissions, MtCO2/yr'] = iata['Aviation fuel, kg'] * kg_co2_per_kg_fuel / 1e9\n",
    "iata"
   ]
  },
  {
   "cell_type": "code",
   "execution_count": null,
   "id": "8",
   "metadata": {},
   "outputs": [],
   "source": [
    "iea_fuel_raw = pd.read_csv('../data/contrails/OIWORLD-2023-1-EN-20231014T121149.csv')"
   ]
  },
  {
   "cell_type": "code",
   "execution_count": null,
   "id": "9",
   "metadata": {},
   "outputs": [],
   "source": [
    "iea = np.zeros(2022-1971)\n",
    "for iyear, year in enumerate(range(1971, 2022)):\n",
    "    iea[iyear] = iea_fuel_raw[iea_fuel_raw[\"TIME\"]==year].Value.sum()"
   ]
  },
  {
   "cell_type": "code",
   "execution_count": null,
   "id": "10",
   "metadata": {},
   "outputs": [],
   "source": [
    "iea = pd.DataFrame(iea, index=pd.Index(np.arange(1971, 2022), name='year'), columns=['Aviation fuel, kilotons'])\n",
    "iea['Aviation fuel, kg'] = iea['Aviation fuel, kilotons'] * 1e6\n",
    "iea['Aviation emissions, MtCO2/yr'] = iea['Aviation fuel, kg'] * kg_co2_per_kg_fuel / 1e9\n",
    "iea"
   ]
  },
  {
   "cell_type": "code",
   "execution_count": null,
   "id": "11",
   "metadata": {},
   "outputs": [],
   "source": [
    "sausen_schumann = pd.read_csv('../data/contrails/sausen_schumann_co2.csv', index_col=0)"
   ]
  },
  {
   "cell_type": "code",
   "execution_count": null,
   "id": "12",
   "metadata": {},
   "outputs": [],
   "source": [
    "sausen_schumann"
   ]
  },
  {
   "cell_type": "code",
   "execution_count": null,
   "id": "13",
   "metadata": {},
   "outputs": [],
   "source": [
    "# make a column in CO2 units, which is comparible directly to Lee et al.\n",
    "sausen_schumann['Aviation emissions, MtCO2/yr'] = sausen_schumann['aviation_emissions_teragrams_carbon'] * 3.664\n",
    "sausen_schumann"
   ]
  },
  {
   "cell_type": "code",
   "execution_count": null,
   "id": "14",
   "metadata": {},
   "outputs": [],
   "source": [
    "lee2020 = pd.read_csv('../data/contrails/lee2020_clean_data.csv', index_col=0)\n",
    "lee2020.rename(columns={'CO2 Tg/yr': 'Aviation emissions, MtCO2/yr'}, inplace=True)"
   ]
  },
  {
   "cell_type": "code",
   "execution_count": null,
   "id": "15",
   "metadata": {},
   "outputs": [],
   "source": [
    "pl.plot(sausen_schumann['Aviation emissions, MtCO2/yr'])\n",
    "pl.plot(iea['Aviation emissions, MtCO2/yr'])\n",
    "pl.plot(lee2020['Aviation emissions, MtCO2/yr'])\n",
    "pl.plot(iata['Aviation emissions, MtCO2/yr'])"
   ]
  },
  {
   "cell_type": "code",
   "execution_count": null,
   "id": "16",
   "metadata": {},
   "outputs": [],
   "source": [
    "constructed_emissions = pd.DataFrame(np.ones(94)*np.nan, index=pd.Index(np.arange(1930, 2024), name='year'), columns=['MtCO2/yr'])"
   ]
  },
  {
   "cell_type": "code",
   "execution_count": null,
   "id": "17",
   "metadata": {},
   "outputs": [],
   "source": [
    "constructed_emissions.loc[1940:1970, 'MtCO2/yr'] = sausen_schumann.loc[1940:1970, 'Aviation emissions, MtCO2/yr']\n",
    "constructed_emissions.loc[1971:2021, 'MtCO2/yr'] = iea.loc[1971:2021, 'Aviation emissions, MtCO2/yr']\n",
    "constructed_emissions.loc[2022:2023, 'MtCO2/yr'] = iata.loc[2022:2023, 'Aviation emissions, MtCO2/yr']\n",
    "constructed_emissions.loc[1930, 'MtCO2/yr'] = 0\n",
    "constructed_emissions.interpolate(inplace=True)"
   ]
  },
  {
   "cell_type": "code",
   "execution_count": null,
   "id": "18",
   "metadata": {},
   "outputs": [],
   "source": [
    "pl.plot(constructed_emissions)"
   ]
  },
  {
   "cell_type": "code",
   "execution_count": null,
   "id": "19",
   "metadata": {},
   "outputs": [],
   "source": [
    "pl.plot(lee2020['Scaled distance million km']/lee2020['Aviation emissions, MtCO2/yr']/ 1000)\n",
    "pl.title('Fuel efficiency')\n",
    "pl.ylabel('km / kgCO2')"
   ]
  },
  {
   "cell_type": "code",
   "execution_count": null,
   "id": "20",
   "metadata": {},
   "outputs": [],
   "source": [
    "constructed_efficiency = pd.DataFrame(np.ones(94) * np.nan, index=pd.Index(np.arange(1930, 2024), name='year'), columns=['km / kgCO2'])\n",
    "constructed_efficiency.loc[1990:2018, 'km / kgCO2'] = lee2020['Scaled distance million km']/lee2020['Aviation emissions, MtCO2/yr']/ 1000\n",
    "#constructed_efficiency[2019] = \n",
    "# For 2019 to 2021, take estimates of distance from https://www.airlines.org/dataset/world-airlines-traffic-and-capacity/\n",
    "# scale up by 1.17 as in Lee\n",
    "constructed_efficiency.loc[2019, 'km / kgCO2'] = 1.17 * 56199 / iea.loc[2019, 'Aviation emissions, MtCO2/yr'] / 1000\n",
    "constructed_efficiency.loc[2020, 'km / kgCO2'] = 1.17 * 28013 / iea.loc[2020, 'Aviation emissions, MtCO2/yr'] / 1000\n",
    "constructed_efficiency.loc[2021, 'km / kgCO2'] = 1.17 * 33705 / iea.loc[2021, 'Aviation emissions, MtCO2/yr'] / 1000\n",
    "\n",
    "# for 2022 and 2023, we have no better means than using 2021 data. But really, we'd expect efficiency to improve, since there were probably\n",
    "# fewer half-empty planes after COVID.\n",
    "constructed_efficiency.loc[2022:2023, 'km / kgCO2'] = constructed_efficiency.loc[2021, 'km / kgCO2']"
   ]
  },
  {
   "cell_type": "markdown",
   "id": "21",
   "metadata": {},
   "source": [
    "Now try to port this backwards\n",
    "\n",
    "Lee et al: \"Aviation transport efficiency has improved by approximately eightfold since 1960\". I know this is based on RPKs rather than actual kilometers.\n",
    "\n",
    "According to https://www.airlines.org/dataset/world-airlines-traffic-and-capacity/, capacity increased from about 60% in 1960 to about 80% in 2018/2019.\n",
    "\n",
    "So 1/3 of the improvement is due to increasing capacity, and 2/3 * 8 is due to aircraft efficiency."
   ]
  },
  {
   "cell_type": "code",
   "execution_count": null,
   "id": "22",
   "metadata": {},
   "outputs": [],
   "source": [
    "constructed_efficiency.loc[1990, 'km / kgCO2'] / constructed_efficiency.loc[2018, 'km / kgCO2']"
   ]
  },
  {
   "cell_type": "code",
   "execution_count": null,
   "id": "23",
   "metadata": {},
   "outputs": [],
   "source": [
    "constructed_efficiency.loc[1960, 'km / kgCO2'] = constructed_efficiency.loc[2018, 'km / kgCO2'] / (8 * 2/3)\n",
    "constructed_efficiency.loc[1930, 'km / kgCO2'] = constructed_efficiency.loc[1960, 'km / kgCO2']\n",
    "#constructed_efficiency.loc[1989, 'km / kgCO2'] = constructed_efficiency.loc[2018, 'km / kgCO2'] * 9/16\n",
    "constructed_efficiency.interpolate(inplace=True)"
   ]
  },
  {
   "cell_type": "code",
   "execution_count": null,
   "id": "24",
   "metadata": {},
   "outputs": [],
   "source": [
    "pl.plot(constructed_efficiency)"
   ]
  },
  {
   "cell_type": "code",
   "execution_count": null,
   "id": "25",
   "metadata": {},
   "outputs": [],
   "source": [
    "constructed_efficiency"
   ]
  },
  {
   "cell_type": "code",
   "execution_count": null,
   "id": "26",
   "metadata": {},
   "outputs": [],
   "source": [
    "constructed_scaled_distance = pd.DataFrame(np.ones(94) * np.nan, index=pd.Index(np.arange(1930, 2024), name='year'), columns=['Scaled distance, km'])\n",
    "constructed_scaled_distance.loc[1930:2023, 'Scaled distance, km'] = (constructed_emissions.values * constructed_efficiency.values).squeeze() * 1e9\n",
    "pl.plot(constructed_scaled_distance)"
   ]
  },
  {
   "cell_type": "code",
   "execution_count": null,
   "id": "27",
   "metadata": {},
   "outputs": [],
   "source": [
    "lee_conversion_km_to_contrail_erf = 9.3595037832885E-13  # cell J73 of supplementary Excel, divide by 1000 to convert milliwatts to watts"
   ]
  },
  {
   "cell_type": "code",
   "execution_count": null,
   "id": "28",
   "metadata": {},
   "outputs": [],
   "source": [
    "# Do we keep the 2018 value in Lee (0.0574) by scaling this, or use the slightly newer data from IEA? TBF it is the same to 3 d.p.\n",
    "constructed_scaled_distance.loc[2018, 'Scaled distance, km'] * lee_conversion_km_to_contrail_erf"
   ]
  },
  {
   "cell_type": "code",
   "execution_count": null,
   "id": "29",
   "metadata": {},
   "outputs": [],
   "source": [
    "# contrail forcing ERF\n",
    "contrails_erf = pd.DataFrame(np.ones(94) * np.nan, index=pd.Index(np.arange(1930, 2024), name='year'), columns=['Contrails ERF, W/m2'])\n",
    "contrails_erf.loc[1930:2023, 'Contrails ERF, W/m2'] = (constructed_scaled_distance * lee_conversion_km_to_contrail_erf).values.squeeze()\n",
    "\n",
    "pl.plot(contrails_erf)"
   ]
  },
  {
   "cell_type": "code",
   "execution_count": null,
   "id": "30",
   "metadata": {},
   "outputs": [],
   "source": [
    "contrails_erf.to_csv('../output/contrails_ERF_1930-2023.csv')"
   ]
  },
  {
   "cell_type": "code",
   "execution_count": null,
   "id": "31",
   "metadata": {},
   "outputs": [],
   "source": []
  }
 ],
 "metadata": {
  "kernelspec": {
   "display_name": "Python 3 (ipykernel)",
   "language": "python",
   "name": "python3"
  },
  "language_info": {
   "codemirror_mode": {
    "name": "ipython",
    "version": 3
   },
   "file_extension": ".py",
   "mimetype": "text/x-python",
   "name": "python",
   "nbconvert_exporter": "python",
   "pygments_lexer": "ipython3",
   "version": "3.12.2"
  }
 },
 "nbformat": 4,
 "nbformat_minor": 5
}
